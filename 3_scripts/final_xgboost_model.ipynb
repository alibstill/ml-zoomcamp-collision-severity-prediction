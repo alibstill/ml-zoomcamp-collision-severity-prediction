{
 "cells": [
  {
   "cell_type": "markdown",
   "id": "6a91a82f-dd16-42cc-9a78-503346847d0b",
   "metadata": {},
   "source": [
    "# Final XGBoost model"
   ]
  },
  {
   "cell_type": "code",
   "execution_count": 16,
   "id": "430687d1-08a6-4f33-94ab-11688f5f3fe8",
   "metadata": {},
   "outputs": [],
   "source": [
    "import pandas as pd\n",
    "import numpy as np\n",
    "from sklearn.model_selection import train_test_split, KFold\n",
    "from sklearn.feature_extraction import DictVectorizer\n",
    "from sklearn.metrics import roc_auc_score\n",
    "import xgboost as xgb\n",
    "from tqdm.auto import tqdm\n",
    "import pickle"
   ]
  },
  {
   "cell_type": "markdown",
   "id": "95b53945-7b0e-4939-b5ee-043ecfb46fcf",
   "metadata": {},
   "source": [
    "## Background\n",
    "\n",
    "In a previous step I trained and tuned 3 different models and found that the best performer was the XGBoost model tuned with the following variables:\n",
    "\n",
    "- num_boost_round_final = 43\n",
    "- eta_final = 0.3\n",
    "- max_depth_final = 4\n",
    "- min_child_weight_final=5\n",
    "\n",
    "I retrain this model here for ease of reproducibility (some of the steps in the training notebook where I try to find the ideal parameters) can take time. This is faster to run."
   ]
  },
  {
   "cell_type": "code",
   "execution_count": 17,
   "id": "7893446d-e8f4-4088-8133-fc979a8c0852",
   "metadata": {},
   "outputs": [
    {
     "data": {
      "text/html": [
       "<div>\n",
       "<style scoped>\n",
       "    .dataframe tbody tr th:only-of-type {\n",
       "        vertical-align: middle;\n",
       "    }\n",
       "\n",
       "    .dataframe tbody tr th {\n",
       "        vertical-align: top;\n",
       "    }\n",
       "\n",
       "    .dataframe thead th {\n",
       "        text-align: right;\n",
       "    }\n",
       "</style>\n",
       "<table border=\"1\" class=\"dataframe\">\n",
       "  <thead>\n",
       "    <tr style=\"text-align: right;\">\n",
       "      <th></th>\n",
       "      <th>police_force</th>\n",
       "      <th>number_of_vehicles</th>\n",
       "      <th>day_of_week</th>\n",
       "      <th>time</th>\n",
       "      <th>first_road_class</th>\n",
       "      <th>road_type</th>\n",
       "      <th>speed_limit</th>\n",
       "      <th>light_conditions</th>\n",
       "      <th>weather_conditions</th>\n",
       "      <th>road_surface_conditions</th>\n",
       "      <th>is_severe</th>\n",
       "      <th>month</th>\n",
       "      <th>day_of_year</th>\n",
       "      <th>is_trunk</th>\n",
       "      <th>is_near_pedestrian_crossing</th>\n",
       "      <th>is_urban</th>\n",
       "      <th>has_special_conditions_at_site</th>\n",
       "      <th>is_carriageway_hazard</th>\n",
       "      <th>is_near_junction</th>\n",
       "    </tr>\n",
       "  </thead>\n",
       "  <tbody>\n",
       "    <tr>\n",
       "      <th>0</th>\n",
       "      <td>metropolitan_police</td>\n",
       "      <td>1</td>\n",
       "      <td>sunday</td>\n",
       "      <td>01:00</td>\n",
       "      <td>c</td>\n",
       "      <td>one_way_street</td>\n",
       "      <td>20</td>\n",
       "      <td>darkness___lights_lit</td>\n",
       "      <td>other_adverse_weather_condition</td>\n",
       "      <td>wet_or_damp</td>\n",
       "      <td>0</td>\n",
       "      <td>january</td>\n",
       "      <td>1</td>\n",
       "      <td>0</td>\n",
       "      <td>1</td>\n",
       "      <td>1</td>\n",
       "      <td>0</td>\n",
       "      <td>0</td>\n",
       "      <td>1</td>\n",
       "    </tr>\n",
       "    <tr>\n",
       "      <th>1</th>\n",
       "      <td>metropolitan_police</td>\n",
       "      <td>3</td>\n",
       "      <td>sunday</td>\n",
       "      <td>02:00</td>\n",
       "      <td>unclassified</td>\n",
       "      <td>single_carriageway</td>\n",
       "      <td>30</td>\n",
       "      <td>darkness___lights_lit</td>\n",
       "      <td>fine_no_high_winds</td>\n",
       "      <td>dry</td>\n",
       "      <td>0</td>\n",
       "      <td>january</td>\n",
       "      <td>1</td>\n",
       "      <td>0</td>\n",
       "      <td>1</td>\n",
       "      <td>1</td>\n",
       "      <td>0</td>\n",
       "      <td>0</td>\n",
       "      <td>1</td>\n",
       "    </tr>\n",
       "  </tbody>\n",
       "</table>\n",
       "</div>"
      ],
      "text/plain": [
       "          police_force  number_of_vehicles day_of_week   time  \\\n",
       "0  metropolitan_police                   1      sunday  01:00   \n",
       "1  metropolitan_police                   3      sunday  02:00   \n",
       "\n",
       "  first_road_class           road_type  speed_limit       light_conditions  \\\n",
       "0                c      one_way_street           20  darkness___lights_lit   \n",
       "1     unclassified  single_carriageway           30  darkness___lights_lit   \n",
       "\n",
       "                weather_conditions road_surface_conditions  is_severe  \\\n",
       "0  other_adverse_weather_condition             wet_or_damp          0   \n",
       "1               fine_no_high_winds                     dry          0   \n",
       "\n",
       "     month  day_of_year  is_trunk  is_near_pedestrian_crossing  is_urban  \\\n",
       "0  january            1         0                            1         1   \n",
       "1  january            1         0                            1         1   \n",
       "\n",
       "   has_special_conditions_at_site  is_carriageway_hazard  is_near_junction  \n",
       "0                               0                      0                 1  \n",
       "1                               0                      0                 1  "
      ]
     },
     "execution_count": 17,
     "metadata": {},
     "output_type": "execute_result"
    }
   ],
   "source": [
    "df_collision = pd.read_csv(\"data/collisions_final.csv\")\n",
    "df_collision.head(2)"
   ]
  },
  {
   "cell_type": "markdown",
   "id": "9e39c78f-0ead-4e12-afe8-21d415789ada",
   "metadata": {},
   "source": [
    "## Prepare data"
   ]
  },
  {
   "cell_type": "code",
   "execution_count": 18,
   "id": "10e7cd3b-4837-48c4-b81d-04b44a77680d",
   "metadata": {},
   "outputs": [],
   "source": [
    "df_full_train, df_test = train_test_split(df_collision, test_size=0.2, random_state=11)\n",
    "df_train, df_val = train_test_split(df_full_train, test_size=0.25, random_state=11)\n",
    "\n",
    "df_train = df_train.reset_index(drop=True)\n",
    "df_val = df_val.reset_index(drop=True)\n",
    "df_test = df_test.reset_index(drop=True)\n",
    "\n",
    "y_train = df_train[\"is_severe\"].values\n",
    "y_val = df_val[\"is_severe\"].values\n",
    "y_test = df_test[\"is_severe\"].values\n",
    "\n",
    "del df_train[\"is_severe\"]\n",
    "del df_val[\"is_severe\"]\n",
    "del df_test[\"is_severe\"]"
   ]
  },
  {
   "cell_type": "code",
   "execution_count": 19,
   "id": "faa5ce84-c89b-45a1-a11c-d9027f35e363",
   "metadata": {},
   "outputs": [],
   "source": [
    "def train(df_training, y_training, eta=0.3, max_depth=4, min_child_weight=5, num_boost_round=43):\n",
    "    \"\"\"Train the dataset\n",
    "    \n",
    "    Parameters\n",
    "    ---------\n",
    "    df_training: training dataframe\n",
    "    y_training: np.array of y training values\n",
    "    eta: the learning rate\n",
    "    max_depth: int, the depth of the decision tree i.e. the number of levels from the root node to furthest leaf node\n",
    "    min_child_weight: int, the minimum “sum of weights” of observations. Higher values are associated with less overfitting.\n",
    "    num_boost_round: number of boosting rounds\n",
    "    \"\"\"\n",
    "    xgb_final_params = {\n",
    "        'booster': 'gbtree', # default\n",
    "        'verbosity': 1, # default\n",
    "        'nthread': 6, # how many cores/ how much parallelization, depends on your system\n",
    "    \n",
    "        'eta': eta, # default\n",
    "        'max_depth': max_depth, \n",
    "        'min_child_weight': min_child_weight, # default\n",
    "    \n",
    "        'objective' :'binary:logistic', \n",
    "        'seed': 1, # random number seed to make the results reproducible\n",
    "        'eval_metric': 'auc'\n",
    "    }\n",
    "    \n",
    "    dicts = df_training.to_dict(orient=\"records\")\n",
    "    dv = DictVectorizer(sparse=False).fit(dicts)\n",
    "    X_training = dv.transform(dicts)\n",
    "    dxtrain = xgb.DMatrix(X_training, label=y_training, feature_names=list(dv.get_feature_names_out()))\n",
    "\n",
    "    model = xgb.train(xgb_final_params, dxtrain, num_boost_round=num_boost_round)\n",
    "    \n",
    "    return dv, model"
   ]
  },
  {
   "cell_type": "code",
   "execution_count": 20,
   "id": "656916b8-0ef7-4050-9662-9768ca9141ca",
   "metadata": {},
   "outputs": [],
   "source": [
    "def predict(df_v, dv, model, y_test):\n",
    "    \"\"\"Calculate predictions for given dataset\n",
    "\n",
    "    Parameters\n",
    "    ---------\n",
    "    df_v: the validation dataset to perform the prediction on\n",
    "    dv: DictVectorizer to use to transform the validation dataset\n",
    "    model: The trained XGBoost model to use to calculate the predictions\n",
    "    y_test: the list of actual target values in the validation dataset\n",
    "    \"\"\"\n",
    "    dicts = df_v.to_dict(orient=\"records\")\n",
    "\n",
    "    X_test = dv.transform(dicts)\n",
    "    dtest = xgb.DMatrix(X_test, label=y_test, feature_names=list(dv.get_feature_names_out()))\n",
    "\n",
    "    y_pred = model.predict(dtest)\n",
    "\n",
    "    return y_pred"
   ]
  },
  {
   "cell_type": "markdown",
   "id": "6beadcb2-2597-462a-aaec-d7643bab2cf3",
   "metadata": {},
   "source": [
    "## Validation\n",
    "\n",
    "For our final model, I will use the KFold split method to evaluate the model on different subsets of the full training set and then take the average `roc_auc_score`. "
   ]
  },
  {
   "cell_type": "code",
   "execution_count": 21,
   "id": "191704df-4224-4a46-8a57-9c4cba51a798",
   "metadata": {},
   "outputs": [],
   "source": [
    "def perform_validation(df, kfold_n_splits=10, eta=0.3, max_depth=4, min_child_weight=5, num_boost_round=43):\n",
    "    \"\"\"Evaluate the model across different datasets\n",
    "\n",
    "    Parameters\n",
    "    ---------\n",
    "    df: The dataset to use to extract training and validation datasets and perform evaluation\n",
    "    kfold_n_slits: the number of groups the df should be split into \n",
    "    eta: the learning rate\n",
    "    max_depth: int, the depth of the decision tree i.e. the number of levels from the root node to furthest leaf node\n",
    "    min_child_weight: int, the minimum “sum of weights” of observations. Higher values are associated with less overfitting.\n",
    "    num_boost_round: number of boosting rounds\n",
    "    \"\"\"\n",
    "    kfold = KFold(n_splits=kfold_n_splits, shuffle=True, random_state=1)\n",
    "\n",
    "    scores = []\n",
    "    \n",
    "    for fold_num, (train_idx, val_idx) in enumerate(kfold.split(df)):\n",
    "        df_t = df.iloc[train_idx]\n",
    "        df_v = df.iloc[val_idx]\n",
    "    \n",
    "        y_t = df_t[\"is_severe\"].values\n",
    "        y_v = df_v[\"is_severe\"].values\n",
    "    \n",
    "        del df_t[\"is_severe\"]\n",
    "        del df_v[\"is_severe\"]\n",
    "        \n",
    "        dv, model =train(df_t, y_t,eta=eta, max_depth=max_depth, min_child_weight=min_child_weight, num_boost_round=num_boost_round)\n",
    "        y_pred = predict(df_v, dv, model, y_v)\n",
    "        auc = roc_auc_score(y_v, y_pred)\n",
    "        scores.append(auc)\n",
    "        print(f\"Score on fold {fold_num}: {auc}\")\n",
    "    return scores"
   ]
  },
  {
   "cell_type": "code",
   "execution_count": 22,
   "id": "f90488a5-37c2-446b-8ec0-0afa9a8837e7",
   "metadata": {},
   "outputs": [
    {
     "name": "stdout",
     "output_type": "stream",
     "text": [
      "Score on fold 0: 0.6278771981084864\n",
      "Score on fold 1: 0.6257791507700057\n",
      "Score on fold 2: 0.6205236281538566\n",
      "Score on fold 3: 0.62936066745586\n",
      "Score on fold 4: 0.6199174512530055\n"
     ]
    }
   ],
   "source": [
    "n_splits = 5\n",
    "num_boost_round_final = 43\n",
    "eta_final = 0.3\n",
    "max_depth_final = 4\n",
    "min_child_weight_final=5\n",
    "\n",
    "totals = perform_validation(df_full_train,kfold_n_splits=n_splits, \n",
    "                            eta=eta_final, max_depth=max_depth_final, \n",
    "                            min_child_weight=min_child_weight_final, num_boost_round=num_boost_round_final)"
   ]
  },
  {
   "cell_type": "code",
   "execution_count": 23,
   "id": "fadc9679-35f8-4530-b219-0826f60fb3cd",
   "metadata": {},
   "outputs": [
    {
     "data": {
      "text/plain": [
       "(np.float64(0.6246916191482429), np.float64(0.0038287198502983356))"
      ]
     },
     "execution_count": 23,
     "metadata": {},
     "output_type": "execute_result"
    }
   ],
   "source": [
    "np.mean(totals), np.std(totals)"
   ]
  },
  {
   "cell_type": "markdown",
   "id": "7ae6a758-28d0-440d-85f8-747fc12111c1",
   "metadata": {},
   "source": [
    "## Train final model"
   ]
  },
  {
   "cell_type": "code",
   "execution_count": 24,
   "id": "e27f9680-13d6-4313-978a-7093831ef13d",
   "metadata": {},
   "outputs": [],
   "source": [
    "df_full_train, df_test = train_test_split(df_collision, test_size=0.2, random_state=11)\n",
    "\n",
    "df_full_train = df_full_train.reset_index(drop=True)\n",
    "df_test = df_test.reset_index(drop=True)\n",
    "\n",
    "y_full_train = df_full_train[\"is_severe\"].values\n",
    "y_test = df_test[\"is_severe\"].values\n",
    "\n",
    "del df_test[\"is_severe\"]\n",
    "del df_full_train[\"is_severe\"]"
   ]
  },
  {
   "cell_type": "code",
   "execution_count": 25,
   "id": "3266219e-3abc-4bed-93f9-d5440147558b",
   "metadata": {},
   "outputs": [
    {
     "data": {
      "text/plain": [
       "np.float64(0.6288534117462088)"
      ]
     },
     "execution_count": 25,
     "metadata": {},
     "output_type": "execute_result"
    }
   ],
   "source": [
    "n_splits = 5\n",
    "num_boost_round_final = 43\n",
    "eta_final = 0.3\n",
    "max_depth_final = 4\n",
    "min_child_weight_final=5\n",
    "\n",
    "dv, model_final =train(df_full_train, y_full_train,eta=eta_final, max_depth=max_depth_final, \n",
    "                            min_child_weight=min_child_weight_final, num_boost_round=num_boost_round_final)\n",
    "y_pred = predict(df_test, dv, model_final, y_test)\n",
    "auc = roc_auc_score(y_test, y_pred)\n",
    "\n",
    "auc"
   ]
  },
  {
   "cell_type": "markdown",
   "id": "d2cde0d0-90d5-47a2-aa16-361d95d7c8c8",
   "metadata": {},
   "source": [
    "## Save model"
   ]
  },
  {
   "cell_type": "code",
   "execution_count": 26,
   "id": "6aeea9c9-87b3-4f80-b0f2-22fc14685ec3",
   "metadata": {},
   "outputs": [],
   "source": [
    "output_file = f\"collision_severity_model_eta={eta_final}_md={max_depth_final}_mcw={min_child_weight_final}_nboost={num_boost_round_final}.bin\"\n",
    "\n",
    "with open(output_file, 'wb') as f_out:\n",
    "    pickle.dump((dv,model_final),f_out)"
   ]
  }
 ],
 "metadata": {
  "kernelspec": {
   "display_name": "collision_severity",
   "language": "python",
   "name": "collision_severity"
  },
  "language_info": {
   "codemirror_mode": {
    "name": "ipython",
    "version": 3
   },
   "file_extension": ".py",
   "mimetype": "text/x-python",
   "name": "python",
   "nbconvert_exporter": "python",
   "pygments_lexer": "ipython3",
   "version": "3.13.0"
  }
 },
 "nbformat": 4,
 "nbformat_minor": 5
}
