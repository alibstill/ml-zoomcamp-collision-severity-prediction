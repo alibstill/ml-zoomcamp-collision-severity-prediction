{
 "cells": [
  {
   "cell_type": "markdown",
   "id": "ce32fdcc-ec67-43cd-a788-5336bc4b9602",
   "metadata": {},
   "source": [
    "# EDA: Feature Importance"
   ]
  },
  {
   "cell_type": "code",
   "execution_count": 1,
   "id": "607f0618-853a-4544-bc92-a26e29b39164",
   "metadata": {},
   "outputs": [],
   "source": [
    "import pandas as pd"
   ]
  },
  {
   "cell_type": "code",
   "execution_count": 2,
   "id": "a7196b55-cc8f-4556-9698-a24a26bdecd8",
   "metadata": {},
   "outputs": [],
   "source": [
    "import pandas as pd\n",
    "import matplotlib.pyplot as plt\n",
    "import seaborn as sns\n",
    "from sklearn.model_selection import train_test_split\n",
    "from sklearn.metrics import mutual_info_score"
   ]
  },
  {
   "cell_type": "markdown",
   "id": "01695886-0b7c-45a1-8b23-2c01249bb05a",
   "metadata": {},
   "source": [
    "## Recap on columns\n",
    "\n",
    "So far we have handled missing values in our dataset and extracted all the core information we wanted. \n",
    "\n",
    "The columns we now have are all features that we want to use. \n",
    "\n",
    "For clarity, let's recap on their meaning:\n",
    "  \n",
    "- `number_of_vehicles`: the number of vehicles involved in the collision\n",
    "\n",
    "**Target variable**\n",
    "\n",
    "- `is_severe`: collisions which are severe and involve casualties that likely require medical treatment/medical emergency services\n",
    "\n",
    "**Location**\n",
    "\n",
    "- `is_urban`: captures if the collision occured in an urban, built up area or in a rural area\n",
    "  \n",
    "- `police_force`: the police force in whose area the collision occured. Each police forces handles a specific area of Great Britain and so this variable acts as a kind of location category.\n",
    "\n",
    "**Date and Time**\n",
    "\n",
    "- `day_of_week`: the name of the day of the week the collision occured e.g. sunday\n",
    "  \n",
    "- `time`: the time the collision occured. Note that the actual time has been rounded up to the nearest half hour.\n",
    "\n",
    "- `month`: the month of the collision (string value)\n",
    "\n",
    "- `day_of_year`: the day of the year the collision occured, 1 is 1st January, 32 is 1st February etc. \n",
    "\n",
    "**Static Road details**\n",
    "\n",
    "- `first_road_class`: this is the road category of the main road on which the collision occured. It indicates how major a road is e.g. A roads are major roads, B less so and then unclassified roads are local roads, intended for local traffic.\n",
    "  \n",
    "- `road_type`: this is another form of road categorisation including values like \"one_way_street\" and \"roundabout\"\n",
    "  \n",
    "- `speed_limit`: this is the legal speed limit of the road. Speed limits in the UK are in miles per hour.\n",
    "\n",
    "- `is_near_junction`: a junction is where two or more roads meet. The attribute identifies if an accident occurs near a junction.\n",
    "\n",
    "- `is_near_pedestrian_crossing`: this field captures if there was a pedestrian crossing nearby (within 50 metres of the accident). This could be a crossing facilitated by some kind of official  e.g. \"lollipop person\" (school crossing patrol) or another \"authorised person\" (police office or a traffic warden in uniform). It could also be a pedestrian crossing that is not human facilitated e.g. a zebra crossing, a foot bridge, a space in the middle of the road (central refuge), a crossing at a traffic light (toucan, pelican, puffin). Note that the crossings at traffic lights must contain a specific indicator light (a \"green man\") and time for pedestrians to cross. Not all traffic lights have a pedestrian crossing so this field does not mean traffic lights were nearby.\n",
    "\n",
    "- `is_trunk`: this field identifies whether a road is managed by Highways England (a trunk road). Highways England are a government company in charge of operating and maintaining mostly major road e.g. motorways and major A roads.\n",
    "\n",
    "**Dynamic road details**\n",
    "- `light_conditions`: a category that details how much light there was at the time of the accident\n",
    "  \n",
    "- `weather_conditions`: a category describing the weather at the time of the collision\n",
    "  \n",
    "- `road_surface_condition`: a category detailing the condition of the road, capturing whether the road was flooded or dry, for example\n",
    "  \n",
    "- `has_special_conditions_at_site`: this boolean category indicates whether there was anything particularly unusual or defective at the site e.g traffic signals aren't working, there are roadworks or oil, there is mud\n",
    "  \n",
    "- `is_carriageway_hazard`: this category indicates whether there an unexpected object found in the road e.g. something may have fallen off a lorry, a dog, another human\n",
    "  "
   ]
  },
  {
   "cell_type": "code",
   "execution_count": 3,
   "id": "3a100fea-d706-456e-ae1a-48f17ce72e23",
   "metadata": {},
   "outputs": [
    {
     "data": {
      "text/html": [
       "<div>\n",
       "<style scoped>\n",
       "    .dataframe tbody tr th:only-of-type {\n",
       "        vertical-align: middle;\n",
       "    }\n",
       "\n",
       "    .dataframe tbody tr th {\n",
       "        vertical-align: top;\n",
       "    }\n",
       "\n",
       "    .dataframe thead th {\n",
       "        text-align: right;\n",
       "    }\n",
       "</style>\n",
       "<table border=\"1\" class=\"dataframe\">\n",
       "  <thead>\n",
       "    <tr style=\"text-align: right;\">\n",
       "      <th></th>\n",
       "      <th>0</th>\n",
       "      <th>1</th>\n",
       "      <th>2</th>\n",
       "      <th>3</th>\n",
       "      <th>4</th>\n",
       "    </tr>\n",
       "  </thead>\n",
       "  <tbody>\n",
       "    <tr>\n",
       "      <th>police_force</th>\n",
       "      <td>metropolitan_police</td>\n",
       "      <td>metropolitan_police</td>\n",
       "      <td>metropolitan_police</td>\n",
       "      <td>metropolitan_police</td>\n",
       "      <td>metropolitan_police</td>\n",
       "    </tr>\n",
       "    <tr>\n",
       "      <th>number_of_vehicles</th>\n",
       "      <td>1</td>\n",
       "      <td>3</td>\n",
       "      <td>2</td>\n",
       "      <td>2</td>\n",
       "      <td>1</td>\n",
       "    </tr>\n",
       "    <tr>\n",
       "      <th>day_of_week</th>\n",
       "      <td>sunday</td>\n",
       "      <td>sunday</td>\n",
       "      <td>sunday</td>\n",
       "      <td>sunday</td>\n",
       "      <td>sunday</td>\n",
       "    </tr>\n",
       "    <tr>\n",
       "      <th>time</th>\n",
       "      <td>01:00</td>\n",
       "      <td>02:00</td>\n",
       "      <td>04:00</td>\n",
       "      <td>02:00</td>\n",
       "      <td>02:00</td>\n",
       "    </tr>\n",
       "    <tr>\n",
       "      <th>first_road_class</th>\n",
       "      <td>c</td>\n",
       "      <td>unclassified</td>\n",
       "      <td>a</td>\n",
       "      <td>a</td>\n",
       "      <td>a</td>\n",
       "    </tr>\n",
       "    <tr>\n",
       "      <th>road_type</th>\n",
       "      <td>one_way_street</td>\n",
       "      <td>single_carriageway</td>\n",
       "      <td>roundabout</td>\n",
       "      <td>single_carriageway</td>\n",
       "      <td>single_carriageway</td>\n",
       "    </tr>\n",
       "    <tr>\n",
       "      <th>speed_limit</th>\n",
       "      <td>20</td>\n",
       "      <td>30</td>\n",
       "      <td>30</td>\n",
       "      <td>30</td>\n",
       "      <td>30</td>\n",
       "    </tr>\n",
       "    <tr>\n",
       "      <th>light_conditions</th>\n",
       "      <td>darkness___lights_lit</td>\n",
       "      <td>darkness___lights_lit</td>\n",
       "      <td>darkness___lights_lit</td>\n",
       "      <td>darkness___lights_lit</td>\n",
       "      <td>darkness___lights_lit</td>\n",
       "    </tr>\n",
       "    <tr>\n",
       "      <th>weather_conditions</th>\n",
       "      <td>other_adverse_weather_condition</td>\n",
       "      <td>fine_no_high_winds</td>\n",
       "      <td>fine_no_high_winds</td>\n",
       "      <td>fine_no_high_winds</td>\n",
       "      <td>fine_no_high_winds</td>\n",
       "    </tr>\n",
       "    <tr>\n",
       "      <th>road_surface_conditions</th>\n",
       "      <td>wet_or_damp</td>\n",
       "      <td>dry</td>\n",
       "      <td>dry</td>\n",
       "      <td>dry</td>\n",
       "      <td>dry</td>\n",
       "    </tr>\n",
       "    <tr>\n",
       "      <th>is_severe</th>\n",
       "      <td>0</td>\n",
       "      <td>0</td>\n",
       "      <td>0</td>\n",
       "      <td>0</td>\n",
       "      <td>0</td>\n",
       "    </tr>\n",
       "    <tr>\n",
       "      <th>month</th>\n",
       "      <td>january</td>\n",
       "      <td>january</td>\n",
       "      <td>january</td>\n",
       "      <td>january</td>\n",
       "      <td>january</td>\n",
       "    </tr>\n",
       "    <tr>\n",
       "      <th>day_of_year</th>\n",
       "      <td>1</td>\n",
       "      <td>1</td>\n",
       "      <td>1</td>\n",
       "      <td>1</td>\n",
       "      <td>1</td>\n",
       "    </tr>\n",
       "    <tr>\n",
       "      <th>is_trunk</th>\n",
       "      <td>0</td>\n",
       "      <td>0</td>\n",
       "      <td>0</td>\n",
       "      <td>0</td>\n",
       "      <td>0</td>\n",
       "    </tr>\n",
       "    <tr>\n",
       "      <th>is_near_pedestrian_crossing</th>\n",
       "      <td>1</td>\n",
       "      <td>1</td>\n",
       "      <td>0</td>\n",
       "      <td>0</td>\n",
       "      <td>1</td>\n",
       "    </tr>\n",
       "    <tr>\n",
       "      <th>is_urban</th>\n",
       "      <td>1</td>\n",
       "      <td>1</td>\n",
       "      <td>1</td>\n",
       "      <td>1</td>\n",
       "      <td>1</td>\n",
       "    </tr>\n",
       "    <tr>\n",
       "      <th>has_special_conditions_at_site</th>\n",
       "      <td>0</td>\n",
       "      <td>0</td>\n",
       "      <td>0</td>\n",
       "      <td>0</td>\n",
       "      <td>0</td>\n",
       "    </tr>\n",
       "    <tr>\n",
       "      <th>is_carriageway_hazard</th>\n",
       "      <td>0</td>\n",
       "      <td>0</td>\n",
       "      <td>0</td>\n",
       "      <td>0</td>\n",
       "      <td>0</td>\n",
       "    </tr>\n",
       "    <tr>\n",
       "      <th>is_near_junction</th>\n",
       "      <td>1</td>\n",
       "      <td>1</td>\n",
       "      <td>1</td>\n",
       "      <td>1</td>\n",
       "      <td>0</td>\n",
       "    </tr>\n",
       "  </tbody>\n",
       "</table>\n",
       "</div>"
      ],
      "text/plain": [
       "                                                              0  \\\n",
       "police_force                                metropolitan_police   \n",
       "number_of_vehicles                                            1   \n",
       "day_of_week                                              sunday   \n",
       "time                                                      01:00   \n",
       "first_road_class                                              c   \n",
       "road_type                                        one_way_street   \n",
       "speed_limit                                                  20   \n",
       "light_conditions                          darkness___lights_lit   \n",
       "weather_conditions              other_adverse_weather_condition   \n",
       "road_surface_conditions                             wet_or_damp   \n",
       "is_severe                                                     0   \n",
       "month                                                   january   \n",
       "day_of_year                                                   1   \n",
       "is_trunk                                                      0   \n",
       "is_near_pedestrian_crossing                                   1   \n",
       "is_urban                                                      1   \n",
       "has_special_conditions_at_site                                0   \n",
       "is_carriageway_hazard                                         0   \n",
       "is_near_junction                                              1   \n",
       "\n",
       "                                                    1                      2  \\\n",
       "police_force                      metropolitan_police    metropolitan_police   \n",
       "number_of_vehicles                                  3                      2   \n",
       "day_of_week                                    sunday                 sunday   \n",
       "time                                            02:00                  04:00   \n",
       "first_road_class                         unclassified                      a   \n",
       "road_type                          single_carriageway             roundabout   \n",
       "speed_limit                                        30                     30   \n",
       "light_conditions                darkness___lights_lit  darkness___lights_lit   \n",
       "weather_conditions                 fine_no_high_winds     fine_no_high_winds   \n",
       "road_surface_conditions                           dry                    dry   \n",
       "is_severe                                           0                      0   \n",
       "month                                         january                january   \n",
       "day_of_year                                         1                      1   \n",
       "is_trunk                                            0                      0   \n",
       "is_near_pedestrian_crossing                         1                      0   \n",
       "is_urban                                            1                      1   \n",
       "has_special_conditions_at_site                      0                      0   \n",
       "is_carriageway_hazard                               0                      0   \n",
       "is_near_junction                                    1                      1   \n",
       "\n",
       "                                                    3                      4  \n",
       "police_force                      metropolitan_police    metropolitan_police  \n",
       "number_of_vehicles                                  2                      1  \n",
       "day_of_week                                    sunday                 sunday  \n",
       "time                                            02:00                  02:00  \n",
       "first_road_class                                    a                      a  \n",
       "road_type                          single_carriageway     single_carriageway  \n",
       "speed_limit                                        30                     30  \n",
       "light_conditions                darkness___lights_lit  darkness___lights_lit  \n",
       "weather_conditions                 fine_no_high_winds     fine_no_high_winds  \n",
       "road_surface_conditions                           dry                    dry  \n",
       "is_severe                                           0                      0  \n",
       "month                                         january                january  \n",
       "day_of_year                                         1                      1  \n",
       "is_trunk                                            0                      0  \n",
       "is_near_pedestrian_crossing                         0                      1  \n",
       "is_urban                                            1                      1  \n",
       "has_special_conditions_at_site                      0                      0  \n",
       "is_carriageway_hazard                               0                      0  \n",
       "is_near_junction                                    1                      0  "
      ]
     },
     "execution_count": 3,
     "metadata": {},
     "output_type": "execute_result"
    }
   ],
   "source": [
    "df_collision = pd.read_csv(\"./data/collisions4.csv\")\n",
    "df_collision.head().transpose()"
   ]
  },
  {
   "cell_type": "code",
   "execution_count": 4,
   "id": "8db5200c-c6c3-4071-911d-aa5b2e8cb48f",
   "metadata": {},
   "outputs": [
    {
     "name": "stdout",
     "output_type": "stream",
     "text": [
      "<class 'pandas.core.frame.DataFrame'>\n",
      "RangeIndex: 69043 entries, 0 to 69042\n",
      "Data columns (total 19 columns):\n",
      " #   Column                          Non-Null Count  Dtype \n",
      "---  ------                          --------------  ----- \n",
      " 0   police_force                    69043 non-null  object\n",
      " 1   number_of_vehicles              69043 non-null  int64 \n",
      " 2   day_of_week                     69043 non-null  object\n",
      " 3   time                            69043 non-null  object\n",
      " 4   first_road_class                69043 non-null  object\n",
      " 5   road_type                       69043 non-null  object\n",
      " 6   speed_limit                     69043 non-null  int64 \n",
      " 7   light_conditions                69043 non-null  object\n",
      " 8   weather_conditions              69043 non-null  object\n",
      " 9   road_surface_conditions         69043 non-null  object\n",
      " 10  is_severe                       69043 non-null  int64 \n",
      " 11  month                           69043 non-null  object\n",
      " 12  day_of_year                     69043 non-null  int64 \n",
      " 13  is_trunk                        69043 non-null  int64 \n",
      " 14  is_near_pedestrian_crossing     69043 non-null  int64 \n",
      " 15  is_urban                        69043 non-null  int64 \n",
      " 16  has_special_conditions_at_site  69043 non-null  int64 \n",
      " 17  is_carriageway_hazard           69043 non-null  int64 \n",
      " 18  is_near_junction                69043 non-null  int64 \n",
      "dtypes: int64(10), object(9)\n",
      "memory usage: 10.0+ MB\n"
     ]
    }
   ],
   "source": [
    "df_collision.info()"
   ]
  },
  {
   "cell_type": "code",
   "execution_count": 5,
   "id": "2428367e-f464-4077-a627-41643e7a8eae",
   "metadata": {},
   "outputs": [
    {
     "data": {
      "text/plain": [
       "Index(['police_force', 'number_of_vehicles', 'day_of_week', 'time',\n",
       "       'first_road_class', 'road_type', 'speed_limit', 'light_conditions',\n",
       "       'weather_conditions', 'road_surface_conditions', 'is_severe', 'month',\n",
       "       'day_of_year', 'is_trunk', 'is_near_pedestrian_crossing', 'is_urban',\n",
       "       'has_special_conditions_at_site', 'is_carriageway_hazard',\n",
       "       'is_near_junction'],\n",
       "      dtype='object')"
      ]
     },
     "execution_count": 5,
     "metadata": {},
     "output_type": "execute_result"
    }
   ],
   "source": [
    "df_collision.columns"
   ]
  },
  {
   "cell_type": "markdown",
   "id": "9c84e2c3-77ff-4a47-8275-0b20a46ed8a8",
   "metadata": {},
   "source": [
    "## Perform some EDA on full training set\n",
    "\n",
    "Following on from the approaches taken in the lectures, I will split the data at this point and perform some further analysis on the full training set. I am using the random_state parameter for reproducability so that when I repeat this process and split the data up in other notebooks to train a model, I will be using the same rows for training and testing."
   ]
  },
  {
   "cell_type": "code",
   "execution_count": 6,
   "id": "1e7aea1e-69f6-4e0e-ad84-145ce29b57c3",
   "metadata": {},
   "outputs": [],
   "source": [
    "df_full_train, df_test = train_test_split(df_collision, test_size=0.2, random_state=11)"
   ]
  },
  {
   "cell_type": "markdown",
   "id": "13dc4b0b-ba80-4f7c-b02a-fb368624b762",
   "metadata": {},
   "source": [
    "## Target variable\n",
    "\n",
    "We can consider the proportion of collisions that were severe i.e. the `severity_rate`.\n",
    "\n",
    "The majority of the collisions in our dataset are not severe which means we have an imbalanced dataset. This may cause issues. I will look at ways in which regularization could help us later on. What it does mean is that we cannot use accuracy to measure performance."
   ]
  },
  {
   "cell_type": "code",
   "execution_count": 7,
   "id": "914b4a9d-e321-49c3-9991-ba3bd358c745",
   "metadata": {},
   "outputs": [
    {
     "data": {
      "text/plain": [
       "is_severe\n",
       "0    38748\n",
       "1    16486\n",
       "Name: count, dtype: int64"
      ]
     },
     "execution_count": 7,
     "metadata": {},
     "output_type": "execute_result"
    }
   ],
   "source": [
    "df_full_train[\"is_severe\"].value_counts()"
   ]
  },
  {
   "cell_type": "markdown",
   "id": "ef76193c-7972-4472-97ab-f197516b196c",
   "metadata": {},
   "source": [
    "### Global severity rate \n",
    "\n",
    "Almost 30% of collisions were categorised as severe. We can use the `global_severity_rate`, calculated across our entire dataset, to get a sense of the importance of our categorical features."
   ]
  },
  {
   "cell_type": "code",
   "execution_count": 8,
   "id": "77b21739-7d32-4940-b822-6f3353b00ccb",
   "metadata": {},
   "outputs": [
    {
     "data": {
      "text/plain": [
       "is_severe\n",
       "0    0.701524\n",
       "1    0.298476\n",
       "Name: proportion, dtype: float64"
      ]
     },
     "execution_count": 8,
     "metadata": {},
     "output_type": "execute_result"
    }
   ],
   "source": [
    "df_full_train[\"is_severe\"].value_counts(normalize=True)"
   ]
  },
  {
   "cell_type": "code",
   "execution_count": 9,
   "id": "ab192c3e-9454-48a8-9fd4-f0c2835f60d2",
   "metadata": {},
   "outputs": [
    {
     "data": {
      "text/plain": [
       "np.float64(0.298)"
      ]
     },
     "execution_count": 9,
     "metadata": {},
     "output_type": "execute_result"
    }
   ],
   "source": [
    "global_severity_rate = round(df_full_train[\"is_severe\"].mean(),3)\n",
    "global_severity_rate"
   ]
  },
  {
   "cell_type": "markdown",
   "id": "84aafd0b-b9b7-493c-a8af-fe6dc2c71181",
   "metadata": {},
   "source": [
    "## Feature Importance: Categorical columns\n",
    "\n",
    "The majority of the features are categorical. \n",
    "\n",
    "### Difference and risk ratio\n",
    "\n",
    "To understand how important each one might be we can compare the severity rate for one category with the global severity rate.\n",
    "\n",
    "There are two ways of quantifying this:\n",
    "- **Difference**: global_severity_rate - group_severity_rate\n",
    "\n",
    "This is an absolute measure of the difference between the global severity rate and the group severity rate.\n",
    "\n",
    "If this is positive, it means that this category had more collisions that were severe than average, if negative, this category had less collisions that were severe than average.\n",
    "  \n",
    "- **Risk ratio**: group_severity_rate/ global_severity_rate\n",
    "\n",
    "This is a relative measure of the ratio between the group severity rate and the global severity rate.\n",
    "\n",
    "If this is greater than one, it indicates that the severity rate for this category is greater than the global one, indicating that this category has more severe collisions. If less the one, the opposite.\n",
    "\n",
    "**What risk ratio or difference values imply the category as a whole has good predictive power?**\n",
    "\n",
    "The function `get_feature_importance` calculates the risk ratio and difference for every category value in the category column.\n",
    "\n",
    "If we can see that some of the values in this category produce a higher than average risk ratio or a larger difference and others produce a lower than average risk ratio or larger negative difference, then it could be a good indication that the category has good predictive power.\n",
    "\n",
    "**Conclusion**\n",
    "\n",
    "Because risk ratio and difference provide a quantification of the relative importance of individual category values, when there are a lot of values in a category, using this measure to try and evaluate if a category as a whole is important is tricky.\n",
    "\n",
    "Given the complexity, I will only use this to look at binary variables briefly.\n",
    "\n",
    "### Mutual Information score\n",
    "\n",
    "For all other categorical variables, I will calculate the mutual information score.\n",
    "\n",
    "The Mutual Information of two random variables is a measure of the mutual dependence between the two variables. The mutual information score quantifies the amount of information obtained about one random variable by observing the other random variable: how much do we learn about `is_severe` by observing the variable `police_force`? The higher the mutual information score is, the more we learn and the more important the variable is as a predictor of the target."
   ]
  },
  {
   "cell_type": "markdown",
   "id": "ff5dca38-6a2c-470e-a72e-3503f674f455",
   "metadata": {},
   "source": [
    "### Evaluating difference and risk ratio of binary columns\n",
    "\n",
    "We have several binary columns in our dataset:\n",
    "\n",
    "- 'is_trunk'\n",
    "- 'is_near_pedestrian_crossing'\n",
    "- 'is_urban'\n",
    "- 'has_special_conditions_at_site'\n",
    "- 'is_carriageway_hazard'\n",
    "- 'is_near_junction'\n",
    "\n",
    "Of all the columns `is_urban` and `is_near_junction` seem to be the most promising predictors. But it is difficult to compare them properly. For comparison, mutual information score is a better metric."
   ]
  },
  {
   "cell_type": "code",
   "execution_count": 10,
   "id": "31e90039-99d2-4055-8c1c-bc600796a09c",
   "metadata": {},
   "outputs": [],
   "source": [
    "def get_difference_risk_ratio(df: pd.DataFrame, category_col: str, global_severity_rate: float):\n",
    "    df_group = df.groupby(category_col)[\"is_severe\"].agg([\"mean\",\"count\"])\n",
    "    df_group[\"diff\"] = df_group[\"mean\"] - global_severity_rate\n",
    "    df_group[\"risk\"] = df_group[\"mean\"]/global_severity_rate\n",
    "    df_group.index = [f\"{category_col}_{cat_val}\"for cat_val in df_group.index]\n",
    "    return df_group"
   ]
  },
  {
   "cell_type": "code",
   "execution_count": 11,
   "id": "e667aa60-132d-4b21-b5ed-061c60604852",
   "metadata": {},
   "outputs": [
    {
     "data": {
      "text/html": [
       "<div>\n",
       "<style scoped>\n",
       "    .dataframe tbody tr th:only-of-type {\n",
       "        vertical-align: middle;\n",
       "    }\n",
       "\n",
       "    .dataframe tbody tr th {\n",
       "        vertical-align: top;\n",
       "    }\n",
       "\n",
       "    .dataframe thead th {\n",
       "        text-align: right;\n",
       "    }\n",
       "</style>\n",
       "<table border=\"1\" class=\"dataframe\">\n",
       "  <thead>\n",
       "    <tr style=\"text-align: right;\">\n",
       "      <th></th>\n",
       "      <th>mean</th>\n",
       "      <th>count</th>\n",
       "      <th>diff</th>\n",
       "      <th>risk</th>\n",
       "    </tr>\n",
       "  </thead>\n",
       "  <tbody>\n",
       "    <tr>\n",
       "      <th>is_trunk_0</th>\n",
       "      <td>0.301017</td>\n",
       "      <td>63694</td>\n",
       "      <td>0.003017</td>\n",
       "      <td>1.010125</td>\n",
       "    </tr>\n",
       "    <tr>\n",
       "      <th>is_trunk_1</th>\n",
       "      <td>0.263601</td>\n",
       "      <td>5349</td>\n",
       "      <td>-0.034399</td>\n",
       "      <td>0.884566</td>\n",
       "    </tr>\n",
       "  </tbody>\n",
       "</table>\n",
       "</div>"
      ],
      "text/plain": [
       "                mean  count      diff      risk\n",
       "is_trunk_0  0.301017  63694  0.003017  1.010125\n",
       "is_trunk_1  0.263601   5349 -0.034399  0.884566"
      ]
     },
     "execution_count": 11,
     "metadata": {},
     "output_type": "execute_result"
    }
   ],
   "source": [
    "get_difference_risk_ratio(df_collision, \"is_trunk\", global_severity_rate)"
   ]
  },
  {
   "cell_type": "code",
   "execution_count": 12,
   "id": "65b5296b-2c03-403b-9c2f-f672f0b947a7",
   "metadata": {},
   "outputs": [
    {
     "data": {
      "text/html": [
       "<div>\n",
       "<style scoped>\n",
       "    .dataframe tbody tr th:only-of-type {\n",
       "        vertical-align: middle;\n",
       "    }\n",
       "\n",
       "    .dataframe tbody tr th {\n",
       "        vertical-align: top;\n",
       "    }\n",
       "\n",
       "    .dataframe thead th {\n",
       "        text-align: right;\n",
       "    }\n",
       "</style>\n",
       "<table border=\"1\" class=\"dataframe\">\n",
       "  <thead>\n",
       "    <tr style=\"text-align: right;\">\n",
       "      <th></th>\n",
       "      <th>mean</th>\n",
       "      <th>count</th>\n",
       "      <th>diff</th>\n",
       "      <th>risk</th>\n",
       "    </tr>\n",
       "  </thead>\n",
       "  <tbody>\n",
       "    <tr>\n",
       "      <th>is_near_pedestrian_crossing_0</th>\n",
       "      <td>0.301619</td>\n",
       "      <td>54728</td>\n",
       "      <td>0.003619</td>\n",
       "      <td>1.012144</td>\n",
       "    </tr>\n",
       "    <tr>\n",
       "      <th>is_near_pedestrian_crossing_1</th>\n",
       "      <td>0.284736</td>\n",
       "      <td>14315</td>\n",
       "      <td>-0.013264</td>\n",
       "      <td>0.955491</td>\n",
       "    </tr>\n",
       "  </tbody>\n",
       "</table>\n",
       "</div>"
      ],
      "text/plain": [
       "                                   mean  count      diff      risk\n",
       "is_near_pedestrian_crossing_0  0.301619  54728  0.003619  1.012144\n",
       "is_near_pedestrian_crossing_1  0.284736  14315 -0.013264  0.955491"
      ]
     },
     "execution_count": 12,
     "metadata": {},
     "output_type": "execute_result"
    }
   ],
   "source": [
    "get_difference_risk_ratio(df_collision, \"is_near_pedestrian_crossing\", global_severity_rate)"
   ]
  },
  {
   "cell_type": "code",
   "execution_count": 13,
   "id": "87f613da-e8bc-49c6-9a1e-794a08d94ece",
   "metadata": {},
   "outputs": [
    {
     "data": {
      "text/html": [
       "<div>\n",
       "<style scoped>\n",
       "    .dataframe tbody tr th:only-of-type {\n",
       "        vertical-align: middle;\n",
       "    }\n",
       "\n",
       "    .dataframe tbody tr th {\n",
       "        vertical-align: top;\n",
       "    }\n",
       "\n",
       "    .dataframe thead th {\n",
       "        text-align: right;\n",
       "    }\n",
       "</style>\n",
       "<table border=\"1\" class=\"dataframe\">\n",
       "  <thead>\n",
       "    <tr style=\"text-align: right;\">\n",
       "      <th></th>\n",
       "      <th>mean</th>\n",
       "      <th>count</th>\n",
       "      <th>diff</th>\n",
       "      <th>risk</th>\n",
       "    </tr>\n",
       "  </thead>\n",
       "  <tbody>\n",
       "    <tr>\n",
       "      <th>is_urban_0</th>\n",
       "      <td>0.327868</td>\n",
       "      <td>26959</td>\n",
       "      <td>0.029868</td>\n",
       "      <td>1.100229</td>\n",
       "    </tr>\n",
       "    <tr>\n",
       "      <th>is_urban_1</th>\n",
       "      <td>0.279061</td>\n",
       "      <td>42084</td>\n",
       "      <td>-0.018939</td>\n",
       "      <td>0.936446</td>\n",
       "    </tr>\n",
       "  </tbody>\n",
       "</table>\n",
       "</div>"
      ],
      "text/plain": [
       "                mean  count      diff      risk\n",
       "is_urban_0  0.327868  26959  0.029868  1.100229\n",
       "is_urban_1  0.279061  42084 -0.018939  0.936446"
      ]
     },
     "execution_count": 13,
     "metadata": {},
     "output_type": "execute_result"
    }
   ],
   "source": [
    "get_difference_risk_ratio(df_collision, \"is_urban\", global_severity_rate)"
   ]
  },
  {
   "cell_type": "code",
   "execution_count": 14,
   "id": "57df6cb3-a232-4a54-ad34-a8ff35ce8376",
   "metadata": {},
   "outputs": [
    {
     "data": {
      "text/html": [
       "<div>\n",
       "<style scoped>\n",
       "    .dataframe tbody tr th:only-of-type {\n",
       "        vertical-align: middle;\n",
       "    }\n",
       "\n",
       "    .dataframe tbody tr th {\n",
       "        vertical-align: top;\n",
       "    }\n",
       "\n",
       "    .dataframe thead th {\n",
       "        text-align: right;\n",
       "    }\n",
       "</style>\n",
       "<table border=\"1\" class=\"dataframe\">\n",
       "  <thead>\n",
       "    <tr style=\"text-align: right;\">\n",
       "      <th></th>\n",
       "      <th>mean</th>\n",
       "      <th>count</th>\n",
       "      <th>diff</th>\n",
       "      <th>risk</th>\n",
       "    </tr>\n",
       "  </thead>\n",
       "  <tbody>\n",
       "    <tr>\n",
       "      <th>has_special_conditions_at_site_0</th>\n",
       "      <td>0.298512</td>\n",
       "      <td>67257</td>\n",
       "      <td>0.000512</td>\n",
       "      <td>1.001717</td>\n",
       "    </tr>\n",
       "    <tr>\n",
       "      <th>has_special_conditions_at_site_1</th>\n",
       "      <td>0.283315</td>\n",
       "      <td>1786</td>\n",
       "      <td>-0.014685</td>\n",
       "      <td>0.950720</td>\n",
       "    </tr>\n",
       "  </tbody>\n",
       "</table>\n",
       "</div>"
      ],
      "text/plain": [
       "                                      mean  count      diff      risk\n",
       "has_special_conditions_at_site_0  0.298512  67257  0.000512  1.001717\n",
       "has_special_conditions_at_site_1  0.283315   1786 -0.014685  0.950720"
      ]
     },
     "execution_count": 14,
     "metadata": {},
     "output_type": "execute_result"
    }
   ],
   "source": [
    "get_difference_risk_ratio(df_collision, \"has_special_conditions_at_site\", global_severity_rate)"
   ]
  },
  {
   "cell_type": "code",
   "execution_count": 15,
   "id": "5fb43f8d-1916-443f-9ddc-df984cc511f9",
   "metadata": {},
   "outputs": [
    {
     "data": {
      "text/html": [
       "<div>\n",
       "<style scoped>\n",
       "    .dataframe tbody tr th:only-of-type {\n",
       "        vertical-align: middle;\n",
       "    }\n",
       "\n",
       "    .dataframe tbody tr th {\n",
       "        vertical-align: top;\n",
       "    }\n",
       "\n",
       "    .dataframe thead th {\n",
       "        text-align: right;\n",
       "    }\n",
       "</style>\n",
       "<table border=\"1\" class=\"dataframe\">\n",
       "  <thead>\n",
       "    <tr style=\"text-align: right;\">\n",
       "      <th></th>\n",
       "      <th>mean</th>\n",
       "      <th>count</th>\n",
       "      <th>diff</th>\n",
       "      <th>risk</th>\n",
       "    </tr>\n",
       "  </thead>\n",
       "  <tbody>\n",
       "    <tr>\n",
       "      <th>is_carriageway_hazard_0</th>\n",
       "      <td>0.297276</td>\n",
       "      <td>67355</td>\n",
       "      <td>-0.000724</td>\n",
       "      <td>0.997569</td>\n",
       "    </tr>\n",
       "    <tr>\n",
       "      <th>is_carriageway_hazard_1</th>\n",
       "      <td>0.331754</td>\n",
       "      <td>1688</td>\n",
       "      <td>0.033754</td>\n",
       "      <td>1.113267</td>\n",
       "    </tr>\n",
       "  </tbody>\n",
       "</table>\n",
       "</div>"
      ],
      "text/plain": [
       "                             mean  count      diff      risk\n",
       "is_carriageway_hazard_0  0.297276  67355 -0.000724  0.997569\n",
       "is_carriageway_hazard_1  0.331754   1688  0.033754  1.113267"
      ]
     },
     "execution_count": 15,
     "metadata": {},
     "output_type": "execute_result"
    }
   ],
   "source": [
    "get_difference_risk_ratio(df_collision, \"is_carriageway_hazard\", global_severity_rate)"
   ]
  },
  {
   "cell_type": "code",
   "execution_count": 16,
   "id": "df5f2acb-b097-4351-a6e5-b4e694e57e3f",
   "metadata": {},
   "outputs": [
    {
     "data": {
      "text/html": [
       "<div>\n",
       "<style scoped>\n",
       "    .dataframe tbody tr th:only-of-type {\n",
       "        vertical-align: middle;\n",
       "    }\n",
       "\n",
       "    .dataframe tbody tr th {\n",
       "        vertical-align: top;\n",
       "    }\n",
       "\n",
       "    .dataframe thead th {\n",
       "        text-align: right;\n",
       "    }\n",
       "</style>\n",
       "<table border=\"1\" class=\"dataframe\">\n",
       "  <thead>\n",
       "    <tr style=\"text-align: right;\">\n",
       "      <th></th>\n",
       "      <th>mean</th>\n",
       "      <th>count</th>\n",
       "      <th>diff</th>\n",
       "      <th>risk</th>\n",
       "    </tr>\n",
       "  </thead>\n",
       "  <tbody>\n",
       "    <tr>\n",
       "      <th>is_near_junction_0</th>\n",
       "      <td>0.326990</td>\n",
       "      <td>30530</td>\n",
       "      <td>0.028990</td>\n",
       "      <td>1.097281</td>\n",
       "    </tr>\n",
       "    <tr>\n",
       "      <th>is_near_junction_1</th>\n",
       "      <td>0.275232</td>\n",
       "      <td>38513</td>\n",
       "      <td>-0.022768</td>\n",
       "      <td>0.923596</td>\n",
       "    </tr>\n",
       "  </tbody>\n",
       "</table>\n",
       "</div>"
      ],
      "text/plain": [
       "                        mean  count      diff      risk\n",
       "is_near_junction_0  0.326990  30530  0.028990  1.097281\n",
       "is_near_junction_1  0.275232  38513 -0.022768  0.923596"
      ]
     },
     "execution_count": 16,
     "metadata": {},
     "output_type": "execute_result"
    }
   ],
   "source": [
    "get_difference_risk_ratio(df_collision, \"is_near_junction\", global_severity_rate)"
   ]
  },
  {
   "cell_type": "markdown",
   "id": "fcf1354d-d360-489e-ade6-1521a0536dfc",
   "metadata": {},
   "source": [
    "### Using mutual information score to evaluate feature importance\n",
    "\n",
    "The mutual information score reveals that `police_force` is the strongest predictor of severity.\n",
    "\n",
    "The mutual information scores aren't particularly high. It's possible that we don't have appropriate data to get a good prediction of the severity of a collision.\n",
    "\n",
    "Some categorical features look completely independent from severity e.g. has_special_conditions_at_site and is_near_pedestrian_crossing."
   ]
  },
  {
   "cell_type": "code",
   "execution_count": 17,
   "id": "a5949c7e-d429-4448-9c85-b16c190b4edf",
   "metadata": {},
   "outputs": [
    {
     "data": {
      "text/plain": [
       "police_force                      0.011708\n",
       "is_near_junction                  0.001405\n",
       "time                              0.001378\n",
       "is_urban                          0.001329\n",
       "road_type                         0.001104\n",
       "light_conditions                  0.000689\n",
       "first_road_class                  0.000494\n",
       "day_of_week                       0.000442\n",
       "month                             0.000361\n",
       "road_surface_conditions           0.000332\n",
       "is_trunk                          0.000283\n",
       "weather_conditions                0.000192\n",
       "is_carriageway_hazard             0.000113\n",
       "is_near_pedestrian_crossing       0.000075\n",
       "has_special_conditions_at_site    0.000004\n",
       "dtype: float64"
      ]
     },
     "execution_count": 17,
     "metadata": {},
     "output_type": "execute_result"
    }
   ],
   "source": [
    "categorical = ['police_force', 'time',\n",
    "       'first_road_class', 'road_type', 'light_conditions',\n",
    "       'weather_conditions', 'road_surface_conditions', 'month',\n",
    "       'day_of_week', 'is_trunk', 'is_near_pedestrian_crossing', 'is_urban',\n",
    "       'has_special_conditions_at_site', 'is_carriageway_hazard',\n",
    "       'is_near_junction'\n",
    "       ]\n",
    "\n",
    "def mutual_info_severity_score(series):\n",
    "    return mutual_info_score(series, df_full_train[\"is_severe\"])\n",
    "\n",
    "df_full_train[categorical].apply(mutual_info_severity_score).sort_values(ascending=False)"
   ]
  },
  {
   "cell_type": "markdown",
   "id": "c8f46921-a6db-49a2-b4db-1c4166d55a25",
   "metadata": {},
   "source": [
    "## Feature Importance: Numerical columns\n",
    "\n",
    "We can calculate the correlation between the numerical features we have and the target variable to understanding how great an impact each numerical feature has on the target variable.\n",
    "\n",
    "We find that the correlation for all numerical features is between -0.07 and +0.004 indicating a low correlation, suggesting that neither of these columns are important in predicting the severity of a collision."
   ]
  },
  {
   "cell_type": "code",
   "execution_count": 18,
   "id": "61237c87-8574-403d-9b63-01c737a59fc6",
   "metadata": {},
   "outputs": [
    {
     "data": {
      "text/plain": [
       "number_of_vehicles   -0.074777\n",
       "day_of_year           0.004244\n",
       "dtype: float64"
      ]
     },
     "execution_count": 18,
     "metadata": {},
     "output_type": "execute_result"
    }
   ],
   "source": [
    "numerical = [\"number_of_vehicles\",\"day_of_year\"]\n",
    "\n",
    "df_full_train[numerical].corrwith(df_full_train[\"is_severe\"])"
   ]
  },
  {
   "cell_type": "markdown",
   "id": "a34ae71b-2805-40e1-89fb-f3751c8dd19a",
   "metadata": {},
   "source": [
    "## Save final version of data"
   ]
  },
  {
   "cell_type": "code",
   "execution_count": 20,
   "id": "ff83da7d-4a45-4155-8860-1906a102c354",
   "metadata": {},
   "outputs": [],
   "source": [
    "df_collision.to_csv(\"../2_model_training/data/collisions_final.csv\", index=False)\n",
    "df_collision.to_csv(\"../3_scripts/data/collisions_final.csv\", index=False)"
   ]
  },
  {
   "cell_type": "code",
   "execution_count": null,
   "id": "049d4661-cccd-4061-94a1-7125c75631a0",
   "metadata": {},
   "outputs": [],
   "source": []
  }
 ],
 "metadata": {
  "kernelspec": {
   "display_name": "collision_severity",
   "language": "python",
   "name": "collision_severity"
  },
  "language_info": {
   "codemirror_mode": {
    "name": "ipython",
    "version": 3
   },
   "file_extension": ".py",
   "mimetype": "text/x-python",
   "name": "python",
   "nbconvert_exporter": "python",
   "pygments_lexer": "ipython3",
   "version": "3.13.0"
  }
 },
 "nbformat": 4,
 "nbformat_minor": 5
}
