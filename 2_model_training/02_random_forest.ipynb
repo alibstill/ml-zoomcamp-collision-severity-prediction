{
 "cells": [
  {
   "cell_type": "markdown",
   "id": "2261716b-c03e-42f2-b659-552580740e7a",
   "metadata": {},
   "source": [
    "# Random Forest"
   ]
  },
  {
   "cell_type": "code",
   "execution_count": 1,
   "id": "8b344447-27a3-4a5e-8b13-1a5f54f3147c",
   "metadata": {},
   "outputs": [],
   "source": [
    "import pandas as pd\n",
    "import numpy as np\n",
    "from sklearn.model_selection import train_test_split\n",
    "from sklearn.ensemble import RandomForestClassifier\n",
    "from sklearn.tree import plot_tree\n",
    "from sklearn.feature_extraction import DictVectorizer\n",
    "from sklearn.metrics import roc_auc_score\n",
    "import matplotlib.pyplot as plt\n",
    "import seaborn as sns\n",
    "from tqdm.auto import tqdm\n",
    "import time"
   ]
  },
  {
   "cell_type": "code",
   "execution_count": 2,
   "id": "6979386b-3a1d-43d2-9e19-bcd596cad0c2",
   "metadata": {},
   "outputs": [
    {
     "data": {
      "text/html": [
       "<div>\n",
       "<style scoped>\n",
       "    .dataframe tbody tr th:only-of-type {\n",
       "        vertical-align: middle;\n",
       "    }\n",
       "\n",
       "    .dataframe tbody tr th {\n",
       "        vertical-align: top;\n",
       "    }\n",
       "\n",
       "    .dataframe thead th {\n",
       "        text-align: right;\n",
       "    }\n",
       "</style>\n",
       "<table border=\"1\" class=\"dataframe\">\n",
       "  <thead>\n",
       "    <tr style=\"text-align: right;\">\n",
       "      <th></th>\n",
       "      <th>police_force</th>\n",
       "      <th>number_of_vehicles</th>\n",
       "      <th>day_of_week</th>\n",
       "      <th>time</th>\n",
       "      <th>first_road_class</th>\n",
       "      <th>road_type</th>\n",
       "      <th>speed_limit</th>\n",
       "      <th>light_conditions</th>\n",
       "      <th>weather_conditions</th>\n",
       "      <th>road_surface_conditions</th>\n",
       "      <th>is_severe</th>\n",
       "      <th>month</th>\n",
       "      <th>day_of_year</th>\n",
       "      <th>is_trunk</th>\n",
       "      <th>is_near_pedestrian_crossing</th>\n",
       "      <th>is_urban</th>\n",
       "      <th>has_special_conditions_at_site</th>\n",
       "      <th>is_carriageway_hazard</th>\n",
       "      <th>is_near_junction</th>\n",
       "    </tr>\n",
       "  </thead>\n",
       "  <tbody>\n",
       "    <tr>\n",
       "      <th>0</th>\n",
       "      <td>metropolitan_police</td>\n",
       "      <td>1</td>\n",
       "      <td>sunday</td>\n",
       "      <td>01:00</td>\n",
       "      <td>c</td>\n",
       "      <td>one_way_street</td>\n",
       "      <td>20</td>\n",
       "      <td>darkness___lights_lit</td>\n",
       "      <td>other_adverse_weather_condition</td>\n",
       "      <td>wet_or_damp</td>\n",
       "      <td>0</td>\n",
       "      <td>january</td>\n",
       "      <td>1</td>\n",
       "      <td>0</td>\n",
       "      <td>1</td>\n",
       "      <td>1</td>\n",
       "      <td>0</td>\n",
       "      <td>0</td>\n",
       "      <td>1</td>\n",
       "    </tr>\n",
       "    <tr>\n",
       "      <th>1</th>\n",
       "      <td>metropolitan_police</td>\n",
       "      <td>3</td>\n",
       "      <td>sunday</td>\n",
       "      <td>02:00</td>\n",
       "      <td>unclassified</td>\n",
       "      <td>single_carriageway</td>\n",
       "      <td>30</td>\n",
       "      <td>darkness___lights_lit</td>\n",
       "      <td>fine_no_high_winds</td>\n",
       "      <td>dry</td>\n",
       "      <td>0</td>\n",
       "      <td>january</td>\n",
       "      <td>1</td>\n",
       "      <td>0</td>\n",
       "      <td>1</td>\n",
       "      <td>1</td>\n",
       "      <td>0</td>\n",
       "      <td>0</td>\n",
       "      <td>1</td>\n",
       "    </tr>\n",
       "  </tbody>\n",
       "</table>\n",
       "</div>"
      ],
      "text/plain": [
       "          police_force  number_of_vehicles day_of_week   time  \\\n",
       "0  metropolitan_police                   1      sunday  01:00   \n",
       "1  metropolitan_police                   3      sunday  02:00   \n",
       "\n",
       "  first_road_class           road_type  speed_limit       light_conditions  \\\n",
       "0                c      one_way_street           20  darkness___lights_lit   \n",
       "1     unclassified  single_carriageway           30  darkness___lights_lit   \n",
       "\n",
       "                weather_conditions road_surface_conditions  is_severe  \\\n",
       "0  other_adverse_weather_condition             wet_or_damp          0   \n",
       "1               fine_no_high_winds                     dry          0   \n",
       "\n",
       "     month  day_of_year  is_trunk  is_near_pedestrian_crossing  is_urban  \\\n",
       "0  january            1         0                            1         1   \n",
       "1  january            1         0                            1         1   \n",
       "\n",
       "   has_special_conditions_at_site  is_carriageway_hazard  is_near_junction  \n",
       "0                               0                      0                 1  \n",
       "1                               0                      0                 1  "
      ]
     },
     "execution_count": 2,
     "metadata": {},
     "output_type": "execute_result"
    }
   ],
   "source": [
    "df_collision = pd.read_csv(\"../1_eda/data/collisions_final.csv\")\n",
    "df_collision.head(2)"
   ]
  },
  {
   "cell_type": "markdown",
   "id": "eedd28e3-e674-4925-bda0-6bce524b8c98",
   "metadata": {},
   "source": [
    "## Prepare data"
   ]
  },
  {
   "cell_type": "code",
   "execution_count": 3,
   "id": "220f2c4f-2646-4ad8-b35a-e1b9ce98059f",
   "metadata": {},
   "outputs": [],
   "source": [
    "df_full_train, df_test = train_test_split(df_collision, test_size=0.2, random_state=11)\n",
    "df_train, df_val = train_test_split(df_full_train, test_size=0.25, random_state=11)\n",
    "\n",
    "df_train = df_train.reset_index(drop=True)\n",
    "df_val = df_val.reset_index(drop=True)\n",
    "df_test = df_test.reset_index(drop=True)\n",
    "\n",
    "y_train = df_train[\"is_severe\"].values\n",
    "y_val = df_val[\"is_severe\"].values\n",
    "y_test = df_test[\"is_severe\"].values\n",
    "\n",
    "del df_train[\"is_severe\"]\n",
    "del df_val[\"is_severe\"]\n",
    "del df_test[\"is_severe\"]"
   ]
  },
  {
   "cell_type": "code",
   "execution_count": 4,
   "id": "61248854-b47d-4eec-bd99-8118baa504fc",
   "metadata": {},
   "outputs": [],
   "source": [
    "# We use all the columns in our dataset\n",
    "x_train_dicts = df_train.to_dict(orient=\"records\")\n",
    "dv = DictVectorizer(sparse=False).fit(x_train_dicts)\n",
    "X_train = dv.transform(x_train_dicts)\n",
    "\n",
    "val_dicts = df_val.to_dict(orient=\"records\")\n",
    "X_val = dv.transform(val_dicts)"
   ]
  },
  {
   "cell_type": "markdown",
   "id": "398dd583-cb74-4176-b05e-13936f4977d3",
   "metadata": {},
   "source": [
    "## Train base model and evaluate it with auc_score"
   ]
  },
  {
   "cell_type": "code",
   "execution_count": 5,
   "id": "64368e64-104d-40f4-84d8-22a268f58d10",
   "metadata": {},
   "outputs": [
    {
     "data": {
      "text/html": [
       "<style>#sk-container-id-1 {\n",
       "  /* Definition of color scheme common for light and dark mode */\n",
       "  --sklearn-color-text: black;\n",
       "  --sklearn-color-line: gray;\n",
       "  /* Definition of color scheme for unfitted estimators */\n",
       "  --sklearn-color-unfitted-level-0: #fff5e6;\n",
       "  --sklearn-color-unfitted-level-1: #f6e4d2;\n",
       "  --sklearn-color-unfitted-level-2: #ffe0b3;\n",
       "  --sklearn-color-unfitted-level-3: chocolate;\n",
       "  /* Definition of color scheme for fitted estimators */\n",
       "  --sklearn-color-fitted-level-0: #f0f8ff;\n",
       "  --sklearn-color-fitted-level-1: #d4ebff;\n",
       "  --sklearn-color-fitted-level-2: #b3dbfd;\n",
       "  --sklearn-color-fitted-level-3: cornflowerblue;\n",
       "\n",
       "  /* Specific color for light theme */\n",
       "  --sklearn-color-text-on-default-background: var(--sg-text-color, var(--theme-code-foreground, var(--jp-content-font-color1, black)));\n",
       "  --sklearn-color-background: var(--sg-background-color, var(--theme-background, var(--jp-layout-color0, white)));\n",
       "  --sklearn-color-border-box: var(--sg-text-color, var(--theme-code-foreground, var(--jp-content-font-color1, black)));\n",
       "  --sklearn-color-icon: #696969;\n",
       "\n",
       "  @media (prefers-color-scheme: dark) {\n",
       "    /* Redefinition of color scheme for dark theme */\n",
       "    --sklearn-color-text-on-default-background: var(--sg-text-color, var(--theme-code-foreground, var(--jp-content-font-color1, white)));\n",
       "    --sklearn-color-background: var(--sg-background-color, var(--theme-background, var(--jp-layout-color0, #111)));\n",
       "    --sklearn-color-border-box: var(--sg-text-color, var(--theme-code-foreground, var(--jp-content-font-color1, white)));\n",
       "    --sklearn-color-icon: #878787;\n",
       "  }\n",
       "}\n",
       "\n",
       "#sk-container-id-1 {\n",
       "  color: var(--sklearn-color-text);\n",
       "}\n",
       "\n",
       "#sk-container-id-1 pre {\n",
       "  padding: 0;\n",
       "}\n",
       "\n",
       "#sk-container-id-1 input.sk-hidden--visually {\n",
       "  border: 0;\n",
       "  clip: rect(1px 1px 1px 1px);\n",
       "  clip: rect(1px, 1px, 1px, 1px);\n",
       "  height: 1px;\n",
       "  margin: -1px;\n",
       "  overflow: hidden;\n",
       "  padding: 0;\n",
       "  position: absolute;\n",
       "  width: 1px;\n",
       "}\n",
       "\n",
       "#sk-container-id-1 div.sk-dashed-wrapped {\n",
       "  border: 1px dashed var(--sklearn-color-line);\n",
       "  margin: 0 0.4em 0.5em 0.4em;\n",
       "  box-sizing: border-box;\n",
       "  padding-bottom: 0.4em;\n",
       "  background-color: var(--sklearn-color-background);\n",
       "}\n",
       "\n",
       "#sk-container-id-1 div.sk-container {\n",
       "  /* jupyter's `normalize.less` sets `[hidden] { display: none; }`\n",
       "     but bootstrap.min.css set `[hidden] { display: none !important; }`\n",
       "     so we also need the `!important` here to be able to override the\n",
       "     default hidden behavior on the sphinx rendered scikit-learn.org.\n",
       "     See: https://github.com/scikit-learn/scikit-learn/issues/21755 */\n",
       "  display: inline-block !important;\n",
       "  position: relative;\n",
       "}\n",
       "\n",
       "#sk-container-id-1 div.sk-text-repr-fallback {\n",
       "  display: none;\n",
       "}\n",
       "\n",
       "div.sk-parallel-item,\n",
       "div.sk-serial,\n",
       "div.sk-item {\n",
       "  /* draw centered vertical line to link estimators */\n",
       "  background-image: linear-gradient(var(--sklearn-color-text-on-default-background), var(--sklearn-color-text-on-default-background));\n",
       "  background-size: 2px 100%;\n",
       "  background-repeat: no-repeat;\n",
       "  background-position: center center;\n",
       "}\n",
       "\n",
       "/* Parallel-specific style estimator block */\n",
       "\n",
       "#sk-container-id-1 div.sk-parallel-item::after {\n",
       "  content: \"\";\n",
       "  width: 100%;\n",
       "  border-bottom: 2px solid var(--sklearn-color-text-on-default-background);\n",
       "  flex-grow: 1;\n",
       "}\n",
       "\n",
       "#sk-container-id-1 div.sk-parallel {\n",
       "  display: flex;\n",
       "  align-items: stretch;\n",
       "  justify-content: center;\n",
       "  background-color: var(--sklearn-color-background);\n",
       "  position: relative;\n",
       "}\n",
       "\n",
       "#sk-container-id-1 div.sk-parallel-item {\n",
       "  display: flex;\n",
       "  flex-direction: column;\n",
       "}\n",
       "\n",
       "#sk-container-id-1 div.sk-parallel-item:first-child::after {\n",
       "  align-self: flex-end;\n",
       "  width: 50%;\n",
       "}\n",
       "\n",
       "#sk-container-id-1 div.sk-parallel-item:last-child::after {\n",
       "  align-self: flex-start;\n",
       "  width: 50%;\n",
       "}\n",
       "\n",
       "#sk-container-id-1 div.sk-parallel-item:only-child::after {\n",
       "  width: 0;\n",
       "}\n",
       "\n",
       "/* Serial-specific style estimator block */\n",
       "\n",
       "#sk-container-id-1 div.sk-serial {\n",
       "  display: flex;\n",
       "  flex-direction: column;\n",
       "  align-items: center;\n",
       "  background-color: var(--sklearn-color-background);\n",
       "  padding-right: 1em;\n",
       "  padding-left: 1em;\n",
       "}\n",
       "\n",
       "\n",
       "/* Toggleable style: style used for estimator/Pipeline/ColumnTransformer box that is\n",
       "clickable and can be expanded/collapsed.\n",
       "- Pipeline and ColumnTransformer use this feature and define the default style\n",
       "- Estimators will overwrite some part of the style using the `sk-estimator` class\n",
       "*/\n",
       "\n",
       "/* Pipeline and ColumnTransformer style (default) */\n",
       "\n",
       "#sk-container-id-1 div.sk-toggleable {\n",
       "  /* Default theme specific background. It is overwritten whether we have a\n",
       "  specific estimator or a Pipeline/ColumnTransformer */\n",
       "  background-color: var(--sklearn-color-background);\n",
       "}\n",
       "\n",
       "/* Toggleable label */\n",
       "#sk-container-id-1 label.sk-toggleable__label {\n",
       "  cursor: pointer;\n",
       "  display: block;\n",
       "  width: 100%;\n",
       "  margin-bottom: 0;\n",
       "  padding: 0.5em;\n",
       "  box-sizing: border-box;\n",
       "  text-align: center;\n",
       "}\n",
       "\n",
       "#sk-container-id-1 label.sk-toggleable__label-arrow:before {\n",
       "  /* Arrow on the left of the label */\n",
       "  content: \"▸\";\n",
       "  float: left;\n",
       "  margin-right: 0.25em;\n",
       "  color: var(--sklearn-color-icon);\n",
       "}\n",
       "\n",
       "#sk-container-id-1 label.sk-toggleable__label-arrow:hover:before {\n",
       "  color: var(--sklearn-color-text);\n",
       "}\n",
       "\n",
       "/* Toggleable content - dropdown */\n",
       "\n",
       "#sk-container-id-1 div.sk-toggleable__content {\n",
       "  max-height: 0;\n",
       "  max-width: 0;\n",
       "  overflow: hidden;\n",
       "  text-align: left;\n",
       "  /* unfitted */\n",
       "  background-color: var(--sklearn-color-unfitted-level-0);\n",
       "}\n",
       "\n",
       "#sk-container-id-1 div.sk-toggleable__content.fitted {\n",
       "  /* fitted */\n",
       "  background-color: var(--sklearn-color-fitted-level-0);\n",
       "}\n",
       "\n",
       "#sk-container-id-1 div.sk-toggleable__content pre {\n",
       "  margin: 0.2em;\n",
       "  border-radius: 0.25em;\n",
       "  color: var(--sklearn-color-text);\n",
       "  /* unfitted */\n",
       "  background-color: var(--sklearn-color-unfitted-level-0);\n",
       "}\n",
       "\n",
       "#sk-container-id-1 div.sk-toggleable__content.fitted pre {\n",
       "  /* unfitted */\n",
       "  background-color: var(--sklearn-color-fitted-level-0);\n",
       "}\n",
       "\n",
       "#sk-container-id-1 input.sk-toggleable__control:checked~div.sk-toggleable__content {\n",
       "  /* Expand drop-down */\n",
       "  max-height: 200px;\n",
       "  max-width: 100%;\n",
       "  overflow: auto;\n",
       "}\n",
       "\n",
       "#sk-container-id-1 input.sk-toggleable__control:checked~label.sk-toggleable__label-arrow:before {\n",
       "  content: \"▾\";\n",
       "}\n",
       "\n",
       "/* Pipeline/ColumnTransformer-specific style */\n",
       "\n",
       "#sk-container-id-1 div.sk-label input.sk-toggleable__control:checked~label.sk-toggleable__label {\n",
       "  color: var(--sklearn-color-text);\n",
       "  background-color: var(--sklearn-color-unfitted-level-2);\n",
       "}\n",
       "\n",
       "#sk-container-id-1 div.sk-label.fitted input.sk-toggleable__control:checked~label.sk-toggleable__label {\n",
       "  background-color: var(--sklearn-color-fitted-level-2);\n",
       "}\n",
       "\n",
       "/* Estimator-specific style */\n",
       "\n",
       "/* Colorize estimator box */\n",
       "#sk-container-id-1 div.sk-estimator input.sk-toggleable__control:checked~label.sk-toggleable__label {\n",
       "  /* unfitted */\n",
       "  background-color: var(--sklearn-color-unfitted-level-2);\n",
       "}\n",
       "\n",
       "#sk-container-id-1 div.sk-estimator.fitted input.sk-toggleable__control:checked~label.sk-toggleable__label {\n",
       "  /* fitted */\n",
       "  background-color: var(--sklearn-color-fitted-level-2);\n",
       "}\n",
       "\n",
       "#sk-container-id-1 div.sk-label label.sk-toggleable__label,\n",
       "#sk-container-id-1 div.sk-label label {\n",
       "  /* The background is the default theme color */\n",
       "  color: var(--sklearn-color-text-on-default-background);\n",
       "}\n",
       "\n",
       "/* On hover, darken the color of the background */\n",
       "#sk-container-id-1 div.sk-label:hover label.sk-toggleable__label {\n",
       "  color: var(--sklearn-color-text);\n",
       "  background-color: var(--sklearn-color-unfitted-level-2);\n",
       "}\n",
       "\n",
       "/* Label box, darken color on hover, fitted */\n",
       "#sk-container-id-1 div.sk-label.fitted:hover label.sk-toggleable__label.fitted {\n",
       "  color: var(--sklearn-color-text);\n",
       "  background-color: var(--sklearn-color-fitted-level-2);\n",
       "}\n",
       "\n",
       "/* Estimator label */\n",
       "\n",
       "#sk-container-id-1 div.sk-label label {\n",
       "  font-family: monospace;\n",
       "  font-weight: bold;\n",
       "  display: inline-block;\n",
       "  line-height: 1.2em;\n",
       "}\n",
       "\n",
       "#sk-container-id-1 div.sk-label-container {\n",
       "  text-align: center;\n",
       "}\n",
       "\n",
       "/* Estimator-specific */\n",
       "#sk-container-id-1 div.sk-estimator {\n",
       "  font-family: monospace;\n",
       "  border: 1px dotted var(--sklearn-color-border-box);\n",
       "  border-radius: 0.25em;\n",
       "  box-sizing: border-box;\n",
       "  margin-bottom: 0.5em;\n",
       "  /* unfitted */\n",
       "  background-color: var(--sklearn-color-unfitted-level-0);\n",
       "}\n",
       "\n",
       "#sk-container-id-1 div.sk-estimator.fitted {\n",
       "  /* fitted */\n",
       "  background-color: var(--sklearn-color-fitted-level-0);\n",
       "}\n",
       "\n",
       "/* on hover */\n",
       "#sk-container-id-1 div.sk-estimator:hover {\n",
       "  /* unfitted */\n",
       "  background-color: var(--sklearn-color-unfitted-level-2);\n",
       "}\n",
       "\n",
       "#sk-container-id-1 div.sk-estimator.fitted:hover {\n",
       "  /* fitted */\n",
       "  background-color: var(--sklearn-color-fitted-level-2);\n",
       "}\n",
       "\n",
       "/* Specification for estimator info (e.g. \"i\" and \"?\") */\n",
       "\n",
       "/* Common style for \"i\" and \"?\" */\n",
       "\n",
       ".sk-estimator-doc-link,\n",
       "a:link.sk-estimator-doc-link,\n",
       "a:visited.sk-estimator-doc-link {\n",
       "  float: right;\n",
       "  font-size: smaller;\n",
       "  line-height: 1em;\n",
       "  font-family: monospace;\n",
       "  background-color: var(--sklearn-color-background);\n",
       "  border-radius: 1em;\n",
       "  height: 1em;\n",
       "  width: 1em;\n",
       "  text-decoration: none !important;\n",
       "  margin-left: 1ex;\n",
       "  /* unfitted */\n",
       "  border: var(--sklearn-color-unfitted-level-1) 1pt solid;\n",
       "  color: var(--sklearn-color-unfitted-level-1);\n",
       "}\n",
       "\n",
       ".sk-estimator-doc-link.fitted,\n",
       "a:link.sk-estimator-doc-link.fitted,\n",
       "a:visited.sk-estimator-doc-link.fitted {\n",
       "  /* fitted */\n",
       "  border: var(--sklearn-color-fitted-level-1) 1pt solid;\n",
       "  color: var(--sklearn-color-fitted-level-1);\n",
       "}\n",
       "\n",
       "/* On hover */\n",
       "div.sk-estimator:hover .sk-estimator-doc-link:hover,\n",
       ".sk-estimator-doc-link:hover,\n",
       "div.sk-label-container:hover .sk-estimator-doc-link:hover,\n",
       ".sk-estimator-doc-link:hover {\n",
       "  /* unfitted */\n",
       "  background-color: var(--sklearn-color-unfitted-level-3);\n",
       "  color: var(--sklearn-color-background);\n",
       "  text-decoration: none;\n",
       "}\n",
       "\n",
       "div.sk-estimator.fitted:hover .sk-estimator-doc-link.fitted:hover,\n",
       ".sk-estimator-doc-link.fitted:hover,\n",
       "div.sk-label-container:hover .sk-estimator-doc-link.fitted:hover,\n",
       ".sk-estimator-doc-link.fitted:hover {\n",
       "  /* fitted */\n",
       "  background-color: var(--sklearn-color-fitted-level-3);\n",
       "  color: var(--sklearn-color-background);\n",
       "  text-decoration: none;\n",
       "}\n",
       "\n",
       "/* Span, style for the box shown on hovering the info icon */\n",
       ".sk-estimator-doc-link span {\n",
       "  display: none;\n",
       "  z-index: 9999;\n",
       "  position: relative;\n",
       "  font-weight: normal;\n",
       "  right: .2ex;\n",
       "  padding: .5ex;\n",
       "  margin: .5ex;\n",
       "  width: min-content;\n",
       "  min-width: 20ex;\n",
       "  max-width: 50ex;\n",
       "  color: var(--sklearn-color-text);\n",
       "  box-shadow: 2pt 2pt 4pt #999;\n",
       "  /* unfitted */\n",
       "  background: var(--sklearn-color-unfitted-level-0);\n",
       "  border: .5pt solid var(--sklearn-color-unfitted-level-3);\n",
       "}\n",
       "\n",
       ".sk-estimator-doc-link.fitted span {\n",
       "  /* fitted */\n",
       "  background: var(--sklearn-color-fitted-level-0);\n",
       "  border: var(--sklearn-color-fitted-level-3);\n",
       "}\n",
       "\n",
       ".sk-estimator-doc-link:hover span {\n",
       "  display: block;\n",
       "}\n",
       "\n",
       "/* \"?\"-specific style due to the `<a>` HTML tag */\n",
       "\n",
       "#sk-container-id-1 a.estimator_doc_link {\n",
       "  float: right;\n",
       "  font-size: 1rem;\n",
       "  line-height: 1em;\n",
       "  font-family: monospace;\n",
       "  background-color: var(--sklearn-color-background);\n",
       "  border-radius: 1rem;\n",
       "  height: 1rem;\n",
       "  width: 1rem;\n",
       "  text-decoration: none;\n",
       "  /* unfitted */\n",
       "  color: var(--sklearn-color-unfitted-level-1);\n",
       "  border: var(--sklearn-color-unfitted-level-1) 1pt solid;\n",
       "}\n",
       "\n",
       "#sk-container-id-1 a.estimator_doc_link.fitted {\n",
       "  /* fitted */\n",
       "  border: var(--sklearn-color-fitted-level-1) 1pt solid;\n",
       "  color: var(--sklearn-color-fitted-level-1);\n",
       "}\n",
       "\n",
       "/* On hover */\n",
       "#sk-container-id-1 a.estimator_doc_link:hover {\n",
       "  /* unfitted */\n",
       "  background-color: var(--sklearn-color-unfitted-level-3);\n",
       "  color: var(--sklearn-color-background);\n",
       "  text-decoration: none;\n",
       "}\n",
       "\n",
       "#sk-container-id-1 a.estimator_doc_link.fitted:hover {\n",
       "  /* fitted */\n",
       "  background-color: var(--sklearn-color-fitted-level-3);\n",
       "}\n",
       "</style><div id=\"sk-container-id-1\" class=\"sk-top-container\"><div class=\"sk-text-repr-fallback\"><pre>RandomForestClassifier(n_estimators=10, random_state=1)</pre><b>In a Jupyter environment, please rerun this cell to show the HTML representation or trust the notebook. <br />On GitHub, the HTML representation is unable to render, please try loading this page with nbviewer.org.</b></div><div class=\"sk-container\" hidden><div class=\"sk-item\"><div class=\"sk-estimator fitted sk-toggleable\"><input class=\"sk-toggleable__control sk-hidden--visually\" id=\"sk-estimator-id-1\" type=\"checkbox\" checked><label for=\"sk-estimator-id-1\" class=\"sk-toggleable__label fitted sk-toggleable__label-arrow fitted\">&nbsp;&nbsp;RandomForestClassifier<a class=\"sk-estimator-doc-link fitted\" rel=\"noreferrer\" target=\"_blank\" href=\"https://scikit-learn.org/1.5/modules/generated/sklearn.ensemble.RandomForestClassifier.html\">?<span>Documentation for RandomForestClassifier</span></a><span class=\"sk-estimator-doc-link fitted\">i<span>Fitted</span></span></label><div class=\"sk-toggleable__content fitted\"><pre>RandomForestClassifier(n_estimators=10, random_state=1)</pre></div> </div></div></div></div>"
      ],
      "text/plain": [
       "RandomForestClassifier(n_estimators=10, random_state=1)"
      ]
     },
     "execution_count": 5,
     "metadata": {},
     "output_type": "execute_result"
    }
   ],
   "source": [
    "rf_base = RandomForestClassifier(n_estimators=10, random_state=1) \n",
    "rf_base.fit(X_train,y_train)"
   ]
  },
  {
   "cell_type": "code",
   "execution_count": 6,
   "id": "fe147022-a5a8-4ac5-a010-d69890219bbe",
   "metadata": {},
   "outputs": [
    {
     "data": {
      "text/plain": [
       "np.float64(0.5703959619645457)"
      ]
     },
     "execution_count": 6,
     "metadata": {},
     "output_type": "execute_result"
    }
   ],
   "source": [
    "y_pred = rf_base.predict_proba(X_val)[:,1]\n",
    "roc_auc_score(y_val, y_pred)"
   ]
  },
  {
   "cell_type": "code",
   "execution_count": 7,
   "id": "4507ceb5-80d6-4b10-8657-9fb14b22a03d",
   "metadata": {},
   "outputs": [
    {
     "data": {
      "text/plain": [
       "(10, np.int64(83), np.int64(68), np.float64(75.0))"
      ]
     },
     "execution_count": 7,
     "metadata": {},
     "output_type": "execute_result"
    }
   ],
   "source": [
    "tree_depths = [tree.get_depth() for tree in rf_base.estimators_]\n",
    "\n",
    "max_depth = np.max(tree_depths)\n",
    "min_depth = np.min(tree_depths)\n",
    "avg_depth = np.mean(tree_depths)\n",
    "\n",
    "len(rf_base.estimators_), max_depth, min_depth, avg_depth"
   ]
  },
  {
   "cell_type": "markdown",
   "id": "f2106205-29f1-487e-b007-a329ed971e8c",
   "metadata": {},
   "source": [
    "**Observations**\n",
    "\n",
    "`roc_auc_score`: Our base random forest model has an `roc_auc_score` of around 0.57, worse than the base logistic regression model.\n",
    "\n",
    "`max_depth`: The base model uses 10 decision trees and does not set a limit on the maximum depth (default=None). The maximum depth reached without restriction was 83 levels."
   ]
  },
  {
   "cell_type": "markdown",
   "id": "e9714264-801c-423c-970b-51d430f13109",
   "metadata": {},
   "source": [
    "## Model Tuning"
   ]
  },
  {
   "cell_type": "markdown",
   "id": "443cb3e3-97d3-41c4-9f13-d123e4fe7f85",
   "metadata": {},
   "source": [
    "### n_jobs\n",
    "\n",
    "This parameter defines the number of jobs to run in parallel i.e. instead of training each tree sequentially, train the trees in parallel across multiple CPU cores. By Setting `n_jobs=-1` we tell scikit learn to use all processors. \n",
    "\n",
    "By default this parameter is set to None, which means it will not do any parallelism. There is no logical reason why setting this field would impact the `roc_auc_score`, all it does is speed up computation. I initially ran this notebook without setting this variable and the different code segments were taking sometimes over 5 minutes to run. When I changed to `n_jobs=-1`, I saw no change in the conclusions to be drawn from the analysis e.g. the best max_depth is still 20, which is as expected."
   ]
  },
  {
   "cell_type": "markdown",
   "id": "fc228f39-aeba-4ff2-9b74-bc82706f074a",
   "metadata": {},
   "source": [
    "### How many trees should we have? (n_estimators)\n",
    "\n",
    "A random forest is made up of multiple decision trees. The specific number is specified by the parameter, `n_estimators`. \n",
    "\n",
    "We can evaluate the performance of the random forest classifier with different number of trees by calculating the `roc_auc_score`. \n",
    "\n",
    "It's worth noting that the `roc_auc_score` will increase as we add more trees. I thought I could look for the maximum `roc_auc_score` but there is no natural peak for this. Furthermore, we need to consider computational efficiency alongside performance: each additional tree requires more memory and time. \n",
    "\n",
    "Rather that find the `n_estimator` based on max `roc_auc_score`, I should look for the point at which adding more trees has diminishing returns"
   ]
  },
  {
   "cell_type": "code",
   "execution_count": 8,
   "id": "07ea0ac1-40b4-408b-a6a3-8030b2f6d889",
   "metadata": {},
   "outputs": [
    {
     "data": {
      "application/vnd.jupyter.widget-view+json": {
       "model_id": "ed51195fdc724a8fae7f42b39e0cb399",
       "version_major": 2,
       "version_minor": 0
      },
      "text/plain": [
       "  0%|          | 0/20 [00:00<?, ?it/s]"
      ]
     },
     "metadata": {},
     "output_type": "display_data"
    }
   ],
   "source": [
    "# This took around 4 minutes on my machine with n_jobs=None but setting n_jobs=-1 reduced the time to 48 seconds\n",
    "scores_nest = []\n",
    "\n",
    "for n in tqdm(range(10,201,10)):\n",
    "    start_time = time.time()\n",
    "    rf = RandomForestClassifier(n_estimators=n, random_state=1, n_jobs=-1) \n",
    "    rf.fit(X_train,y_train)\n",
    "    y_pred = rf.predict_proba(X_val)[:,1]\n",
    "    score = roc_auc_score(y_val, y_pred)\n",
    "    end_time = time.time()\n",
    "    elapsed_time = end_time - start_time\n",
    "    scores_nest.append((n, score, elapsed_time))"
   ]
  },
  {
   "cell_type": "markdown",
   "id": "1da42464-881f-4606-9b7d-d6e5fe4619d6",
   "metadata": {},
   "source": [
    "The **Number of Trees vs ROC AUC score** graph is familiar and we can see that the improvements start to diminish at around 100 trees."
   ]
  },
  {
   "cell_type": "code",
   "execution_count": 9,
   "id": "19bd7875-446e-423a-a9f9-c9ccd86fe658",
   "metadata": {},
   "outputs": [
    {
     "data": {
      "image/png": "[encoded data removed]",
      "text/plain": [
       "<Figure size 640x480 with 1 Axes>"
      ]
     },
     "metadata": {},
     "output_type": "display_data"
    }
   ],
   "source": [
    "df_scores_nest = pd.DataFrame(scores_nest, columns=[\"n_estimator\",\"roc_auc_score\",\"elapsed_time\"])\n",
    "\n",
    "ax = sns.lineplot(data=df_scores_nest, x=\"n_estimator\", y=\"roc_auc_score\")\n",
    "\n",
    "plt.grid(True)\n",
    "plt.title(\"Number of Trees vs ROC AUC score\")\n",
    "plt.show()"
   ]
  },
  {
   "cell_type": "markdown",
   "id": "963d2640-0a60-4b03-9b8f-f225811dceef",
   "metadata": {},
   "source": [
    "In this **Computational Time vs ROC AUC Score** graph, the plateau is more evident: we can see that the roc_auc_score barely changes after 120 trees."
   ]
  },
  {
   "cell_type": "code",
   "execution_count": 10,
   "id": "b275f592-622b-4e1b-93b7-c0b13ea7d993",
   "metadata": {},
   "outputs": [
    {
     "data": {
      "text/plain": [
       "Text(0.5, 1.0, 'Computational Time vs ROC AUC Score')"
      ]
     },
     "execution_count": 10,
     "metadata": {},
     "output_type": "execute_result"
    },
    {
     "data": {
      "image/png": "[encoded data removed]",
      "text/plain": [
       "<Figure size 640x480 with 1 Axes>"
      ]
     },
     "metadata": {},
     "output_type": "display_data"
    }
   ],
   "source": [
    "ax = sns.scatterplot(data=df_scores_nest, x=\"elapsed_time\", y=\"roc_auc_score\", hue=\"n_estimator\", palette=\"RdBu\")\n",
    "sns.move_legend(ax, \"upper left\", bbox_to_anchor=(1, 1))\n",
    "\n",
    "plt.xlabel(\"computation time in seconds\")\n",
    "plt.grid(True)\n",
    "plt.title(\"Computational Time vs ROC AUC Score\")"
   ]
  },
  {
   "cell_type": "markdown",
   "id": "5afb54a9-7d0c-47e4-b776-76d3c7baa0da",
   "metadata": {},
   "source": [
    "**Conclusion**\n",
    "\n",
    "We can see that there is a substantial increase in the performance of the model initially but then this plateaus at around the 100 mark.\n",
    "\n",
    "At this point our `roc_auc_score` sits at just above 0.6. This is an improvement from our base model that had an `roc_auc_score` of 0.57."
   ]
  },
  {
   "cell_type": "code",
   "execution_count": 11,
   "id": "e531c5e1-5144-450e-99db-f86414933b42",
   "metadata": {},
   "outputs": [
    {
     "data": {
      "text/html": [
       "<div>\n",
       "<style scoped>\n",
       "    .dataframe tbody tr th:only-of-type {\n",
       "        vertical-align: middle;\n",
       "    }\n",
       "\n",
       "    .dataframe tbody tr th {\n",
       "        vertical-align: top;\n",
       "    }\n",
       "\n",
       "    .dataframe thead th {\n",
       "        text-align: right;\n",
       "    }\n",
       "</style>\n",
       "<table border=\"1\" class=\"dataframe\">\n",
       "  <thead>\n",
       "    <tr style=\"text-align: right;\">\n",
       "      <th></th>\n",
       "      <th>n_estimator</th>\n",
       "      <th>roc_auc_score</th>\n",
       "      <th>elapsed_time</th>\n",
       "    </tr>\n",
       "  </thead>\n",
       "  <tbody>\n",
       "    <tr>\n",
       "      <th>19</th>\n",
       "      <td>200</td>\n",
       "      <td>0.602412</td>\n",
       "      <td>3.566242</td>\n",
       "    </tr>\n",
       "    <tr>\n",
       "      <th>18</th>\n",
       "      <td>190</td>\n",
       "      <td>0.602174</td>\n",
       "      <td>3.279612</td>\n",
       "    </tr>\n",
       "    <tr>\n",
       "      <th>17</th>\n",
       "      <td>180</td>\n",
       "      <td>0.602083</td>\n",
       "      <td>3.106983</td>\n",
       "    </tr>\n",
       "    <tr>\n",
       "      <th>16</th>\n",
       "      <td>170</td>\n",
       "      <td>0.601569</td>\n",
       "      <td>2.954358</td>\n",
       "    </tr>\n",
       "    <tr>\n",
       "      <th>10</th>\n",
       "      <td>110</td>\n",
       "      <td>0.601483</td>\n",
       "      <td>2.051144</td>\n",
       "    </tr>\n",
       "    <tr>\n",
       "      <th>9</th>\n",
       "      <td>100</td>\n",
       "      <td>0.601161</td>\n",
       "      <td>1.815488</td>\n",
       "    </tr>\n",
       "    <tr>\n",
       "      <th>11</th>\n",
       "      <td>120</td>\n",
       "      <td>0.601073</td>\n",
       "      <td>2.240805</td>\n",
       "    </tr>\n",
       "    <tr>\n",
       "      <th>15</th>\n",
       "      <td>160</td>\n",
       "      <td>0.601048</td>\n",
       "      <td>2.748470</td>\n",
       "    </tr>\n",
       "    <tr>\n",
       "      <th>14</th>\n",
       "      <td>150</td>\n",
       "      <td>0.600971</td>\n",
       "      <td>2.573054</td>\n",
       "    </tr>\n",
       "    <tr>\n",
       "      <th>12</th>\n",
       "      <td>130</td>\n",
       "      <td>0.600967</td>\n",
       "      <td>2.394690</td>\n",
       "    </tr>\n",
       "  </tbody>\n",
       "</table>\n",
       "</div>"
      ],
      "text/plain": [
       "    n_estimator  roc_auc_score  elapsed_time\n",
       "19          200       0.602412      3.566242\n",
       "18          190       0.602174      3.279612\n",
       "17          180       0.602083      3.106983\n",
       "16          170       0.601569      2.954358\n",
       "10          110       0.601483      2.051144\n",
       "9           100       0.601161      1.815488\n",
       "11          120       0.601073      2.240805\n",
       "15          160       0.601048      2.748470\n",
       "14          150       0.600971      2.573054\n",
       "12          130       0.600967      2.394690"
      ]
     },
     "execution_count": 11,
     "metadata": {},
     "output_type": "execute_result"
    }
   ],
   "source": [
    "df_scores_nest.sort_values(by=\"roc_auc_score\", ascending=False).head(10)"
   ]
  },
  {
   "cell_type": "markdown",
   "id": "f042df4f-e804-4179-86f0-a42ac3c7dcc0",
   "metadata": {},
   "source": [
    "### What is the best max depth?\n",
    "\n",
    "The depth of the decision tree is the number of levels from the root node to furthest leaf node.\n",
    "\n",
    "Our base model's depth is set to None at the moment (default value) which means that the tree will keep branching and growing until each leaf contains only one class (or it hits the limit imposed by another parameter `min_samples_leaf`. Without restriction, its max depth was 105. \n",
    "\n",
    "A deeper tree has more levels of decision making which means that the model can capture more complexity. However it can also result in overfitting not to mention a higher computational."
   ]
  },
  {
   "cell_type": "code",
   "execution_count": 12,
   "id": "ea2b2541-ee91-463f-a210-d108464aade3",
   "metadata": {},
   "outputs": [
    {
     "data": {
      "application/vnd.jupyter.widget-view+json": {
       "model_id": "074ce8e8141e4a9fb492aedcdb5a809f",
       "version_major": 2,
       "version_minor": 0
      },
      "text/plain": [
       "  0%|          | 0/6 [00:00<?, ?it/s]"
      ]
     },
     "metadata": {},
     "output_type": "display_data"
    },
    {
     "data": {
      "application/vnd.jupyter.widget-view+json": {
       "model_id": "ebd4898a125742ffa65b69b8bd5a853d",
       "version_major": 2,
       "version_minor": 0
      },
      "text/plain": [
       "  0%|          | 0/10 [00:00<?, ?it/s]"
      ]
     },
     "metadata": {},
     "output_type": "display_data"
    },
    {
     "data": {
      "application/vnd.jupyter.widget-view+json": {
       "model_id": "521f92765efe44e1948f690eb6ce5eab",
       "version_major": 2,
       "version_minor": 0
      },
      "text/plain": [
       "  0%|          | 0/10 [00:00<?, ?it/s]"
      ]
     },
     "metadata": {},
     "output_type": "display_data"
    },
    {
     "data": {
      "application/vnd.jupyter.widget-view+json": {
       "model_id": "1fb3d61399a448e8ad918c63fd5e6ac2",
       "version_major": 2,
       "version_minor": 0
      },
      "text/plain": [
       "  0%|          | 0/10 [00:00<?, ?it/s]"
      ]
     },
     "metadata": {},
     "output_type": "display_data"
    },
    {
     "data": {
      "application/vnd.jupyter.widget-view+json": {
       "model_id": "0aa670ea7be04fb3a746e29750050d57",
       "version_major": 2,
       "version_minor": 0
      },
      "text/plain": [
       "  0%|          | 0/10 [00:00<?, ?it/s]"
      ]
     },
     "metadata": {},
     "output_type": "display_data"
    },
    {
     "data": {
      "application/vnd.jupyter.widget-view+json": {
       "model_id": "c518201d7f4d4851a7fbe5d340e1ff46",
       "version_major": 2,
       "version_minor": 0
      },
      "text/plain": [
       "  0%|          | 0/10 [00:00<?, ?it/s]"
      ]
     },
     "metadata": {},
     "output_type": "display_data"
    },
    {
     "data": {
      "application/vnd.jupyter.widget-view+json": {
       "model_id": "f50d4734321d4687a6996d4165a2c33a",
       "version_major": 2,
       "version_minor": 0
      },
      "text/plain": [
       "  0%|          | 0/10 [00:00<?, ?it/s]"
      ]
     },
     "metadata": {},
     "output_type": "display_data"
    }
   ],
   "source": [
    "# This took around 7 minutes on my machine when n_jobs=None, setting n_jobs=-1 speeds this up to under 90 seconds!\n",
    "scores_md = []\n",
    "number_trees = range(10,201,20)\n",
    "max_depths = [5,10,20,30,40,80]\n",
    "\n",
    "for d in tqdm(max_depths):\n",
    "    for n in tqdm(number_trees):\n",
    "        start_time = time.time()\n",
    "        rf = RandomForestClassifier(n_estimators=n, max_depth=d, random_state=1, n_jobs=-1) # setting n_jobs=-1 uses all processors \n",
    "        rf.fit(X_train,y_train)\n",
    "        y_pred = rf.predict_proba(X_val)[:,1]\n",
    "        score = roc_auc_score(y_val, y_pred)\n",
    "        end_time = time.time()\n",
    "        elapsed_time = end_time - start_time\n",
    "        scores_md.append((d, n, score, elapsed_time))"
   ]
  },
  {
   "cell_type": "code",
   "execution_count": 13,
   "id": "dbc0d9e0-c462-4021-9483-6806165a927a",
   "metadata": {},
   "outputs": [
    {
     "data": {
      "text/html": [
       "<div>\n",
       "<style scoped>\n",
       "    .dataframe tbody tr th:only-of-type {\n",
       "        vertical-align: middle;\n",
       "    }\n",
       "\n",
       "    .dataframe tbody tr th {\n",
       "        vertical-align: top;\n",
       "    }\n",
       "\n",
       "    .dataframe thead th {\n",
       "        text-align: right;\n",
       "    }\n",
       "</style>\n",
       "<table border=\"1\" class=\"dataframe\">\n",
       "  <thead>\n",
       "    <tr style=\"text-align: right;\">\n",
       "      <th></th>\n",
       "      <th>max_depth</th>\n",
       "      <th>n_estimator</th>\n",
       "      <th>roc_auc_score</th>\n",
       "      <th>computational_time</th>\n",
       "    </tr>\n",
       "  </thead>\n",
       "  <tbody>\n",
       "    <tr>\n",
       "      <th>18</th>\n",
       "      <td>10</td>\n",
       "      <td>170</td>\n",
       "      <td>0.628463</td>\n",
       "      <td>1.714190</td>\n",
       "    </tr>\n",
       "    <tr>\n",
       "      <th>19</th>\n",
       "      <td>10</td>\n",
       "      <td>190</td>\n",
       "      <td>0.628441</td>\n",
       "      <td>1.923059</td>\n",
       "    </tr>\n",
       "    <tr>\n",
       "      <th>17</th>\n",
       "      <td>10</td>\n",
       "      <td>150</td>\n",
       "      <td>0.628342</td>\n",
       "      <td>1.508489</td>\n",
       "    </tr>\n",
       "    <tr>\n",
       "      <th>16</th>\n",
       "      <td>10</td>\n",
       "      <td>130</td>\n",
       "      <td>0.627801</td>\n",
       "      <td>1.287158</td>\n",
       "    </tr>\n",
       "    <tr>\n",
       "      <th>15</th>\n",
       "      <td>10</td>\n",
       "      <td>110</td>\n",
       "      <td>0.627364</td>\n",
       "      <td>1.165942</td>\n",
       "    </tr>\n",
       "  </tbody>\n",
       "</table>\n",
       "</div>"
      ],
      "text/plain": [
       "    max_depth  n_estimator  roc_auc_score  computational_time\n",
       "18         10          170       0.628463            1.714190\n",
       "19         10          190       0.628441            1.923059\n",
       "17         10          150       0.628342            1.508489\n",
       "16         10          130       0.627801            1.287158\n",
       "15         10          110       0.627364            1.165942"
      ]
     },
     "execution_count": 13,
     "metadata": {},
     "output_type": "execute_result"
    }
   ],
   "source": [
    "columns = [\"max_depth\", \"n_estimator\",\"roc_auc_score\", \"computational_time\"]\n",
    "df_scores_md = pd.DataFrame(scores_md, columns=columns)\n",
    "df_scores_md.sort_values(by=\"roc_auc_score\", ascending=False).head()"
   ]
  },
  {
   "cell_type": "code",
   "execution_count": 14,
   "id": "2dc92bbc-d4db-4327-afb7-1e6435e7f169",
   "metadata": {},
   "outputs": [
    {
     "data": {
      "image/png": "[encoded data removed]",
      "text/plain": [
       "<Figure size 640x480 with 1 Axes>"
      ]
     },
     "metadata": {},
     "output_type": "display_data"
    }
   ],
   "source": [
    "sns.set_palette(\"bright\")\n",
    "\n",
    "for d in max_depths:\n",
    "    df_subset = df_scores_md[df_scores_md[\"max_depth\"] == d]\n",
    "    sns.lineplot(data=df_subset, x=\"n_estimator\", y=\"roc_auc_score\", label='max_depth=%d' % d)\n",
    "\n",
    "plt.title(\"Identifying Optimal Max Depth: Number of Trees vs ROC AUC score\")\n",
    "plt.show()"
   ]
  },
  {
   "cell_type": "markdown",
   "id": "feb4e043-b200-4583-909f-debd2c105d03",
   "metadata": {},
   "source": [
    "We can see from the graph that a `max_depth` of 10 is the clear winner in this scenario.\n",
    "\n",
    "When we tune `max_depth` our `roc_auc_score` improves again and in comparison to just tuning the number of trees, the computational timing drops: Even with 170 trees, with `max_depth` set to 10, we see our `roc_auc_score` improve to 0.628.\n",
    "\n",
    "This is not a huge change from the 0.6 mark achieved by tuning the number of trees but is still worthwhile."
   ]
  },
  {
   "cell_type": "markdown",
   "id": "a8daf24c-d56c-4b70-9262-18f0ab9ba1af",
   "metadata": {},
   "source": [
    "### What is the minimum number of samples that should exist at each leaf node?\n",
    "\n",
    "A leaf node is the last node in a decision tree where you finally get to a decision point, in our case, we get an answer(probability) of whether our collision is severe.\n",
    "\n",
    "In our base model and by default `min_samples_leaf` is set to 1, which means we have only one sample to back up this decision. If most of our leaf nodes have only one sample it can mean that our whole decision tree may perform well for our training set but badly on other datasets i.e. suffer from overfitting.\n",
    "\n",
    "To avoid overfitting, we can modify the `min_samples_leaf`\n",
    "\n",
    "We test out different values of `min_samples_leaf` setting `max_depth` to 10"
   ]
  },
  {
   "cell_type": "code",
   "execution_count": 15,
   "id": "053b615f-881b-457b-92b7-475403f7aa4c",
   "metadata": {},
   "outputs": [
    {
     "data": {
      "application/vnd.jupyter.widget-view+json": {
       "model_id": "ac224ff1d8d04834b3e84b1256baa43d",
       "version_major": 2,
       "version_minor": 0
      },
      "text/plain": [
       "  0%|          | 0/5 [00:00<?, ?it/s]"
      ]
     },
     "metadata": {},
     "output_type": "display_data"
    },
    {
     "data": {
      "application/vnd.jupyter.widget-view+json": {
       "model_id": "edb8db1741a544fe855c115efd9a0609",
       "version_major": 2,
       "version_minor": 0
      },
      "text/plain": [
       "  0%|          | 0/10 [00:00<?, ?it/s]"
      ]
     },
     "metadata": {},
     "output_type": "display_data"
    },
    {
     "data": {
      "application/vnd.jupyter.widget-view+json": {
       "model_id": "631e1bc0372b4bfdb76a8058fad50601",
       "version_major": 2,
       "version_minor": 0
      },
      "text/plain": [
       "  0%|          | 0/10 [00:00<?, ?it/s]"
      ]
     },
     "metadata": {},
     "output_type": "display_data"
    },
    {
     "data": {
      "application/vnd.jupyter.widget-view+json": {
       "model_id": "962c7a37eded4847b632216d5bede69e",
       "version_major": 2,
       "version_minor": 0
      },
      "text/plain": [
       "  0%|          | 0/10 [00:00<?, ?it/s]"
      ]
     },
     "metadata": {},
     "output_type": "display_data"
    },
    {
     "data": {
      "application/vnd.jupyter.widget-view+json": {
       "model_id": "1cfcf95f7a114137b002b4c98b3c94c6",
       "version_major": 2,
       "version_minor": 0
      },
      "text/plain": [
       "  0%|          | 0/10 [00:00<?, ?it/s]"
      ]
     },
     "metadata": {},
     "output_type": "display_data"
    },
    {
     "data": {
      "application/vnd.jupyter.widget-view+json": {
       "model_id": "988a0c9894624466ab3c9a86e74df228",
       "version_major": 2,
       "version_minor": 0
      },
      "text/plain": [
       "  0%|          | 0/10 [00:00<?, ?it/s]"
      ]
     },
     "metadata": {},
     "output_type": "display_data"
    }
   ],
   "source": [
    "# This took around 5 minutes on my machine with n_jobs=None, but under 90 seconds when n_jobs=-1\n",
    "max_depth = 10\n",
    "\n",
    "scores_msl = []\n",
    "number_trees = range(10,201,20)\n",
    "min_samples_at_leaf = [1,3,5,10,50]\n",
    "\n",
    "for s in tqdm(min_samples_at_leaf):\n",
    "    for n in tqdm(number_trees):\n",
    "        start_time = time.time()\n",
    "        rf = RandomForestClassifier(n_estimators=n, max_depth=max_depth, random_state=1, min_samples_leaf=s, n_jobs=-1) \n",
    "        rf.fit(X_train,y_train)\n",
    "        y_pred = rf.predict_proba(X_val)[:,1]\n",
    "        score = roc_auc_score(y_val, y_pred)\n",
    "        end_time = time.time()\n",
    "        elapsed_time = end_time - start_time\n",
    "        scores_msl.append((s, n, score, elapsed_time))"
   ]
  },
  {
   "cell_type": "code",
   "execution_count": 16,
   "id": "d98d2356-3504-4683-9a55-2b9286f20bd6",
   "metadata": {},
   "outputs": [
    {
     "data": {
      "text/html": [
       "<div>\n",
       "<style scoped>\n",
       "    .dataframe tbody tr th:only-of-type {\n",
       "        vertical-align: middle;\n",
       "    }\n",
       "\n",
       "    .dataframe tbody tr th {\n",
       "        vertical-align: top;\n",
       "    }\n",
       "\n",
       "    .dataframe thead th {\n",
       "        text-align: right;\n",
       "    }\n",
       "</style>\n",
       "<table border=\"1\" class=\"dataframe\">\n",
       "  <thead>\n",
       "    <tr style=\"text-align: right;\">\n",
       "      <th></th>\n",
       "      <th>min_samples_at_leaf</th>\n",
       "      <th>n_estimator</th>\n",
       "      <th>roc_auc_score</th>\n",
       "      <th>computational_time</th>\n",
       "    </tr>\n",
       "  </thead>\n",
       "  <tbody>\n",
       "    <tr>\n",
       "      <th>25</th>\n",
       "      <td>5</td>\n",
       "      <td>110</td>\n",
       "      <td>0.628883</td>\n",
       "      <td>1.104677</td>\n",
       "    </tr>\n",
       "    <tr>\n",
       "      <th>27</th>\n",
       "      <td>5</td>\n",
       "      <td>150</td>\n",
       "      <td>0.628818</td>\n",
       "      <td>1.551727</td>\n",
       "    </tr>\n",
       "    <tr>\n",
       "      <th>24</th>\n",
       "      <td>5</td>\n",
       "      <td>90</td>\n",
       "      <td>0.628806</td>\n",
       "      <td>0.971862</td>\n",
       "    </tr>\n",
       "    <tr>\n",
       "      <th>29</th>\n",
       "      <td>5</td>\n",
       "      <td>190</td>\n",
       "      <td>0.628672</td>\n",
       "      <td>1.914528</td>\n",
       "    </tr>\n",
       "    <tr>\n",
       "      <th>17</th>\n",
       "      <td>3</td>\n",
       "      <td>150</td>\n",
       "      <td>0.628617</td>\n",
       "      <td>1.487444</td>\n",
       "    </tr>\n",
       "  </tbody>\n",
       "</table>\n",
       "</div>"
      ],
      "text/plain": [
       "    min_samples_at_leaf  n_estimator  roc_auc_score  computational_time\n",
       "25                    5          110       0.628883            1.104677\n",
       "27                    5          150       0.628818            1.551727\n",
       "24                    5           90       0.628806            0.971862\n",
       "29                    5          190       0.628672            1.914528\n",
       "17                    3          150       0.628617            1.487444"
      ]
     },
     "execution_count": 16,
     "metadata": {},
     "output_type": "execute_result"
    }
   ],
   "source": [
    "columns = [\"min_samples_at_leaf\", \"n_estimator\",\"roc_auc_score\", \"computational_time\"]\n",
    "df_scores_msl = pd.DataFrame(scores_msl, columns=columns)\n",
    "df_scores_msl.sort_values(by=\"roc_auc_score\", ascending=False).head()"
   ]
  },
  {
   "cell_type": "code",
   "execution_count": 17,
   "id": "102d72af-fe62-43e0-a04d-bb9a19bbf5ab",
   "metadata": {},
   "outputs": [
    {
     "data": {
      "image/png": "[encoded data removed]",
      "text/plain": [
       "<Figure size 640x480 with 1 Axes>"
      ]
     },
     "metadata": {},
     "output_type": "display_data"
    }
   ],
   "source": [
    "sns.set_palette(\"bright\")\n",
    "\n",
    "for s in min_samples_at_leaf:\n",
    "    df_subset = df_scores_msl[df_scores_msl[\"min_samples_at_leaf\"] == s]\n",
    "    sns.lineplot(data=df_subset, x=\"n_estimator\", y=\"roc_auc_score\", label='min_samples_leaf=%d' % s)\n",
    "\n",
    "plt.title(\"Identifying Optimal min_samples_leaf: Number of Trees vs ROC AUC score\")\n",
    "plt.show()"
   ]
  },
  {
   "cell_type": "markdown",
   "id": "aefaafc9-1bb2-4239-812f-3b38298bfd2e",
   "metadata": {},
   "source": [
    "We can see from the graph that the best `min_samples_leaf` value is 5.\n",
    "\n",
    "When we set our `max_depth` to 10 and tune the model to identify the best possible `min_samples_leaf` argument, we see our `roc_auc_score` improves again: Even with 130 trees, with `max_depth` set to 20, we see our `roc_auc_score` improves from 0.6285 to 0.6288. This is a tiny incremental change."
   ]
  },
  {
   "cell_type": "markdown",
   "id": "a072d9f0-1946-4474-9ee4-c68b2eb913ba",
   "metadata": {},
   "source": [
    "### Is there a way for us to handle the fact that we have imbalanced data?\n",
    "\n",
    "In lectures it was suggested that we play around with the `bootstrap` variable. I have an unbalanced dataset (70% of my data is not classified as severe. I thought this variable might help because bootstrapping samples the data with replacement i.e. it's possible that it will randomly sample a lot more rows where `is_severe` == 1 than actually exist in the dataset. \n",
    "\n",
    "The method can increase the diversity of the trees used in the forest because each tree will be trained on a slightly different subset of the data. Interestingly by default, the bootstrap variable is set to True so we have already benefited from this (if it is a benefit!) \n",
    "\n",
    "**class_weight**\n",
    "\n",
    "In addition to setting `bootstrap=True`. I can also set the `class_weight` parameter. With this I can assign a higher weight to `is_severe`. Setting the `class_weight='balanced'` means that more weight will be given to getting the minority class (`is_severe=1`). What the model does in practice is penalise misclassifications  of the minority class more, encouraging the model to be more careful about classifying those examples. "
   ]
  },
  {
   "cell_type": "code",
   "execution_count": 18,
   "id": "93c62f7a-ef79-465b-a90e-de2c06939081",
   "metadata": {},
   "outputs": [
    {
     "data": {
      "text/plain": [
       "is_severe\n",
       "0    0.701881\n",
       "1    0.298119\n",
       "Name: proportion, dtype: float64"
      ]
     },
     "execution_count": 18,
     "metadata": {},
     "output_type": "execute_result"
    }
   ],
   "source": [
    "df_collision[\"is_severe\"].value_counts(normalize=True)"
   ]
  },
  {
   "cell_type": "code",
   "execution_count": 19,
   "id": "68c36177-b092-44e7-8377-b16e2934e9aa",
   "metadata": {},
   "outputs": [
    {
     "data": {
      "application/vnd.jupyter.widget-view+json": {
       "model_id": "b62f5798dfd04f25abc665b453e532c9",
       "version_major": 2,
       "version_minor": 0
      },
      "text/plain": [
       "  0%|          | 0/2 [00:00<?, ?it/s]"
      ]
     },
     "metadata": {},
     "output_type": "display_data"
    },
    {
     "data": {
      "application/vnd.jupyter.widget-view+json": {
       "model_id": "ce8d03ee117343a4b43cfd86815dbad2",
       "version_major": 2,
       "version_minor": 0
      },
      "text/plain": [
       "  0%|          | 0/2 [00:00<?, ?it/s]"
      ]
     },
     "metadata": {},
     "output_type": "display_data"
    },
    {
     "data": {
      "application/vnd.jupyter.widget-view+json": {
       "model_id": "37a77b6b04b344fdb99a44f9ea702631",
       "version_major": 2,
       "version_minor": 0
      },
      "text/plain": [
       "  0%|          | 0/10 [00:00<?, ?it/s]"
      ]
     },
     "metadata": {},
     "output_type": "display_data"
    },
    {
     "data": {
      "application/vnd.jupyter.widget-view+json": {
       "model_id": "b6cb600dbd34499581013e64677ca7c8",
       "version_major": 2,
       "version_minor": 0
      },
      "text/plain": [
       "  0%|          | 0/10 [00:00<?, ?it/s]"
      ]
     },
     "metadata": {},
     "output_type": "display_data"
    },
    {
     "data": {
      "application/vnd.jupyter.widget-view+json": {
       "model_id": "c681a932d1ad4d1e8aa4e3eaee48f4a7",
       "version_major": 2,
       "version_minor": 0
      },
      "text/plain": [
       "  0%|          | 0/2 [00:00<?, ?it/s]"
      ]
     },
     "metadata": {},
     "output_type": "display_data"
    },
    {
     "data": {
      "application/vnd.jupyter.widget-view+json": {
       "model_id": "b9f6f28f0a474abdb35575b5cf734ecc",
       "version_major": 2,
       "version_minor": 0
      },
      "text/plain": [
       "  0%|          | 0/10 [00:00<?, ?it/s]"
      ]
     },
     "metadata": {},
     "output_type": "display_data"
    },
    {
     "data": {
      "application/vnd.jupyter.widget-view+json": {
       "model_id": "0e860b13a25b4ef28d0fb9c2b21b7f39",
       "version_major": 2,
       "version_minor": 0
      },
      "text/plain": [
       "  0%|          | 0/10 [00:00<?, ?it/s]"
      ]
     },
     "metadata": {},
     "output_type": "display_data"
    }
   ],
   "source": [
    "max_depth = 10\n",
    "min_samples_leaf = 5\n",
    "\n",
    "scores_boot = []\n",
    "number_trees = range(10,201,20)\n",
    "bootstrap = [True,False]\n",
    "class_weight=[None, \"balanced\"]\n",
    "\n",
    "for b in tqdm(bootstrap):\n",
    "    for cw in tqdm(class_weight):\n",
    "        for n in tqdm(number_trees):\n",
    "            start_time = time.time()\n",
    "            rf = RandomForestClassifier(n_estimators=n, max_depth=max_depth, random_state=1, \n",
    "                                        min_samples_leaf=min_samples_leaf, n_jobs=-1, bootstrap=b, class_weight=cw) \n",
    "            rf.fit(X_train,y_train)\n",
    "            y_pred = rf.predict_proba(X_val)[:,1]\n",
    "            score = roc_auc_score(y_val, y_pred)\n",
    "            end_time = time.time()\n",
    "            elapsed_time = end_time - start_time\n",
    "            scores_boot.append((b, cw, n, score, elapsed_time))"
   ]
  },
  {
   "cell_type": "code",
   "execution_count": 20,
   "id": "76702dcb-aa6f-47b4-ac71-c85068fe96d1",
   "metadata": {},
   "outputs": [
    {
     "data": {
      "text/html": [
       "<div>\n",
       "<style scoped>\n",
       "    .dataframe tbody tr th:only-of-type {\n",
       "        vertical-align: middle;\n",
       "    }\n",
       "\n",
       "    .dataframe tbody tr th {\n",
       "        vertical-align: top;\n",
       "    }\n",
       "\n",
       "    .dataframe thead th {\n",
       "        text-align: right;\n",
       "    }\n",
       "</style>\n",
       "<table border=\"1\" class=\"dataframe\">\n",
       "  <thead>\n",
       "    <tr style=\"text-align: right;\">\n",
       "      <th></th>\n",
       "      <th>bootstrap</th>\n",
       "      <th>class_weight</th>\n",
       "      <th>n_estimator</th>\n",
       "      <th>roc_auc_score</th>\n",
       "      <th>computational_time</th>\n",
       "    </tr>\n",
       "  </thead>\n",
       "  <tbody>\n",
       "    <tr>\n",
       "      <th>5</th>\n",
       "      <td>True</td>\n",
       "      <td>None</td>\n",
       "      <td>110</td>\n",
       "      <td>0.628883</td>\n",
       "      <td>1.177923</td>\n",
       "    </tr>\n",
       "    <tr>\n",
       "      <th>7</th>\n",
       "      <td>True</td>\n",
       "      <td>None</td>\n",
       "      <td>150</td>\n",
       "      <td>0.628818</td>\n",
       "      <td>1.518595</td>\n",
       "    </tr>\n",
       "    <tr>\n",
       "      <th>4</th>\n",
       "      <td>True</td>\n",
       "      <td>None</td>\n",
       "      <td>90</td>\n",
       "      <td>0.628806</td>\n",
       "      <td>1.009091</td>\n",
       "    </tr>\n",
       "    <tr>\n",
       "      <th>9</th>\n",
       "      <td>True</td>\n",
       "      <td>None</td>\n",
       "      <td>190</td>\n",
       "      <td>0.628672</td>\n",
       "      <td>1.999786</td>\n",
       "    </tr>\n",
       "    <tr>\n",
       "      <th>6</th>\n",
       "      <td>True</td>\n",
       "      <td>None</td>\n",
       "      <td>130</td>\n",
       "      <td>0.628571</td>\n",
       "      <td>1.274946</td>\n",
       "    </tr>\n",
       "    <tr>\n",
       "      <th>8</th>\n",
       "      <td>True</td>\n",
       "      <td>None</td>\n",
       "      <td>170</td>\n",
       "      <td>0.628562</td>\n",
       "      <td>1.780502</td>\n",
       "    </tr>\n",
       "    <tr>\n",
       "      <th>3</th>\n",
       "      <td>True</td>\n",
       "      <td>None</td>\n",
       "      <td>70</td>\n",
       "      <td>0.628319</td>\n",
       "      <td>0.810541</td>\n",
       "    </tr>\n",
       "    <tr>\n",
       "      <th>37</th>\n",
       "      <td>False</td>\n",
       "      <td>balanced</td>\n",
       "      <td>150</td>\n",
       "      <td>0.628298</td>\n",
       "      <td>2.110748</td>\n",
       "    </tr>\n",
       "    <tr>\n",
       "      <th>39</th>\n",
       "      <td>False</td>\n",
       "      <td>balanced</td>\n",
       "      <td>190</td>\n",
       "      <td>0.628225</td>\n",
       "      <td>2.957378</td>\n",
       "    </tr>\n",
       "    <tr>\n",
       "      <th>38</th>\n",
       "      <td>False</td>\n",
       "      <td>balanced</td>\n",
       "      <td>170</td>\n",
       "      <td>0.628204</td>\n",
       "      <td>2.595972</td>\n",
       "    </tr>\n",
       "  </tbody>\n",
       "</table>\n",
       "</div>"
      ],
      "text/plain": [
       "    bootstrap class_weight  n_estimator  roc_auc_score  computational_time\n",
       "5        True         None          110       0.628883            1.177923\n",
       "7        True         None          150       0.628818            1.518595\n",
       "4        True         None           90       0.628806            1.009091\n",
       "9        True         None          190       0.628672            1.999786\n",
       "6        True         None          130       0.628571            1.274946\n",
       "8        True         None          170       0.628562            1.780502\n",
       "3        True         None           70       0.628319            0.810541\n",
       "37      False     balanced          150       0.628298            2.110748\n",
       "39      False     balanced          190       0.628225            2.957378\n",
       "38      False     balanced          170       0.628204            2.595972"
      ]
     },
     "execution_count": 20,
     "metadata": {},
     "output_type": "execute_result"
    }
   ],
   "source": [
    "columns = [\"bootstrap\", \"class_weight\", \"n_estimator\",\"roc_auc_score\", \"computational_time\"]\n",
    "df_scores_boot_cw = pd.DataFrame(scores_boot, columns=columns)\n",
    "df_scores_boot_cw.sort_values(by=\"roc_auc_score\", ascending=False).head(10)"
   ]
  },
  {
   "cell_type": "code",
   "execution_count": 21,
   "id": "254be7e8-aa58-4dbd-93e3-349ae92d3ba0",
   "metadata": {},
   "outputs": [
    {
     "data": {
      "image/png": "[encoded data removed]",
      "text/plain": [
       "<Figure size 640x480 with 1 Axes>"
      ]
     },
     "metadata": {},
     "output_type": "display_data"
    }
   ],
   "source": [
    "sns.set_palette(\"bright\")\n",
    "\n",
    "for b in bootstrap:\n",
    "    for cw in class_weight:\n",
    "        filter_cw = df_scores_boot_cw[\"class_weight\"] == cw\n",
    "        if not cw:\n",
    "            filter_cw = df_scores_boot_cw[\"class_weight\"].isna()\n",
    "        df_subset = df_scores_boot_cw[(df_scores_boot_cw[\"bootstrap\"] == b) & (filter_cw) ]\n",
    "        sns.lineplot(data=df_subset, x=\"n_estimator\", y=\"roc_auc_score\", label=f'bootstrap={b}, cw={cw}')\n",
    "\n",
    "plt.title(\"Is bootstrapping a good idea? Is : Number of Trees vs ROC AUC score\")\n",
    "plt.show()"
   ]
  },
  {
   "cell_type": "markdown",
   "id": "6817b1d4-7b06-4c83-8282-b8b14028c513",
   "metadata": {},
   "source": [
    "The results may seem a little surprising. Why does our model seems to be worst when there is no bootstrapping and no attempt to handle the class imbalance with the `class_weight` parameter? We assumed that bootstrapping would help our class imbalance problem but it's possible for it to exacerabate it: perhaps random sampling actually means an even worse split is chosen! If you are going to do bootstrapping, it seems that this is best done for our dataset in conjunction with setting the `class_weight` parameter.\n",
    "\n",
    "So far we have tuned `max_depth` and `max_samples_leaf` and improved the `roc_auc_score` to 0.6288. By playing around with `bootstrap` and `class_weight`, we don't get any additional improvement \n",
    "\n",
    "So after this stage our final tuning is\n",
    "\n",
    "- `max_depth` = 10\n",
    "- `min_samples_leaf` = 5\n",
    "- `n_estimators` = 110"
   ]
  },
  {
   "cell_type": "code",
   "execution_count": 22,
   "id": "71419fc5-b872-4793-9a5d-5945bcdccde5",
   "metadata": {},
   "outputs": [
    {
     "data": {
      "text/plain": [
       "np.float64(0.6288830973285102)"
      ]
     },
     "execution_count": 22,
     "metadata": {},
     "output_type": "execute_result"
    }
   ],
   "source": [
    "max_depth = 10\n",
    "min_samples_leaf = 5\n",
    "n_estimators = 110\n",
    "\n",
    "rf = RandomForestClassifier(n_estimators=n_estimators, max_depth=max_depth, random_state=1, min_samples_leaf=min_samples_leaf, n_jobs=-1) \n",
    "rf.fit(X_train,y_train)\n",
    "y_pred = rf.predict_proba(X_val)[:,1]\n",
    "score = roc_auc_score(y_val, y_pred)\n",
    "score"
   ]
  },
  {
   "cell_type": "markdown",
   "id": "7a3fa126-6fe7-459a-8ec5-ea97b285617a",
   "metadata": {},
   "source": [
    "## Final model\n",
    "\n",
    "I will use the full training set to train a model with the parameters found in the model tuning evaluation above."
   ]
  },
  {
   "cell_type": "code",
   "execution_count": 23,
   "id": "83a12a51-9cda-4915-95b9-1c325f074871",
   "metadata": {},
   "outputs": [
    {
     "data": {
      "text/plain": [
       "np.float64(0.6279210307377239)"
      ]
     },
     "execution_count": 23,
     "metadata": {},
     "output_type": "execute_result"
    }
   ],
   "source": [
    "# Prepare datasets: `is_severe` still exists in df_full_train so we need to remove it and extract the y_full_train\n",
    "\n",
    "df_full_train = df_full_train.reset_index(drop=True)\n",
    "\n",
    "y_full_train = df_full_train[\"is_severe\"].values\n",
    "\n",
    "del df_full_train[\"is_severe\"]\n",
    "\n",
    "# Create dv and X_full_train and X_test datasets\n",
    "dicts_full_train = df_full_train.to_dict(orient=\"records\")\n",
    "dv = DictVectorizer(sparse=False).fit(dicts_full_train)\n",
    "X_full_train = dv.transform(dicts_full_train)\n",
    "\n",
    "test_dicts = df_test.to_dict(orient=\"records\")\n",
    "X_test = dv.transform(test_dicts)\n",
    "\n",
    "max_depth = 20\n",
    "min_samples_leaf = 5\n",
    "n_estimators = 130\n",
    "\n",
    "rf = RandomForestClassifier(n_estimators=n_estimators, max_depth=max_depth, random_state=1, min_samples_leaf=min_samples_leaf, n_jobs=-1) \n",
    "rf.fit(X_full_train,y_full_train)\n",
    "\n",
    "y_pred_test = rf.predict_proba(X_test)[:,1]\n",
    "auc = roc_auc_score(y_test, y_pred_test)\n",
    "auc"
   ]
  },
  {
   "cell_type": "code",
   "execution_count": 25,
   "id": "5ed74761-0c3e-4894-8c48-62bcff20cd36",
   "metadata": {},
   "outputs": [
    {
     "data": {
      "text/plain": [
       "np.float64(0.0010000000000000009)"
      ]
     },
     "execution_count": 25,
     "metadata": {},
     "output_type": "execute_result"
    }
   ],
   "source": [
    "np.round(score,3) - np.round(auc,3)"
   ]
  },
  {
   "cell_type": "markdown",
   "id": "78e1ed7b-719e-44fd-8120-4debe3619e1d",
   "metadata": {},
   "source": [
    "### Final model evaluation\n",
    "\n",
    "Our final model has a slightly lower score (0.628 vs 0.629) than the model we built with the training set alone: the difference is a little greater than 0.001. This is a fraction of a percent so we can say that our model didn't overfit and generalised quite well to unseen data.\n",
    "\n",
    "That being said, the `roc_auc_score` for this model is quite low. It is better than our logistic regression model, but only slightly."
   ]
  },
  {
   "cell_type": "markdown",
   "id": "9bcc1baf-c6bc-4bbd-8fb7-47dd3bb816b0",
   "metadata": {},
   "source": [
    "## Feature importance\n",
    "\n",
    "The Random Forest classifier provides an array of the relative feature importances: the higher the number, the more important the feature.\n",
    "\n",
    "With more time we could use this information to refine our features or drop some. It looks like the numerical columns and simple binary columns were more important: perhaps some of our categorical columns are unnecessary or perhaps they are too complex."
   ]
  },
  {
   "cell_type": "code",
   "execution_count": 26,
   "id": "3cbdae77-aedf-4973-9379-45324a56782e",
   "metadata": {},
   "outputs": [
    {
     "data": {
      "text/html": [
       "<div>\n",
       "<style scoped>\n",
       "    .dataframe tbody tr th:only-of-type {\n",
       "        vertical-align: middle;\n",
       "    }\n",
       "\n",
       "    .dataframe tbody tr th {\n",
       "        vertical-align: top;\n",
       "    }\n",
       "\n",
       "    .dataframe thead th {\n",
       "        text-align: right;\n",
       "    }\n",
       "</style>\n",
       "<table border=\"1\" class=\"dataframe\">\n",
       "  <thead>\n",
       "    <tr style=\"text-align: right;\">\n",
       "      <th></th>\n",
       "      <th>feature_name</th>\n",
       "      <th>feature_importance</th>\n",
       "    </tr>\n",
       "  </thead>\n",
       "  <tbody>\n",
       "    <tr>\n",
       "      <th>37</th>\n",
       "      <td>number_of_vehicles</td>\n",
       "      <td>0.105514</td>\n",
       "    </tr>\n",
       "    <tr>\n",
       "      <th>7</th>\n",
       "      <td>day_of_year</td>\n",
       "      <td>0.105235</td>\n",
       "    </tr>\n",
       "    <tr>\n",
       "      <th>69</th>\n",
       "      <td>police_force=police_scotland</td>\n",
       "      <td>0.055590</td>\n",
       "    </tr>\n",
       "    <tr>\n",
       "      <th>93</th>\n",
       "      <td>speed_limit</td>\n",
       "      <td>0.045731</td>\n",
       "    </tr>\n",
       "    <tr>\n",
       "      <th>62</th>\n",
       "      <td>police_force=metropolitan_police</td>\n",
       "      <td>0.026586</td>\n",
       "    </tr>\n",
       "    <tr>\n",
       "      <th>16</th>\n",
       "      <td>is_near_junction</td>\n",
       "      <td>0.022049</td>\n",
       "    </tr>\n",
       "    <tr>\n",
       "      <th>19</th>\n",
       "      <td>is_urban</td>\n",
       "      <td>0.019195</td>\n",
       "    </tr>\n",
       "    <tr>\n",
       "      <th>90</th>\n",
       "      <td>road_type=single_carriageway</td>\n",
       "      <td>0.018392</td>\n",
       "    </tr>\n",
       "    <tr>\n",
       "      <th>8</th>\n",
       "      <td>first_road_class=a</td>\n",
       "      <td>0.015109</td>\n",
       "    </tr>\n",
       "    <tr>\n",
       "      <th>82</th>\n",
       "      <td>road_surface_conditions=dry</td>\n",
       "      <td>0.013881</td>\n",
       "    </tr>\n",
       "  </tbody>\n",
       "</table>\n",
       "</div>"
      ],
      "text/plain": [
       "                        feature_name  feature_importance\n",
       "37                number_of_vehicles            0.105514\n",
       "7                        day_of_year            0.105235\n",
       "69      police_force=police_scotland            0.055590\n",
       "93                       speed_limit            0.045731\n",
       "62  police_force=metropolitan_police            0.026586\n",
       "16                  is_near_junction            0.022049\n",
       "19                          is_urban            0.019195\n",
       "90      road_type=single_carriageway            0.018392\n",
       "8                 first_road_class=a            0.015109\n",
       "82       road_surface_conditions=dry            0.013881"
      ]
     },
     "execution_count": 26,
     "metadata": {},
     "output_type": "execute_result"
    }
   ],
   "source": [
    "feature_importance = rf.feature_importances_\n",
    "feature_name = dv.get_feature_names_out()\n",
    "\n",
    "df_feature_importance = pd.DataFrame({\"feature_name\": feature_name, \"feature_importance\": feature_importance})\n",
    "df_feature_importance.sort_values(by=\"feature_importance\", ascending=False).head(10)"
   ]
  },
  {
   "cell_type": "code",
   "execution_count": 27,
   "id": "c87ada56-dd19-435f-abf3-916a63e65820",
   "metadata": {},
   "outputs": [
    {
     "data": {
      "text/html": [
       "<div>\n",
       "<style scoped>\n",
       "    .dataframe tbody tr th:only-of-type {\n",
       "        vertical-align: middle;\n",
       "    }\n",
       "\n",
       "    .dataframe tbody tr th {\n",
       "        vertical-align: top;\n",
       "    }\n",
       "\n",
       "    .dataframe thead th {\n",
       "        text-align: right;\n",
       "    }\n",
       "</style>\n",
       "<table border=\"1\" class=\"dataframe\">\n",
       "  <thead>\n",
       "    <tr style=\"text-align: right;\">\n",
       "      <th></th>\n",
       "      <th>feature_name</th>\n",
       "      <th>feature_importance</th>\n",
       "    </tr>\n",
       "  </thead>\n",
       "  <tbody>\n",
       "    <tr>\n",
       "      <th>22</th>\n",
       "      <td>light_conditions=darkness___lights_unlit</td>\n",
       "      <td>0.001071</td>\n",
       "    </tr>\n",
       "    <tr>\n",
       "      <th>92</th>\n",
       "      <td>road_type=unknown</td>\n",
       "      <td>0.000707</td>\n",
       "    </tr>\n",
       "    <tr>\n",
       "      <th>43</th>\n",
       "      <td>police_force=cleveland</td>\n",
       "      <td>0.000593</td>\n",
       "    </tr>\n",
       "    <tr>\n",
       "      <th>125</th>\n",
       "      <td>weather_conditions=snowing_no_high_winds</td>\n",
       "      <td>0.000572</td>\n",
       "    </tr>\n",
       "    <tr>\n",
       "      <th>120</th>\n",
       "      <td>weather_conditions=fog_or_mist</td>\n",
       "      <td>0.000495</td>\n",
       "    </tr>\n",
       "    <tr>\n",
       "      <th>9</th>\n",
       "      <td>first_road_class=a(m)</td>\n",
       "      <td>0.000443</td>\n",
       "    </tr>\n",
       "    <tr>\n",
       "      <th>85</th>\n",
       "      <td>road_surface_conditions=snow</td>\n",
       "      <td>0.000294</td>\n",
       "    </tr>\n",
       "    <tr>\n",
       "      <th>83</th>\n",
       "      <td>road_surface_conditions=flood_over_3cm._deep</td>\n",
       "      <td>0.000246</td>\n",
       "    </tr>\n",
       "    <tr>\n",
       "      <th>42</th>\n",
       "      <td>police_force=city_of_london</td>\n",
       "      <td>0.000217</td>\n",
       "    </tr>\n",
       "    <tr>\n",
       "      <th>124</th>\n",
       "      <td>weather_conditions=snowing__high_winds</td>\n",
       "      <td>0.000018</td>\n",
       "    </tr>\n",
       "  </tbody>\n",
       "</table>\n",
       "</div>"
      ],
      "text/plain": [
       "                                     feature_name  feature_importance\n",
       "22       light_conditions=darkness___lights_unlit            0.001071\n",
       "92                              road_type=unknown            0.000707\n",
       "43                         police_force=cleveland            0.000593\n",
       "125      weather_conditions=snowing_no_high_winds            0.000572\n",
       "120                weather_conditions=fog_or_mist            0.000495\n",
       "9                           first_road_class=a(m)            0.000443\n",
       "85                   road_surface_conditions=snow            0.000294\n",
       "83   road_surface_conditions=flood_over_3cm._deep            0.000246\n",
       "42                    police_force=city_of_london            0.000217\n",
       "124        weather_conditions=snowing__high_winds            0.000018"
      ]
     },
     "execution_count": 27,
     "metadata": {},
     "output_type": "execute_result"
    }
   ],
   "source": [
    "df_feature_importance.sort_values(by=\"feature_importance\", ascending=False).tail(10)"
   ]
  },
  {
   "cell_type": "code",
   "execution_count": null,
   "id": "c1532f37-9109-4e6d-99bd-8faaf0178b95",
   "metadata": {},
   "outputs": [],
   "source": []
  }
 ],
 "metadata": {
  "kernelspec": {
   "display_name": "Python [conda env:pandas]",
   "language": "python",
   "name": "conda-env-pandas-py"
  },
  "language_info": {
   "codemirror_mode": {
    "name": "ipython",
    "version": 3
   },
   "file_extension": ".py",
   "mimetype": "text/x-python",
   "name": "python",
   "nbconvert_exporter": "python",
   "pygments_lexer": "ipython3",
   "version": "3.11.10"
  }
 },
 "nbformat": 4,
 "nbformat_minor": 5
}
