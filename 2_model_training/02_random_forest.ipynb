{
 "cells": [
  {
   "cell_type": "markdown",
   "id": "2261716b-c03e-42f2-b659-552580740e7a",
   "metadata": {},
   "source": [
    "# Random Forest"
   ]
  },
  {
   "cell_type": "code",
   "execution_count": 1,
   "id": "8b344447-27a3-4a5e-8b13-1a5f54f3147c",
   "metadata": {},
   "outputs": [],
   "source": [
    "import pandas as pd\n",
    "import numpy as np\n",
    "from sklearn.model_selection import train_test_split\n",
    "from sklearn.ensemble import RandomForestClassifier\n",
    "from sklearn.tree import plot_tree\n",
    "from sklearn.feature_extraction import DictVectorizer\n",
    "from sklearn.metrics import roc_auc_score\n",
    "import matplotlib.pyplot as plt\n",
    "import seaborn as sns\n",
    "from tqdm.auto import tqdm\n",
    "import time"
   ]
  },
  {
   "cell_type": "code",
   "execution_count": 2,
   "id": "6979386b-3a1d-43d2-9e19-bcd596cad0c2",
   "metadata": {},
   "outputs": [
    {
     "data": {
      "text/html": [
       "<div>\n",
       "<style scoped>\n",
       "    .dataframe tbody tr th:only-of-type {\n",
       "        vertical-align: middle;\n",
       "    }\n",
       "\n",
       "    .dataframe tbody tr th {\n",
       "        vertical-align: top;\n",
       "    }\n",
       "\n",
       "    .dataframe thead th {\n",
       "        text-align: right;\n",
       "    }\n",
       "</style>\n",
       "<table border=\"1\" class=\"dataframe\">\n",
       "  <thead>\n",
       "    <tr style=\"text-align: right;\">\n",
       "      <th></th>\n",
       "      <th>police_force</th>\n",
       "      <th>number_of_vehicles</th>\n",
       "      <th>day_of_week</th>\n",
       "      <th>time</th>\n",
       "      <th>first_road_class</th>\n",
       "      <th>road_type</th>\n",
       "      <th>speed_limit</th>\n",
       "      <th>light_conditions</th>\n",
       "      <th>weather_conditions</th>\n",
       "      <th>road_surface_conditions</th>\n",
       "      <th>is_severe</th>\n",
       "      <th>month</th>\n",
       "      <th>day_of_year</th>\n",
       "      <th>is_trunk</th>\n",
       "      <th>is_near_pedestrian_crossing</th>\n",
       "      <th>is_urban</th>\n",
       "      <th>has_special_conditions_at_site</th>\n",
       "      <th>is_carriageway_hazard</th>\n",
       "      <th>is_near_junction</th>\n",
       "    </tr>\n",
       "  </thead>\n",
       "  <tbody>\n",
       "    <tr>\n",
       "      <th>0</th>\n",
       "      <td>metropolitan_police</td>\n",
       "      <td>1</td>\n",
       "      <td>sunday</td>\n",
       "      <td>01:00</td>\n",
       "      <td>c</td>\n",
       "      <td>one_way_street</td>\n",
       "      <td>20</td>\n",
       "      <td>darkness___lights_lit</td>\n",
       "      <td>other_adverse_weather_condition</td>\n",
       "      <td>wet_or_damp</td>\n",
       "      <td>0</td>\n",
       "      <td>january</td>\n",
       "      <td>1</td>\n",
       "      <td>0</td>\n",
       "      <td>1</td>\n",
       "      <td>1</td>\n",
       "      <td>0</td>\n",
       "      <td>0</td>\n",
       "      <td>1</td>\n",
       "    </tr>\n",
       "    <tr>\n",
       "      <th>1</th>\n",
       "      <td>metropolitan_police</td>\n",
       "      <td>3</td>\n",
       "      <td>sunday</td>\n",
       "      <td>02:00</td>\n",
       "      <td>unclassified</td>\n",
       "      <td>single_carriageway</td>\n",
       "      <td>30</td>\n",
       "      <td>darkness___lights_lit</td>\n",
       "      <td>fine_no_high_winds</td>\n",
       "      <td>dry</td>\n",
       "      <td>0</td>\n",
       "      <td>january</td>\n",
       "      <td>1</td>\n",
       "      <td>0</td>\n",
       "      <td>1</td>\n",
       "      <td>1</td>\n",
       "      <td>0</td>\n",
       "      <td>0</td>\n",
       "      <td>1</td>\n",
       "    </tr>\n",
       "  </tbody>\n",
       "</table>\n",
       "</div>"
      ],
      "text/plain": [
       "          police_force  number_of_vehicles day_of_week   time  \\\n",
       "0  metropolitan_police                   1      sunday  01:00   \n",
       "1  metropolitan_police                   3      sunday  02:00   \n",
       "\n",
       "  first_road_class           road_type  speed_limit       light_conditions  \\\n",
       "0                c      one_way_street           20  darkness___lights_lit   \n",
       "1     unclassified  single_carriageway           30  darkness___lights_lit   \n",
       "\n",
       "                weather_conditions road_surface_conditions  is_severe  \\\n",
       "0  other_adverse_weather_condition             wet_or_damp          0   \n",
       "1               fine_no_high_winds                     dry          0   \n",
       "\n",
       "     month  day_of_year  is_trunk  is_near_pedestrian_crossing  is_urban  \\\n",
       "0  january            1         0                            1         1   \n",
       "1  january            1         0                            1         1   \n",
       "\n",
       "   has_special_conditions_at_site  is_carriageway_hazard  is_near_junction  \n",
       "0                               0                      0                 1  \n",
       "1                               0                      0                 1  "
      ]
     },
     "execution_count": 2,
     "metadata": {},
     "output_type": "execute_result"
    }
   ],
   "source": [
    "df_collision = pd.read_csv(\"data/collisions_final.csv\")\n",
    "df_collision.head(2)"
   ]
  },
  {
   "cell_type": "markdown",
   "id": "eedd28e3-e674-4925-bda0-6bce524b8c98",
   "metadata": {},
   "source": [
    "## Prepare data"
   ]
  },
  {
   "cell_type": "code",
   "execution_count": 3,
   "id": "220f2c4f-2646-4ad8-b35a-e1b9ce98059f",
   "metadata": {},
   "outputs": [],
   "source": [
    "df_full_train, df_test = train_test_split(df_collision, test_size=0.2, random_state=11)\n",
    "df_train, df_val = train_test_split(df_full_train, test_size=0.25, random_state=11)\n",
    "\n",
    "df_train = df_train.reset_index(drop=True)\n",
    "df_val = df_val.reset_index(drop=True)\n",
    "df_test = df_test.reset_index(drop=True)\n",
    "\n",
    "y_train = df_train[\"is_severe\"].values\n",
    "y_val = df_val[\"is_severe\"].values\n",
    "y_test = df_test[\"is_severe\"].values\n",
    "\n",
    "del df_train[\"is_severe\"]\n",
    "del df_val[\"is_severe\"]\n",
    "del df_test[\"is_severe\"]"
   ]
  },
  {
   "cell_type": "code",
   "execution_count": 4,
   "id": "61248854-b47d-4eec-bd99-8118baa504fc",
   "metadata": {},
   "outputs": [],
   "source": [
    "# We use all the columns in our dataset\n",
    "x_train_dicts = df_train.to_dict(orient=\"records\")\n",
    "dv = DictVectorizer(sparse=False).fit(x_train_dicts)\n",
    "X_train = dv.transform(x_train_dicts)\n",
    "\n",
    "val_dicts = df_val.to_dict(orient=\"records\")\n",
    "X_val = dv.transform(val_dicts)"
   ]
  },
  {
   "cell_type": "markdown",
   "id": "398dd583-cb74-4176-b05e-13936f4977d3",
   "metadata": {},
   "source": [
    "## Train base model and evaluate it with auc_score"
   ]
  },
  {
   "cell_type": "code",
   "execution_count": 5,
   "id": "64368e64-104d-40f4-84d8-22a268f58d10",
   "metadata": {},
   "outputs": [
    {
     "data": {
      "text/html": [
       "<style>#sk-container-id-1 {\n",
       "  /* Definition of color scheme common for light and dark mode */\n",
       "  --sklearn-color-text: black;\n",
       "  --sklearn-color-line: gray;\n",
       "  /* Definition of color scheme for unfitted estimators */\n",
       "  --sklearn-color-unfitted-level-0: #fff5e6;\n",
       "  --sklearn-color-unfitted-level-1: #f6e4d2;\n",
       "  --sklearn-color-unfitted-level-2: #ffe0b3;\n",
       "  --sklearn-color-unfitted-level-3: chocolate;\n",
       "  /* Definition of color scheme for fitted estimators */\n",
       "  --sklearn-color-fitted-level-0: #f0f8ff;\n",
       "  --sklearn-color-fitted-level-1: #d4ebff;\n",
       "  --sklearn-color-fitted-level-2: #b3dbfd;\n",
       "  --sklearn-color-fitted-level-3: cornflowerblue;\n",
       "\n",
       "  /* Specific color for light theme */\n",
       "  --sklearn-color-text-on-default-background: var(--sg-text-color, var(--theme-code-foreground, var(--jp-content-font-color1, black)));\n",
       "  --sklearn-color-background: var(--sg-background-color, var(--theme-background, var(--jp-layout-color0, white)));\n",
       "  --sklearn-color-border-box: var(--sg-text-color, var(--theme-code-foreground, var(--jp-content-font-color1, black)));\n",
       "  --sklearn-color-icon: #696969;\n",
       "\n",
       "  @media (prefers-color-scheme: dark) {\n",
       "    /* Redefinition of color scheme for dark theme */\n",
       "    --sklearn-color-text-on-default-background: var(--sg-text-color, var(--theme-code-foreground, var(--jp-content-font-color1, white)));\n",
       "    --sklearn-color-background: var(--sg-background-color, var(--theme-background, var(--jp-layout-color0, #111)));\n",
       "    --sklearn-color-border-box: var(--sg-text-color, var(--theme-code-foreground, var(--jp-content-font-color1, white)));\n",
       "    --sklearn-color-icon: #878787;\n",
       "  }\n",
       "}\n",
       "\n",
       "#sk-container-id-1 {\n",
       "  color: var(--sklearn-color-text);\n",
       "}\n",
       "\n",
       "#sk-container-id-1 pre {\n",
       "  padding: 0;\n",
       "}\n",
       "\n",
       "#sk-container-id-1 input.sk-hidden--visually {\n",
       "  border: 0;\n",
       "  clip: rect(1px 1px 1px 1px);\n",
       "  clip: rect(1px, 1px, 1px, 1px);\n",
       "  height: 1px;\n",
       "  margin: -1px;\n",
       "  overflow: hidden;\n",
       "  padding: 0;\n",
       "  position: absolute;\n",
       "  width: 1px;\n",
       "}\n",
       "\n",
       "#sk-container-id-1 div.sk-dashed-wrapped {\n",
       "  border: 1px dashed var(--sklearn-color-line);\n",
       "  margin: 0 0.4em 0.5em 0.4em;\n",
       "  box-sizing: border-box;\n",
       "  padding-bottom: 0.4em;\n",
       "  background-color: var(--sklearn-color-background);\n",
       "}\n",
       "\n",
       "#sk-container-id-1 div.sk-container {\n",
       "  /* jupyter's `normalize.less` sets `[hidden] { display: none; }`\n",
       "     but bootstrap.min.css set `[hidden] { display: none !important; }`\n",
       "     so we also need the `!important` here to be able to override the\n",
       "     default hidden behavior on the sphinx rendered scikit-learn.org.\n",
       "     See: https://github.com/scikit-learn/scikit-learn/issues/21755 */\n",
       "  display: inline-block !important;\n",
       "  position: relative;\n",
       "}\n",
       "\n",
       "#sk-container-id-1 div.sk-text-repr-fallback {\n",
       "  display: none;\n",
       "}\n",
       "\n",
       "div.sk-parallel-item,\n",
       "div.sk-serial,\n",
       "div.sk-item {\n",
       "  /* draw centered vertical line to link estimators */\n",
       "  background-image: linear-gradient(var(--sklearn-color-text-on-default-background), var(--sklearn-color-text-on-default-background));\n",
       "  background-size: 2px 100%;\n",
       "  background-repeat: no-repeat;\n",
       "  background-position: center center;\n",
       "}\n",
       "\n",
       "/* Parallel-specific style estimator block */\n",
       "\n",
       "#sk-container-id-1 div.sk-parallel-item::after {\n",
       "  content: \"\";\n",
       "  width: 100%;\n",
       "  border-bottom: 2px solid var(--sklearn-color-text-on-default-background);\n",
       "  flex-grow: 1;\n",
       "}\n",
       "\n",
       "#sk-container-id-1 div.sk-parallel {\n",
       "  display: flex;\n",
       "  align-items: stretch;\n",
       "  justify-content: center;\n",
       "  background-color: var(--sklearn-color-background);\n",
       "  position: relative;\n",
       "}\n",
       "\n",
       "#sk-container-id-1 div.sk-parallel-item {\n",
       "  display: flex;\n",
       "  flex-direction: column;\n",
       "}\n",
       "\n",
       "#sk-container-id-1 div.sk-parallel-item:first-child::after {\n",
       "  align-self: flex-end;\n",
       "  width: 50%;\n",
       "}\n",
       "\n",
       "#sk-container-id-1 div.sk-parallel-item:last-child::after {\n",
       "  align-self: flex-start;\n",
       "  width: 50%;\n",
       "}\n",
       "\n",
       "#sk-container-id-1 div.sk-parallel-item:only-child::after {\n",
       "  width: 0;\n",
       "}\n",
       "\n",
       "/* Serial-specific style estimator block */\n",
       "\n",
       "#sk-container-id-1 div.sk-serial {\n",
       "  display: flex;\n",
       "  flex-direction: column;\n",
       "  align-items: center;\n",
       "  background-color: var(--sklearn-color-background);\n",
       "  padding-right: 1em;\n",
       "  padding-left: 1em;\n",
       "}\n",
       "\n",
       "\n",
       "/* Toggleable style: style used for estimator/Pipeline/ColumnTransformer box that is\n",
       "clickable and can be expanded/collapsed.\n",
       "- Pipeline and ColumnTransformer use this feature and define the default style\n",
       "- Estimators will overwrite some part of the style using the `sk-estimator` class\n",
       "*/\n",
       "\n",
       "/* Pipeline and ColumnTransformer style (default) */\n",
       "\n",
       "#sk-container-id-1 div.sk-toggleable {\n",
       "  /* Default theme specific background. It is overwritten whether we have a\n",
       "  specific estimator or a Pipeline/ColumnTransformer */\n",
       "  background-color: var(--sklearn-color-background);\n",
       "}\n",
       "\n",
       "/* Toggleable label */\n",
       "#sk-container-id-1 label.sk-toggleable__label {\n",
       "  cursor: pointer;\n",
       "  display: block;\n",
       "  width: 100%;\n",
       "  margin-bottom: 0;\n",
       "  padding: 0.5em;\n",
       "  box-sizing: border-box;\n",
       "  text-align: center;\n",
       "}\n",
       "\n",
       "#sk-container-id-1 label.sk-toggleable__label-arrow:before {\n",
       "  /* Arrow on the left of the label */\n",
       "  content: \"▸\";\n",
       "  float: left;\n",
       "  margin-right: 0.25em;\n",
       "  color: var(--sklearn-color-icon);\n",
       "}\n",
       "\n",
       "#sk-container-id-1 label.sk-toggleable__label-arrow:hover:before {\n",
       "  color: var(--sklearn-color-text);\n",
       "}\n",
       "\n",
       "/* Toggleable content - dropdown */\n",
       "\n",
       "#sk-container-id-1 div.sk-toggleable__content {\n",
       "  max-height: 0;\n",
       "  max-width: 0;\n",
       "  overflow: hidden;\n",
       "  text-align: left;\n",
       "  /* unfitted */\n",
       "  background-color: var(--sklearn-color-unfitted-level-0);\n",
       "}\n",
       "\n",
       "#sk-container-id-1 div.sk-toggleable__content.fitted {\n",
       "  /* fitted */\n",
       "  background-color: var(--sklearn-color-fitted-level-0);\n",
       "}\n",
       "\n",
       "#sk-container-id-1 div.sk-toggleable__content pre {\n",
       "  margin: 0.2em;\n",
       "  border-radius: 0.25em;\n",
       "  color: var(--sklearn-color-text);\n",
       "  /* unfitted */\n",
       "  background-color: var(--sklearn-color-unfitted-level-0);\n",
       "}\n",
       "\n",
       "#sk-container-id-1 div.sk-toggleable__content.fitted pre {\n",
       "  /* unfitted */\n",
       "  background-color: var(--sklearn-color-fitted-level-0);\n",
       "}\n",
       "\n",
       "#sk-container-id-1 input.sk-toggleable__control:checked~div.sk-toggleable__content {\n",
       "  /* Expand drop-down */\n",
       "  max-height: 200px;\n",
       "  max-width: 100%;\n",
       "  overflow: auto;\n",
       "}\n",
       "\n",
       "#sk-container-id-1 input.sk-toggleable__control:checked~label.sk-toggleable__label-arrow:before {\n",
       "  content: \"▾\";\n",
       "}\n",
       "\n",
       "/* Pipeline/ColumnTransformer-specific style */\n",
       "\n",
       "#sk-container-id-1 div.sk-label input.sk-toggleable__control:checked~label.sk-toggleable__label {\n",
       "  color: var(--sklearn-color-text);\n",
       "  background-color: var(--sklearn-color-unfitted-level-2);\n",
       "}\n",
       "\n",
       "#sk-container-id-1 div.sk-label.fitted input.sk-toggleable__control:checked~label.sk-toggleable__label {\n",
       "  background-color: var(--sklearn-color-fitted-level-2);\n",
       "}\n",
       "\n",
       "/* Estimator-specific style */\n",
       "\n",
       "/* Colorize estimator box */\n",
       "#sk-container-id-1 div.sk-estimator input.sk-toggleable__control:checked~label.sk-toggleable__label {\n",
       "  /* unfitted */\n",
       "  background-color: var(--sklearn-color-unfitted-level-2);\n",
       "}\n",
       "\n",
       "#sk-container-id-1 div.sk-estimator.fitted input.sk-toggleable__control:checked~label.sk-toggleable__label {\n",
       "  /* fitted */\n",
       "  background-color: var(--sklearn-color-fitted-level-2);\n",
       "}\n",
       "\n",
       "#sk-container-id-1 div.sk-label label.sk-toggleable__label,\n",
       "#sk-container-id-1 div.sk-label label {\n",
       "  /* The background is the default theme color */\n",
       "  color: var(--sklearn-color-text-on-default-background);\n",
       "}\n",
       "\n",
       "/* On hover, darken the color of the background */\n",
       "#sk-container-id-1 div.sk-label:hover label.sk-toggleable__label {\n",
       "  color: var(--sklearn-color-text);\n",
       "  background-color: var(--sklearn-color-unfitted-level-2);\n",
       "}\n",
       "\n",
       "/* Label box, darken color on hover, fitted */\n",
       "#sk-container-id-1 div.sk-label.fitted:hover label.sk-toggleable__label.fitted {\n",
       "  color: var(--sklearn-color-text);\n",
       "  background-color: var(--sklearn-color-fitted-level-2);\n",
       "}\n",
       "\n",
       "/* Estimator label */\n",
       "\n",
       "#sk-container-id-1 div.sk-label label {\n",
       "  font-family: monospace;\n",
       "  font-weight: bold;\n",
       "  display: inline-block;\n",
       "  line-height: 1.2em;\n",
       "}\n",
       "\n",
       "#sk-container-id-1 div.sk-label-container {\n",
       "  text-align: center;\n",
       "}\n",
       "\n",
       "/* Estimator-specific */\n",
       "#sk-container-id-1 div.sk-estimator {\n",
       "  font-family: monospace;\n",
       "  border: 1px dotted var(--sklearn-color-border-box);\n",
       "  border-radius: 0.25em;\n",
       "  box-sizing: border-box;\n",
       "  margin-bottom: 0.5em;\n",
       "  /* unfitted */\n",
       "  background-color: var(--sklearn-color-unfitted-level-0);\n",
       "}\n",
       "\n",
       "#sk-container-id-1 div.sk-estimator.fitted {\n",
       "  /* fitted */\n",
       "  background-color: var(--sklearn-color-fitted-level-0);\n",
       "}\n",
       "\n",
       "/* on hover */\n",
       "#sk-container-id-1 div.sk-estimator:hover {\n",
       "  /* unfitted */\n",
       "  background-color: var(--sklearn-color-unfitted-level-2);\n",
       "}\n",
       "\n",
       "#sk-container-id-1 div.sk-estimator.fitted:hover {\n",
       "  /* fitted */\n",
       "  background-color: var(--sklearn-color-fitted-level-2);\n",
       "}\n",
       "\n",
       "/* Specification for estimator info (e.g. \"i\" and \"?\") */\n",
       "\n",
       "/* Common style for \"i\" and \"?\" */\n",
       "\n",
       ".sk-estimator-doc-link,\n",
       "a:link.sk-estimator-doc-link,\n",
       "a:visited.sk-estimator-doc-link {\n",
       "  float: right;\n",
       "  font-size: smaller;\n",
       "  line-height: 1em;\n",
       "  font-family: monospace;\n",
       "  background-color: var(--sklearn-color-background);\n",
       "  border-radius: 1em;\n",
       "  height: 1em;\n",
       "  width: 1em;\n",
       "  text-decoration: none !important;\n",
       "  margin-left: 1ex;\n",
       "  /* unfitted */\n",
       "  border: var(--sklearn-color-unfitted-level-1) 1pt solid;\n",
       "  color: var(--sklearn-color-unfitted-level-1);\n",
       "}\n",
       "\n",
       ".sk-estimator-doc-link.fitted,\n",
       "a:link.sk-estimator-doc-link.fitted,\n",
       "a:visited.sk-estimator-doc-link.fitted {\n",
       "  /* fitted */\n",
       "  border: var(--sklearn-color-fitted-level-1) 1pt solid;\n",
       "  color: var(--sklearn-color-fitted-level-1);\n",
       "}\n",
       "\n",
       "/* On hover */\n",
       "div.sk-estimator:hover .sk-estimator-doc-link:hover,\n",
       ".sk-estimator-doc-link:hover,\n",
       "div.sk-label-container:hover .sk-estimator-doc-link:hover,\n",
       ".sk-estimator-doc-link:hover {\n",
       "  /* unfitted */\n",
       "  background-color: var(--sklearn-color-unfitted-level-3);\n",
       "  color: var(--sklearn-color-background);\n",
       "  text-decoration: none;\n",
       "}\n",
       "\n",
       "div.sk-estimator.fitted:hover .sk-estimator-doc-link.fitted:hover,\n",
       ".sk-estimator-doc-link.fitted:hover,\n",
       "div.sk-label-container:hover .sk-estimator-doc-link.fitted:hover,\n",
       ".sk-estimator-doc-link.fitted:hover {\n",
       "  /* fitted */\n",
       "  background-color: var(--sklearn-color-fitted-level-3);\n",
       "  color: var(--sklearn-color-background);\n",
       "  text-decoration: none;\n",
       "}\n",
       "\n",
       "/* Span, style for the box shown on hovering the info icon */\n",
       ".sk-estimator-doc-link span {\n",
       "  display: none;\n",
       "  z-index: 9999;\n",
       "  position: relative;\n",
       "  font-weight: normal;\n",
       "  right: .2ex;\n",
       "  padding: .5ex;\n",
       "  margin: .5ex;\n",
       "  width: min-content;\n",
       "  min-width: 20ex;\n",
       "  max-width: 50ex;\n",
       "  color: var(--sklearn-color-text);\n",
       "  box-shadow: 2pt 2pt 4pt #999;\n",
       "  /* unfitted */\n",
       "  background: var(--sklearn-color-unfitted-level-0);\n",
       "  border: .5pt solid var(--sklearn-color-unfitted-level-3);\n",
       "}\n",
       "\n",
       ".sk-estimator-doc-link.fitted span {\n",
       "  /* fitted */\n",
       "  background: var(--sklearn-color-fitted-level-0);\n",
       "  border: var(--sklearn-color-fitted-level-3);\n",
       "}\n",
       "\n",
       ".sk-estimator-doc-link:hover span {\n",
       "  display: block;\n",
       "}\n",
       "\n",
       "/* \"?\"-specific style due to the `<a>` HTML tag */\n",
       "\n",
       "#sk-container-id-1 a.estimator_doc_link {\n",
       "  float: right;\n",
       "  font-size: 1rem;\n",
       "  line-height: 1em;\n",
       "  font-family: monospace;\n",
       "  background-color: var(--sklearn-color-background);\n",
       "  border-radius: 1rem;\n",
       "  height: 1rem;\n",
       "  width: 1rem;\n",
       "  text-decoration: none;\n",
       "  /* unfitted */\n",
       "  color: var(--sklearn-color-unfitted-level-1);\n",
       "  border: var(--sklearn-color-unfitted-level-1) 1pt solid;\n",
       "}\n",
       "\n",
       "#sk-container-id-1 a.estimator_doc_link.fitted {\n",
       "  /* fitted */\n",
       "  border: var(--sklearn-color-fitted-level-1) 1pt solid;\n",
       "  color: var(--sklearn-color-fitted-level-1);\n",
       "}\n",
       "\n",
       "/* On hover */\n",
       "#sk-container-id-1 a.estimator_doc_link:hover {\n",
       "  /* unfitted */\n",
       "  background-color: var(--sklearn-color-unfitted-level-3);\n",
       "  color: var(--sklearn-color-background);\n",
       "  text-decoration: none;\n",
       "}\n",
       "\n",
       "#sk-container-id-1 a.estimator_doc_link.fitted:hover {\n",
       "  /* fitted */\n",
       "  background-color: var(--sklearn-color-fitted-level-3);\n",
       "}\n",
       "</style><div id=\"sk-container-id-1\" class=\"sk-top-container\"><div class=\"sk-text-repr-fallback\"><pre>RandomForestClassifier(n_estimators=10, random_state=1)</pre><b>In a Jupyter environment, please rerun this cell to show the HTML representation or trust the notebook. <br />On GitHub, the HTML representation is unable to render, please try loading this page with nbviewer.org.</b></div><div class=\"sk-container\" hidden><div class=\"sk-item\"><div class=\"sk-estimator fitted sk-toggleable\"><input class=\"sk-toggleable__control sk-hidden--visually\" id=\"sk-estimator-id-1\" type=\"checkbox\" checked><label for=\"sk-estimator-id-1\" class=\"sk-toggleable__label fitted sk-toggleable__label-arrow fitted\">&nbsp;&nbsp;RandomForestClassifier<a class=\"sk-estimator-doc-link fitted\" rel=\"noreferrer\" target=\"_blank\" href=\"https://scikit-learn.org/1.5/modules/generated/sklearn.ensemble.RandomForestClassifier.html\">?<span>Documentation for RandomForestClassifier</span></a><span class=\"sk-estimator-doc-link fitted\">i<span>Fitted</span></span></label><div class=\"sk-toggleable__content fitted\"><pre>RandomForestClassifier(n_estimators=10, random_state=1)</pre></div> </div></div></div></div>"
      ],
      "text/plain": [
       "RandomForestClassifier(n_estimators=10, random_state=1)"
      ]
     },
     "execution_count": 5,
     "metadata": {},
     "output_type": "execute_result"
    }
   ],
   "source": [
    "rf_base = RandomForestClassifier(n_estimators=10, random_state=1) \n",
    "rf_base.fit(X_train,y_train)"
   ]
  },
  {
   "cell_type": "code",
   "execution_count": 7,
   "id": "fe147022-a5a8-4ac5-a010-d69890219bbe",
   "metadata": {},
   "outputs": [
    {
     "data": {
      "text/plain": [
       "np.float64(0.5703959619645457)"
      ]
     },
     "execution_count": 7,
     "metadata": {},
     "output_type": "execute_result"
    }
   ],
   "source": [
    "y_pred = rf_base.predict_proba(X_val)[:,1]\n",
    "roc_auc_score_base =roc_auc_score(y_val, y_pred)\n",
    "roc_auc_score_base"
   ]
  },
  {
   "cell_type": "code",
   "execution_count": 7,
   "id": "4507ceb5-80d6-4b10-8657-9fb14b22a03d",
   "metadata": {},
   "outputs": [
    {
     "data": {
      "text/plain": [
       "(10, np.int64(83), np.int64(68), np.float64(75.0))"
      ]
     },
     "execution_count": 7,
     "metadata": {},
     "output_type": "execute_result"
    }
   ],
   "source": [
    "tree_depths = [tree.get_depth() for tree in rf_base.estimators_]\n",
    "\n",
    "max_depth = np.max(tree_depths)\n",
    "min_depth = np.min(tree_depths)\n",
    "avg_depth = np.mean(tree_depths)\n",
    "\n",
    "len(rf_base.estimators_), max_depth, min_depth, avg_depth"
   ]
  },
  {
   "cell_type": "markdown",
   "id": "f2106205-29f1-487e-b007-a329ed971e8c",
   "metadata": {},
   "source": [
    "**Observations**\n",
    "\n",
    "`roc_auc_score`: Our base random forest model has an `roc_auc_score` of around 0.57, worse than the base logistic regression model.\n",
    "\n",
    "`max_depth`: The base model uses 10 decision trees and does not set a limit on the maximum depth (default=None). The maximum depth reached without restriction was 83 levels."
   ]
  },
  {
   "cell_type": "markdown",
   "id": "e9714264-801c-423c-970b-51d430f13109",
   "metadata": {},
   "source": [
    "## Model Tuning"
   ]
  },
  {
   "cell_type": "markdown",
   "id": "443cb3e3-97d3-41c4-9f13-d123e4fe7f85",
   "metadata": {},
   "source": [
    "### n_jobs\n",
    "\n",
    "This parameter defines the number of jobs to run in parallel i.e. instead of training each tree sequentially, train the trees in parallel across multiple CPU cores. By Setting `n_jobs=-1` we tell scikit learn to use all processors. \n",
    "\n",
    "By default this parameter is set to None, which means it will not do any parallelism. There is no logical reason why setting this field would impact the `roc_auc_score`, all it does is speed up computation. I initially ran this notebook without setting this variable and the different code segments were taking sometimes over 5 minutes to run. When I changed to `n_jobs=-1`, I saw no change in the conclusions to be drawn from the analysis e.g. the best max_depth is still 20, which is as expected."
   ]
  },
  {
   "cell_type": "markdown",
   "id": "fc228f39-aeba-4ff2-9b74-bc82706f074a",
   "metadata": {},
   "source": [
    "### How many trees should we have? (n_estimators)\n",
    "\n",
    "A random forest is made up of multiple decision trees. The specific number is specified by the parameter, `n_estimators`. \n",
    "\n",
    "We can evaluate the performance of the random forest classifier with different number of trees by calculating the `roc_auc_score`. \n",
    "\n",
    "It's worth noting that the `roc_auc_score` will increase as we add more trees. I thought I could look for the maximum `roc_auc_score` but there is no natural peak for this. Furthermore, we need to consider computational efficiency alongside performance: each additional tree requires more memory and time. \n",
    "\n",
    "Rather that find the `n_estimator` based on max `roc_auc_score`, I should look for the point at which adding more trees has diminishing returns"
   ]
  },
  {
   "cell_type": "code",
   "execution_count": 8,
   "id": "07ea0ac1-40b4-408b-a6a3-8030b2f6d889",
   "metadata": {},
   "outputs": [
    {
     "data": {
      "application/vnd.jupyter.widget-view+json": {
       "model_id": "32ca5c4a1c1c45e181a0e92c1c349916",
       "version_major": 2,
       "version_minor": 0
      },
      "text/plain": [
       "  0%|          | 0/20 [00:00<?, ?it/s]"
      ]
     },
     "metadata": {},
     "output_type": "display_data"
    }
   ],
   "source": [
    "# This took around 4 minutes on my machine with n_jobs=None but setting n_jobs=-1 reduced the time to 48 seconds\n",
    "scores_nest = []\n",
    "\n",
    "for n in tqdm(range(10,201,10)):\n",
    "    start_time = time.time()\n",
    "    rf = RandomForestClassifier(n_estimators=n, random_state=1, n_jobs=-1) \n",
    "    rf.fit(X_train,y_train)\n",
    "    y_pred = rf.predict_proba(X_val)[:,1]\n",
    "    score = roc_auc_score(y_val, y_pred)\n",
    "    end_time = time.time()\n",
    "    elapsed_time = end_time - start_time\n",
    "    scores_nest.append((n, score, elapsed_time))"
   ]
  },
  {
   "cell_type": "markdown",
   "id": "1da42464-881f-4606-9b7d-d6e5fe4619d6",
   "metadata": {},
   "source": [
    "The **Number of Trees vs ROC AUC score** graph is familiar and we can see that the improvements start to diminish at around 100 trees."
   ]
  },
  {
   "cell_type": "code",
   "execution_count": 9,
   "id": "19bd7875-446e-423a-a9f9-c9ccd86fe658",
   "metadata": {},
   "outputs": [
    {
     "data": {
      "image/png": "[encoded data removed]",
      "text/plain": [
       "<Figure size 640x480 with 1 Axes>"
      ]
     },
     "metadata": {},
     "output_type": "display_data"
    }
   ],
   "source": [
    "df_scores_nest = pd.DataFrame(scores_nest, columns=[\"n_estimator\",\"roc_auc_score\",\"elapsed_time\"])\n",
    "\n",
    "ax = sns.lineplot(data=df_scores_nest, x=\"n_estimator\", y=\"roc_auc_score\")\n",
    "\n",
    "plt.grid(True)\n",
    "plt.title(\"Number of Trees vs ROC AUC score\")\n",
    "plt.show()"
   ]
  },
  {
   "cell_type": "markdown",
   "id": "963d2640-0a60-4b03-9b8f-f225811dceef",
   "metadata": {},
   "source": [
    "In this **Computational Time vs ROC AUC Score** graph, the plateau is more evident: we can see that the roc_auc_score barely changes after 120 trees."
   ]
  },
  {
   "cell_type": "code",
   "execution_count": 10,
   "id": "b275f592-622b-4e1b-93b7-c0b13ea7d993",
   "metadata": {},
   "outputs": [
    {
     "data": {
      "text/plain": [
       "Text(0.5, 1.0, 'Computational Time vs ROC AUC Score')"
      ]
     },
     "execution_count": 10,
     "metadata": {},
     "output_type": "execute_result"
    },
    {
     "data": {
      "image/png": "[encoded data removed]",
      "text/plain": [
       "<Figure size 640x480 with 1 Axes>"
      ]
     },
     "metadata": {},
     "output_type": "display_data"
    }
   ],
   "source": [
    "ax = sns.scatterplot(data=df_scores_nest, x=\"elapsed_time\", y=\"roc_auc_score\", hue=\"n_estimator\", palette=\"RdBu\")\n",
    "sns.move_legend(ax, \"upper left\", bbox_to_anchor=(1, 1))\n",
    "\n",
    "plt.xlabel(\"computation time in seconds\")\n",
    "plt.grid(True)\n",
    "plt.title(\"Computational Time vs ROC AUC Score\")"
   ]
  },
  {
   "cell_type": "markdown",
   "id": "5afb54a9-7d0c-47e4-b776-76d3c7baa0da",
   "metadata": {},
   "source": [
    "**Conclusion**\n",
    "\n",
    "We can see that there is a substantial increase in the performance of the model initially but then this plateaus at around the 100 mark.\n",
    "\n",
    "At this point our `roc_auc_score` sits at just above 0.6. This is an improvement from our base model that had an `roc_auc_score` of 0.57."
   ]
  },
  {
   "cell_type": "code",
   "execution_count": 11,
   "id": "e531c5e1-5144-450e-99db-f86414933b42",
   "metadata": {},
   "outputs": [
    {
     "data": {
      "text/html": [
       "<div>\n",
       "<style scoped>\n",
       "    .dataframe tbody tr th:only-of-type {\n",
       "        vertical-align: middle;\n",
       "    }\n",
       "\n",
       "    .dataframe tbody tr th {\n",
       "        vertical-align: top;\n",
       "    }\n",
       "\n",
       "    .dataframe thead th {\n",
       "        text-align: right;\n",
       "    }\n",
       "</style>\n",
       "<table border=\"1\" class=\"dataframe\">\n",
       "  <thead>\n",
       "    <tr style=\"text-align: right;\">\n",
       "      <th></th>\n",
       "      <th>n_estimator</th>\n",
       "      <th>roc_auc_score</th>\n",
       "      <th>elapsed_time</th>\n",
       "    </tr>\n",
       "  </thead>\n",
       "  <tbody>\n",
       "    <tr>\n",
       "      <th>19</th>\n",
       "      <td>200</td>\n",
       "      <td>0.602412</td>\n",
       "      <td>3.380444</td>\n",
       "    </tr>\n",
       "    <tr>\n",
       "      <th>18</th>\n",
       "      <td>190</td>\n",
       "      <td>0.602174</td>\n",
       "      <td>3.247166</td>\n",
       "    </tr>\n",
       "    <tr>\n",
       "      <th>17</th>\n",
       "      <td>180</td>\n",
       "      <td>0.602083</td>\n",
       "      <td>3.219080</td>\n",
       "    </tr>\n",
       "    <tr>\n",
       "      <th>16</th>\n",
       "      <td>170</td>\n",
       "      <td>0.601569</td>\n",
       "      <td>2.937884</td>\n",
       "    </tr>\n",
       "    <tr>\n",
       "      <th>10</th>\n",
       "      <td>110</td>\n",
       "      <td>0.601483</td>\n",
       "      <td>1.890967</td>\n",
       "    </tr>\n",
       "    <tr>\n",
       "      <th>9</th>\n",
       "      <td>100</td>\n",
       "      <td>0.601161</td>\n",
       "      <td>1.768609</td>\n",
       "    </tr>\n",
       "    <tr>\n",
       "      <th>11</th>\n",
       "      <td>120</td>\n",
       "      <td>0.601072</td>\n",
       "      <td>2.055375</td>\n",
       "    </tr>\n",
       "    <tr>\n",
       "      <th>15</th>\n",
       "      <td>160</td>\n",
       "      <td>0.601047</td>\n",
       "      <td>2.692471</td>\n",
       "    </tr>\n",
       "    <tr>\n",
       "      <th>14</th>\n",
       "      <td>150</td>\n",
       "      <td>0.600971</td>\n",
       "      <td>2.519121</td>\n",
       "    </tr>\n",
       "    <tr>\n",
       "      <th>12</th>\n",
       "      <td>130</td>\n",
       "      <td>0.600967</td>\n",
       "      <td>2.201754</td>\n",
       "    </tr>\n",
       "  </tbody>\n",
       "</table>\n",
       "</div>"
      ],
      "text/plain": [
       "    n_estimator  roc_auc_score  elapsed_time\n",
       "19          200       0.602412      3.380444\n",
       "18          190       0.602174      3.247166\n",
       "17          180       0.602083      3.219080\n",
       "16          170       0.601569      2.937884\n",
       "10          110       0.601483      1.890967\n",
       "9           100       0.601161      1.768609\n",
       "11          120       0.601072      2.055375\n",
       "15          160       0.601047      2.692471\n",
       "14          150       0.600971      2.519121\n",
       "12          130       0.600967      2.201754"
      ]
     },
     "execution_count": 11,
     "metadata": {},
     "output_type": "execute_result"
    }
   ],
   "source": [
    "df_scores_nest.sort_values(by=\"roc_auc_score\", ascending=False).head(10)"
   ]
  },
  {
   "cell_type": "markdown",
   "id": "f042df4f-e804-4179-86f0-a42ac3c7dcc0",
   "metadata": {},
   "source": [
    "### What is the best max depth?\n",
    "\n",
    "The depth of the decision tree is the number of levels from the root node to furthest leaf node.\n",
    "\n",
    "Our base model's depth is set to None at the moment (default value) which means that the tree will keep branching and growing until each leaf contains only one class (or it hits the limit imposed by another parameter `min_samples_leaf`. Without restriction, its max depth was 105. \n",
    "\n",
    "A deeper tree has more levels of decision making which means that the model can capture more complexity. However it can also result in overfitting not to mention a higher computational."
   ]
  },
  {
   "cell_type": "code",
   "execution_count": 12,
   "id": "ea2b2541-ee91-463f-a210-d108464aade3",
   "metadata": {},
   "outputs": [
    {
     "data": {
      "application/vnd.jupyter.widget-view+json": {
       "model_id": "10ed73dbccff4b89a44e3a6d28d4ff87",
       "version_major": 2,
       "version_minor": 0
      },
      "text/plain": [
       "  0%|          | 0/6 [00:00<?, ?it/s]"
      ]
     },
     "metadata": {},
     "output_type": "display_data"
    },
    {
     "data": {
      "application/vnd.jupyter.widget-view+json": {
       "model_id": "1979128d34d2497d866729253cfc0c43",
       "version_major": 2,
       "version_minor": 0
      },
      "text/plain": [
       "  0%|          | 0/10 [00:00<?, ?it/s]"
      ]
     },
     "metadata": {},
     "output_type": "display_data"
    },
    {
     "data": {
      "application/vnd.jupyter.widget-view+json": {
       "model_id": "712b6fd2c3ce47dd91b47f3b819cb8f1",
       "version_major": 2,
       "version_minor": 0
      },
      "text/plain": [
       "  0%|          | 0/10 [00:00<?, ?it/s]"
      ]
     },
     "metadata": {},
     "output_type": "display_data"
    },
    {
     "data": {
      "application/vnd.jupyter.widget-view+json": {
       "model_id": "1e4c842629b34232864509440ed895c2",
       "version_major": 2,
       "version_minor": 0
      },
      "text/plain": [
       "  0%|          | 0/10 [00:00<?, ?it/s]"
      ]
     },
     "metadata": {},
     "output_type": "display_data"
    },
    {
     "data": {
      "application/vnd.jupyter.widget-view+json": {
       "model_id": "3ac7d0a24c1d4e48a40fad557950b748",
       "version_major": 2,
       "version_minor": 0
      },
      "text/plain": [
       "  0%|          | 0/10 [00:00<?, ?it/s]"
      ]
     },
     "metadata": {},
     "output_type": "display_data"
    },
    {
     "data": {
      "application/vnd.jupyter.widget-view+json": {
       "model_id": "e95fd02ffcca4b5896c11ab1b7741599",
       "version_major": 2,
       "version_minor": 0
      },
      "text/plain": [
       "  0%|          | 0/10 [00:00<?, ?it/s]"
      ]
     },
     "metadata": {},
     "output_type": "display_data"
    },
    {
     "data": {
      "application/vnd.jupyter.widget-view+json": {
       "model_id": "24ca1c0a765348ccbaf439e6a21581b4",
       "version_major": 2,
       "version_minor": 0
      },
      "text/plain": [
       "  0%|          | 0/10 [00:00<?, ?it/s]"
      ]
     },
     "metadata": {},
     "output_type": "display_data"
    }
   ],
   "source": [
    "# This took around 7 minutes on my machine when n_jobs=None, setting n_jobs=-1 speeds this up to under 90 seconds!\n",
    "scores_md = []\n",
    "number_trees = range(10,201,20)\n",
    "max_depths = [5,10,20,30,40,80]\n",
    "\n",
    "for d in tqdm(max_depths):\n",
    "    for n in tqdm(number_trees):\n",
    "        start_time = time.time()\n",
    "        rf = RandomForestClassifier(n_estimators=n, max_depth=d, random_state=1, n_jobs=-1) # setting n_jobs=-1 uses all processors \n",
    "        rf.fit(X_train,y_train)\n",
    "        y_pred = rf.predict_proba(X_val)[:,1]\n",
    "        score = roc_auc_score(y_val, y_pred)\n",
    "        end_time = time.time()\n",
    "        elapsed_time = end_time - start_time\n",
    "        scores_md.append((d, n, score, elapsed_time))"
   ]
  },
  {
   "cell_type": "code",
   "execution_count": 13,
   "id": "dbc0d9e0-c462-4021-9483-6806165a927a",
   "metadata": {},
   "outputs": [
    {
     "data": {
      "text/html": [
       "<div>\n",
       "<style scoped>\n",
       "    .dataframe tbody tr th:only-of-type {\n",
       "        vertical-align: middle;\n",
       "    }\n",
       "\n",
       "    .dataframe tbody tr th {\n",
       "        vertical-align: top;\n",
       "    }\n",
       "\n",
       "    .dataframe thead th {\n",
       "        text-align: right;\n",
       "    }\n",
       "</style>\n",
       "<table border=\"1\" class=\"dataframe\">\n",
       "  <thead>\n",
       "    <tr style=\"text-align: right;\">\n",
       "      <th></th>\n",
       "      <th>max_depth</th>\n",
       "      <th>n_estimator</th>\n",
       "      <th>roc_auc_score</th>\n",
       "      <th>computational_time</th>\n",
       "    </tr>\n",
       "  </thead>\n",
       "  <tbody>\n",
       "    <tr>\n",
       "      <th>18</th>\n",
       "      <td>10</td>\n",
       "      <td>170</td>\n",
       "      <td>0.628463</td>\n",
       "      <td>1.834272</td>\n",
       "    </tr>\n",
       "    <tr>\n",
       "      <th>19</th>\n",
       "      <td>10</td>\n",
       "      <td>190</td>\n",
       "      <td>0.628441</td>\n",
       "      <td>1.815756</td>\n",
       "    </tr>\n",
       "    <tr>\n",
       "      <th>17</th>\n",
       "      <td>10</td>\n",
       "      <td>150</td>\n",
       "      <td>0.628342</td>\n",
       "      <td>1.525465</td>\n",
       "    </tr>\n",
       "    <tr>\n",
       "      <th>16</th>\n",
       "      <td>10</td>\n",
       "      <td>130</td>\n",
       "      <td>0.627801</td>\n",
       "      <td>1.362356</td>\n",
       "    </tr>\n",
       "    <tr>\n",
       "      <th>15</th>\n",
       "      <td>10</td>\n",
       "      <td>110</td>\n",
       "      <td>0.627364</td>\n",
       "      <td>1.217525</td>\n",
       "    </tr>\n",
       "  </tbody>\n",
       "</table>\n",
       "</div>"
      ],
      "text/plain": [
       "    max_depth  n_estimator  roc_auc_score  computational_time\n",
       "18         10          170       0.628463            1.834272\n",
       "19         10          190       0.628441            1.815756\n",
       "17         10          150       0.628342            1.525465\n",
       "16         10          130       0.627801            1.362356\n",
       "15         10          110       0.627364            1.217525"
      ]
     },
     "execution_count": 13,
     "metadata": {},
     "output_type": "execute_result"
    }
   ],
   "source": [
    "columns = [\"max_depth\", \"n_estimator\",\"roc_auc_score\", \"computational_time\"]\n",
    "df_scores_md = pd.DataFrame(scores_md, columns=columns)\n",
    "df_scores_md.sort_values(by=\"roc_auc_score\", ascending=False).head()"
   ]
  },
  {
   "cell_type": "code",
   "execution_count": 14,
   "id": "2dc92bbc-d4db-4327-afb7-1e6435e7f169",
   "metadata": {},
   "outputs": [
    {
     "data": {
      "image/png": "[encoded data removed]",
      "text/plain": [
       "<Figure size 640x480 with 1 Axes>"
      ]
     },
     "metadata": {},
     "output_type": "display_data"
    }
   ],
   "source": [
    "sns.set_palette(\"bright\")\n",
    "\n",
    "for d in max_depths:\n",
    "    df_subset = df_scores_md[df_scores_md[\"max_depth\"] == d]\n",
    "    sns.lineplot(data=df_subset, x=\"n_estimator\", y=\"roc_auc_score\", label='max_depth=%d' % d)\n",
    "\n",
    "plt.title(\"Identifying Optimal Max Depth: Number of Trees vs ROC AUC score\")\n",
    "plt.show()"
   ]
  },
  {
   "cell_type": "markdown",
   "id": "feb4e043-b200-4583-909f-debd2c105d03",
   "metadata": {},
   "source": [
    "We can see from the graph that a `max_depth` of 10 is the clear winner in this scenario.\n",
    "\n",
    "When we tune `max_depth` our `roc_auc_score` improves again and in comparison to just tuning the number of trees, the computational timing drops: Even with 170 trees, with `max_depth` set to 10, we see our `roc_auc_score` improve to 0.628.\n",
    "\n",
    "This is not a huge change from the 0.6 mark achieved by tuning the number of trees but is still worthwhile."
   ]
  },
  {
   "cell_type": "markdown",
   "id": "a8daf24c-d56c-4b70-9262-18f0ab9ba1af",
   "metadata": {},
   "source": [
    "### What is the minimum number of samples that should exist at each leaf node?\n",
    "\n",
    "A leaf node is the last node in a decision tree where you finally get to a decision point, in our case, we get an answer(probability) of whether our collision is severe.\n",
    "\n",
    "In our base model and by default `min_samples_leaf` is set to 1, which means we have only one sample to back up this decision. If most of our leaf nodes have only one sample it can mean that our whole decision tree may perform well for our training set but badly on other datasets i.e. suffer from overfitting.\n",
    "\n",
    "To avoid overfitting, we can modify the `min_samples_leaf`\n",
    "\n",
    "We test out different values of `min_samples_leaf` setting `max_depth` to 10"
   ]
  },
  {
   "cell_type": "code",
   "execution_count": 18,
   "id": "053b615f-881b-457b-92b7-475403f7aa4c",
   "metadata": {},
   "outputs": [
    {
     "data": {
      "application/vnd.jupyter.widget-view+json": {
       "model_id": "3023e5b28fa941aa83293a668c262ce1",
       "version_major": 2,
       "version_minor": 0
      },
      "text/plain": [
       "  0%|          | 0/5 [00:00<?, ?it/s]"
      ]
     },
     "metadata": {},
     "output_type": "display_data"
    },
    {
     "data": {
      "application/vnd.jupyter.widget-view+json": {
       "model_id": "30a6e6b8ff5c456a89b20e0c40ff287c",
       "version_major": 2,
       "version_minor": 0
      },
      "text/plain": [
       "  0%|          | 0/10 [00:00<?, ?it/s]"
      ]
     },
     "metadata": {},
     "output_type": "display_data"
    },
    {
     "data": {
      "application/vnd.jupyter.widget-view+json": {
       "model_id": "e7560fe0a9c049b688b5930ccf0b1427",
       "version_major": 2,
       "version_minor": 0
      },
      "text/plain": [
       "  0%|          | 0/10 [00:00<?, ?it/s]"
      ]
     },
     "metadata": {},
     "output_type": "display_data"
    },
    {
     "data": {
      "application/vnd.jupyter.widget-view+json": {
       "model_id": "5720975851cc4e4ab5b288e7f10c5cac",
       "version_major": 2,
       "version_minor": 0
      },
      "text/plain": [
       "  0%|          | 0/10 [00:00<?, ?it/s]"
      ]
     },
     "metadata": {},
     "output_type": "display_data"
    },
    {
     "data": {
      "application/vnd.jupyter.widget-view+json": {
       "model_id": "bc19c4546034449c9a2ae1fadf0d1a00",
       "version_major": 2,
       "version_minor": 0
      },
      "text/plain": [
       "  0%|          | 0/10 [00:00<?, ?it/s]"
      ]
     },
     "metadata": {},
     "output_type": "display_data"
    },
    {
     "data": {
      "application/vnd.jupyter.widget-view+json": {
       "model_id": "b6d63b7c08584e6882b4bdf4f05c6cb3",
       "version_major": 2,
       "version_minor": 0
      },
      "text/plain": [
       "  0%|          | 0/10 [00:00<?, ?it/s]"
      ]
     },
     "metadata": {},
     "output_type": "display_data"
    }
   ],
   "source": [
    "# This took around 5 minutes on my machine with n_jobs=None, but under 90 seconds when n_jobs=-1\n",
    "max_depth = 10\n",
    "\n",
    "scores_msl = []\n",
    "number_trees = range(10,201,20)\n",
    "min_samples_at_leaf = [1,3,5,10,50]\n",
    "\n",
    "for s in tqdm(min_samples_at_leaf):\n",
    "    for n in tqdm(number_trees):\n",
    "        start_time = time.time()\n",
    "        rf = RandomForestClassifier(n_estimators=n, max_depth=max_depth, random_state=1, min_samples_leaf=s, n_jobs=-1) \n",
    "        rf.fit(X_train,y_train)\n",
    "        y_pred = rf.predict_proba(X_val)[:,1]\n",
    "        score = roc_auc_score(y_val, y_pred)\n",
    "        end_time = time.time()\n",
    "        elapsed_time = end_time - start_time\n",
    "        scores_msl.append((s, n, score, elapsed_time))"
   ]
  },
  {
   "cell_type": "code",
   "execution_count": 25,
   "id": "d98d2356-3504-4683-9a55-2b9286f20bd6",
   "metadata": {},
   "outputs": [
    {
     "data": {
      "text/html": [
       "<div>\n",
       "<style scoped>\n",
       "    .dataframe tbody tr th:only-of-type {\n",
       "        vertical-align: middle;\n",
       "    }\n",
       "\n",
       "    .dataframe tbody tr th {\n",
       "        vertical-align: top;\n",
       "    }\n",
       "\n",
       "    .dataframe thead th {\n",
       "        text-align: right;\n",
       "    }\n",
       "</style>\n",
       "<table border=\"1\" class=\"dataframe\">\n",
       "  <thead>\n",
       "    <tr style=\"text-align: right;\">\n",
       "      <th></th>\n",
       "      <th>min_samples_at_leaf</th>\n",
       "      <th>n_estimator</th>\n",
       "      <th>roc_auc_score</th>\n",
       "      <th>computational_time</th>\n",
       "    </tr>\n",
       "  </thead>\n",
       "  <tbody>\n",
       "    <tr>\n",
       "      <th>25</th>\n",
       "      <td>5</td>\n",
       "      <td>110</td>\n",
       "      <td>0.628883</td>\n",
       "      <td>1.115515</td>\n",
       "    </tr>\n",
       "    <tr>\n",
       "      <th>27</th>\n",
       "      <td>5</td>\n",
       "      <td>150</td>\n",
       "      <td>0.628818</td>\n",
       "      <td>1.444471</td>\n",
       "    </tr>\n",
       "    <tr>\n",
       "      <th>24</th>\n",
       "      <td>5</td>\n",
       "      <td>90</td>\n",
       "      <td>0.628806</td>\n",
       "      <td>0.937622</td>\n",
       "    </tr>\n",
       "    <tr>\n",
       "      <th>29</th>\n",
       "      <td>5</td>\n",
       "      <td>190</td>\n",
       "      <td>0.628672</td>\n",
       "      <td>1.951013</td>\n",
       "    </tr>\n",
       "    <tr>\n",
       "      <th>17</th>\n",
       "      <td>3</td>\n",
       "      <td>150</td>\n",
       "      <td>0.628617</td>\n",
       "      <td>1.511251</td>\n",
       "    </tr>\n",
       "    <tr>\n",
       "      <th>26</th>\n",
       "      <td>5</td>\n",
       "      <td>130</td>\n",
       "      <td>0.628571</td>\n",
       "      <td>1.296729</td>\n",
       "    </tr>\n",
       "    <tr>\n",
       "      <th>28</th>\n",
       "      <td>5</td>\n",
       "      <td>170</td>\n",
       "      <td>0.628562</td>\n",
       "      <td>1.770215</td>\n",
       "    </tr>\n",
       "    <tr>\n",
       "      <th>14</th>\n",
       "      <td>3</td>\n",
       "      <td>90</td>\n",
       "      <td>0.628524</td>\n",
       "      <td>0.954166</td>\n",
       "    </tr>\n",
       "    <tr>\n",
       "      <th>15</th>\n",
       "      <td>3</td>\n",
       "      <td>110</td>\n",
       "      <td>0.628506</td>\n",
       "      <td>1.154835</td>\n",
       "    </tr>\n",
       "    <tr>\n",
       "      <th>8</th>\n",
       "      <td>1</td>\n",
       "      <td>170</td>\n",
       "      <td>0.628463</td>\n",
       "      <td>1.749845</td>\n",
       "    </tr>\n",
       "    <tr>\n",
       "      <th>9</th>\n",
       "      <td>1</td>\n",
       "      <td>190</td>\n",
       "      <td>0.628441</td>\n",
       "      <td>1.956337</td>\n",
       "    </tr>\n",
       "    <tr>\n",
       "      <th>19</th>\n",
       "      <td>3</td>\n",
       "      <td>190</td>\n",
       "      <td>0.628421</td>\n",
       "      <td>1.855525</td>\n",
       "    </tr>\n",
       "    <tr>\n",
       "      <th>7</th>\n",
       "      <td>1</td>\n",
       "      <td>150</td>\n",
       "      <td>0.628342</td>\n",
       "      <td>1.520308</td>\n",
       "    </tr>\n",
       "    <tr>\n",
       "      <th>18</th>\n",
       "      <td>3</td>\n",
       "      <td>170</td>\n",
       "      <td>0.628327</td>\n",
       "      <td>1.614971</td>\n",
       "    </tr>\n",
       "    <tr>\n",
       "      <th>23</th>\n",
       "      <td>5</td>\n",
       "      <td>70</td>\n",
       "      <td>0.628319</td>\n",
       "      <td>0.725509</td>\n",
       "    </tr>\n",
       "    <tr>\n",
       "      <th>16</th>\n",
       "      <td>3</td>\n",
       "      <td>130</td>\n",
       "      <td>0.628126</td>\n",
       "      <td>1.339771</td>\n",
       "    </tr>\n",
       "    <tr>\n",
       "      <th>34</th>\n",
       "      <td>10</td>\n",
       "      <td>90</td>\n",
       "      <td>0.627900</td>\n",
       "      <td>0.917330</td>\n",
       "    </tr>\n",
       "    <tr>\n",
       "      <th>21</th>\n",
       "      <td>5</td>\n",
       "      <td>30</td>\n",
       "      <td>0.627898</td>\n",
       "      <td>0.332170</td>\n",
       "    </tr>\n",
       "    <tr>\n",
       "      <th>13</th>\n",
       "      <td>3</td>\n",
       "      <td>70</td>\n",
       "      <td>0.627896</td>\n",
       "      <td>0.786917</td>\n",
       "    </tr>\n",
       "    <tr>\n",
       "      <th>39</th>\n",
       "      <td>10</td>\n",
       "      <td>190</td>\n",
       "      <td>0.627819</td>\n",
       "      <td>1.943071</td>\n",
       "    </tr>\n",
       "  </tbody>\n",
       "</table>\n",
       "</div>"
      ],
      "text/plain": [
       "    min_samples_at_leaf  n_estimator  roc_auc_score  computational_time\n",
       "25                    5          110       0.628883            1.115515\n",
       "27                    5          150       0.628818            1.444471\n",
       "24                    5           90       0.628806            0.937622\n",
       "29                    5          190       0.628672            1.951013\n",
       "17                    3          150       0.628617            1.511251\n",
       "26                    5          130       0.628571            1.296729\n",
       "28                    5          170       0.628562            1.770215\n",
       "14                    3           90       0.628524            0.954166\n",
       "15                    3          110       0.628506            1.154835\n",
       "8                     1          170       0.628463            1.749845\n",
       "9                     1          190       0.628441            1.956337\n",
       "19                    3          190       0.628421            1.855525\n",
       "7                     1          150       0.628342            1.520308\n",
       "18                    3          170       0.628327            1.614971\n",
       "23                    5           70       0.628319            0.725509\n",
       "16                    3          130       0.628126            1.339771\n",
       "34                   10           90       0.627900            0.917330\n",
       "21                    5           30       0.627898            0.332170\n",
       "13                    3           70       0.627896            0.786917\n",
       "39                   10          190       0.627819            1.943071"
      ]
     },
     "execution_count": 25,
     "metadata": {},
     "output_type": "execute_result"
    }
   ],
   "source": [
    "columns = [\"min_samples_at_leaf\", \"n_estimator\",\"roc_auc_score\", \"computational_time\"]\n",
    "df_scores_msl = pd.DataFrame(scores_msl, columns=columns)\n",
    "df_scores_msl.sort_values(by=\"roc_auc_score\", ascending=False).head(20)"
   ]
  },
  {
   "cell_type": "code",
   "execution_count": 20,
   "id": "102d72af-fe62-43e0-a04d-bb9a19bbf5ab",
   "metadata": {},
   "outputs": [
    {
     "data": {
      "image/png": "[encoded data removed]",
      "text/plain": [
       "<Figure size 640x480 with 1 Axes>"
      ]
     },
     "metadata": {},
     "output_type": "display_data"
    }
   ],
   "source": [
    "sns.set_palette(\"bright\")\n",
    "\n",
    "for s in min_samples_at_leaf:\n",
    "    df_subset = df_scores_msl[df_scores_msl[\"min_samples_at_leaf\"] == s]\n",
    "    sns.lineplot(data=df_subset, x=\"n_estimator\", y=\"roc_auc_score\", label='min_samples_leaf=%d' % s)\n",
    "\n",
    "plt.title(\"Identifying Optimal min_samples_leaf: Number of Trees vs ROC AUC score\")\n",
    "plt.show()"
   ]
  },
  {
   "cell_type": "markdown",
   "id": "aefaafc9-1bb2-4239-812f-3b38298bfd2e",
   "metadata": {},
   "source": [
    "We can see from the graph that the best `min_samples_leaf` value is 5: it consistently has a higher `roc_auc_score` topping out at `0.6288`.\n",
    "\n",
    "One thing that is worth noting is that the number of estimators to achieve this higher scores is consistently larger (the lowest n_estimator that achieves 0.6288 is 90 trees). That being said, we can achieve a score of `0.6279` with only 30 trees.\n",
    "\n",
    "I know we should balance speed and performance and these gains in performance seem small. So too, however do the gains in time! For this reason, I will stick with the larger `n_estimator` value which produces the top `0.6288` score i.e. `n_estimators=110`"
   ]
  },
  {
   "cell_type": "markdown",
   "id": "a072d9f0-1946-4474-9ee4-c68b2eb913ba",
   "metadata": {},
   "source": [
    "### Is there a way for us to handle the fact that we have imbalanced data?\n",
    "\n",
    "In lectures it was suggested that we play around with the `bootstrap` variable. I have an unbalanced dataset (70% of my data is not classified as severe. \n",
    "\n",
    "`bootstrap` is set to True already by default in the RandomForestClassifier so we are already getting the benefits... but is it helping?\n",
    "\n",
    "I thought bootstrapping would help because bootstrapping samples the data with replacement i.e. it's possible that it will randomly sample a lot more rows where `is_severe` == 1 than actually exist in the dataset. \n",
    "\n",
    "The method can increase the diversity of the trees used in the forest because each tree will be trained on a slightly different subset of the data. \n",
    "\n",
    "**class_weight**\n",
    "\n",
    "The `class_weight` parameter allows you to assign a higher weight to the target variable i.e. `is_severe`. \n",
    "\n",
    "Setting the `class_weight='balanced'` means that more weight will be given to getting the minority class (`is_severe=1`) classified correctly. What the model does in practice is penalise misclassifications  of the minority class more, encouraging the model to be more careful about classifying those examples. "
   ]
  },
  {
   "cell_type": "code",
   "execution_count": 26,
   "id": "93c62f7a-ef79-465b-a90e-de2c06939081",
   "metadata": {},
   "outputs": [
    {
     "data": {
      "text/plain": [
       "is_severe\n",
       "0    0.701881\n",
       "1    0.298119\n",
       "Name: proportion, dtype: float64"
      ]
     },
     "execution_count": 26,
     "metadata": {},
     "output_type": "execute_result"
    }
   ],
   "source": [
    "df_collision[\"is_severe\"].value_counts(normalize=True)"
   ]
  },
  {
   "cell_type": "code",
   "execution_count": 27,
   "id": "68c36177-b092-44e7-8377-b16e2934e9aa",
   "metadata": {},
   "outputs": [
    {
     "data": {
      "application/vnd.jupyter.widget-view+json": {
       "model_id": "2848d5a9907f4324be26c70308e17423",
       "version_major": 2,
       "version_minor": 0
      },
      "text/plain": [
       "  0%|          | 0/2 [00:00<?, ?it/s]"
      ]
     },
     "metadata": {},
     "output_type": "display_data"
    },
    {
     "data": {
      "application/vnd.jupyter.widget-view+json": {
       "model_id": "f7fc68a1ed9c4e6cb216e3ff1fc69f95",
       "version_major": 2,
       "version_minor": 0
      },
      "text/plain": [
       "  0%|          | 0/2 [00:00<?, ?it/s]"
      ]
     },
     "metadata": {},
     "output_type": "display_data"
    },
    {
     "data": {
      "application/vnd.jupyter.widget-view+json": {
       "model_id": "974d93b3b4884845a3b6eca4a17a6c6a",
       "version_major": 2,
       "version_minor": 0
      },
      "text/plain": [
       "  0%|          | 0/10 [00:00<?, ?it/s]"
      ]
     },
     "metadata": {},
     "output_type": "display_data"
    },
    {
     "data": {
      "application/vnd.jupyter.widget-view+json": {
       "model_id": "50ff75cb409c4f6a9ce851fac18e4c44",
       "version_major": 2,
       "version_minor": 0
      },
      "text/plain": [
       "  0%|          | 0/10 [00:00<?, ?it/s]"
      ]
     },
     "metadata": {},
     "output_type": "display_data"
    },
    {
     "data": {
      "application/vnd.jupyter.widget-view+json": {
       "model_id": "b746066adaa44e728bb34d55c001c3ff",
       "version_major": 2,
       "version_minor": 0
      },
      "text/plain": [
       "  0%|          | 0/2 [00:00<?, ?it/s]"
      ]
     },
     "metadata": {},
     "output_type": "display_data"
    },
    {
     "data": {
      "application/vnd.jupyter.widget-view+json": {
       "model_id": "aff13926485342ef81df84a799ca7d8f",
       "version_major": 2,
       "version_minor": 0
      },
      "text/plain": [
       "  0%|          | 0/10 [00:00<?, ?it/s]"
      ]
     },
     "metadata": {},
     "output_type": "display_data"
    },
    {
     "data": {
      "application/vnd.jupyter.widget-view+json": {
       "model_id": "1b930feee62c4ebfacb12dcac35d2e2e",
       "version_major": 2,
       "version_minor": 0
      },
      "text/plain": [
       "  0%|          | 0/10 [00:00<?, ?it/s]"
      ]
     },
     "metadata": {},
     "output_type": "display_data"
    }
   ],
   "source": [
    "max_depth = 10\n",
    "min_samples_leaf = 5\n",
    "\n",
    "scores_boot = []\n",
    "number_trees = range(10,201,20)\n",
    "bootstrap = [True,False]\n",
    "class_weight=[None, \"balanced\"]\n",
    "\n",
    "for b in tqdm(bootstrap):\n",
    "    for cw in tqdm(class_weight):\n",
    "        for n in tqdm(number_trees):\n",
    "            start_time = time.time()\n",
    "            rf = RandomForestClassifier(n_estimators=n, max_depth=max_depth, random_state=1, \n",
    "                                        min_samples_leaf=min_samples_leaf, n_jobs=-1, bootstrap=b, class_weight=cw) \n",
    "            rf.fit(X_train,y_train)\n",
    "            y_pred = rf.predict_proba(X_val)[:,1]\n",
    "            score = roc_auc_score(y_val, y_pred)\n",
    "            end_time = time.time()\n",
    "            elapsed_time = end_time - start_time\n",
    "            scores_boot.append((b, cw, n, score, elapsed_time))"
   ]
  },
  {
   "cell_type": "code",
   "execution_count": 28,
   "id": "76702dcb-aa6f-47b4-ac71-c85068fe96d1",
   "metadata": {},
   "outputs": [
    {
     "data": {
      "text/html": [
       "<div>\n",
       "<style scoped>\n",
       "    .dataframe tbody tr th:only-of-type {\n",
       "        vertical-align: middle;\n",
       "    }\n",
       "\n",
       "    .dataframe tbody tr th {\n",
       "        vertical-align: top;\n",
       "    }\n",
       "\n",
       "    .dataframe thead th {\n",
       "        text-align: right;\n",
       "    }\n",
       "</style>\n",
       "<table border=\"1\" class=\"dataframe\">\n",
       "  <thead>\n",
       "    <tr style=\"text-align: right;\">\n",
       "      <th></th>\n",
       "      <th>bootstrap</th>\n",
       "      <th>class_weight</th>\n",
       "      <th>n_estimator</th>\n",
       "      <th>roc_auc_score</th>\n",
       "      <th>computational_time</th>\n",
       "    </tr>\n",
       "  </thead>\n",
       "  <tbody>\n",
       "    <tr>\n",
       "      <th>5</th>\n",
       "      <td>True</td>\n",
       "      <td>None</td>\n",
       "      <td>110</td>\n",
       "      <td>0.628883</td>\n",
       "      <td>1.195517</td>\n",
       "    </tr>\n",
       "    <tr>\n",
       "      <th>7</th>\n",
       "      <td>True</td>\n",
       "      <td>None</td>\n",
       "      <td>150</td>\n",
       "      <td>0.628818</td>\n",
       "      <td>1.547730</td>\n",
       "    </tr>\n",
       "    <tr>\n",
       "      <th>4</th>\n",
       "      <td>True</td>\n",
       "      <td>None</td>\n",
       "      <td>90</td>\n",
       "      <td>0.628806</td>\n",
       "      <td>0.967575</td>\n",
       "    </tr>\n",
       "    <tr>\n",
       "      <th>9</th>\n",
       "      <td>True</td>\n",
       "      <td>None</td>\n",
       "      <td>190</td>\n",
       "      <td>0.628672</td>\n",
       "      <td>1.858227</td>\n",
       "    </tr>\n",
       "    <tr>\n",
       "      <th>6</th>\n",
       "      <td>True</td>\n",
       "      <td>None</td>\n",
       "      <td>130</td>\n",
       "      <td>0.628571</td>\n",
       "      <td>1.316189</td>\n",
       "    </tr>\n",
       "    <tr>\n",
       "      <th>8</th>\n",
       "      <td>True</td>\n",
       "      <td>None</td>\n",
       "      <td>170</td>\n",
       "      <td>0.628562</td>\n",
       "      <td>1.672895</td>\n",
       "    </tr>\n",
       "    <tr>\n",
       "      <th>3</th>\n",
       "      <td>True</td>\n",
       "      <td>None</td>\n",
       "      <td>70</td>\n",
       "      <td>0.628319</td>\n",
       "      <td>0.812389</td>\n",
       "    </tr>\n",
       "    <tr>\n",
       "      <th>37</th>\n",
       "      <td>False</td>\n",
       "      <td>balanced</td>\n",
       "      <td>150</td>\n",
       "      <td>0.628298</td>\n",
       "      <td>2.163889</td>\n",
       "    </tr>\n",
       "    <tr>\n",
       "      <th>39</th>\n",
       "      <td>False</td>\n",
       "      <td>balanced</td>\n",
       "      <td>190</td>\n",
       "      <td>0.628225</td>\n",
       "      <td>2.678598</td>\n",
       "    </tr>\n",
       "    <tr>\n",
       "      <th>38</th>\n",
       "      <td>False</td>\n",
       "      <td>balanced</td>\n",
       "      <td>170</td>\n",
       "      <td>0.628204</td>\n",
       "      <td>2.408423</td>\n",
       "    </tr>\n",
       "  </tbody>\n",
       "</table>\n",
       "</div>"
      ],
      "text/plain": [
       "    bootstrap class_weight  n_estimator  roc_auc_score  computational_time\n",
       "5        True         None          110       0.628883            1.195517\n",
       "7        True         None          150       0.628818            1.547730\n",
       "4        True         None           90       0.628806            0.967575\n",
       "9        True         None          190       0.628672            1.858227\n",
       "6        True         None          130       0.628571            1.316189\n",
       "8        True         None          170       0.628562            1.672895\n",
       "3        True         None           70       0.628319            0.812389\n",
       "37      False     balanced          150       0.628298            2.163889\n",
       "39      False     balanced          190       0.628225            2.678598\n",
       "38      False     balanced          170       0.628204            2.408423"
      ]
     },
     "execution_count": 28,
     "metadata": {},
     "output_type": "execute_result"
    }
   ],
   "source": [
    "columns = [\"bootstrap\", \"class_weight\", \"n_estimator\",\"roc_auc_score\", \"computational_time\"]\n",
    "df_scores_boot_cw = pd.DataFrame(scores_boot, columns=columns)\n",
    "df_scores_boot_cw.sort_values(by=\"roc_auc_score\", ascending=False).head(10)"
   ]
  },
  {
   "cell_type": "code",
   "execution_count": 29,
   "id": "254be7e8-aa58-4dbd-93e3-349ae92d3ba0",
   "metadata": {},
   "outputs": [
    {
     "data": {
      "image/png": "[encoded data removed]",
      "text/plain": [
       "<Figure size 640x480 with 1 Axes>"
      ]
     },
     "metadata": {},
     "output_type": "display_data"
    }
   ],
   "source": [
    "sns.set_palette(\"bright\")\n",
    "\n",
    "for b in bootstrap:\n",
    "    for cw in class_weight:\n",
    "        filter_cw = df_scores_boot_cw[\"class_weight\"] == cw\n",
    "        if not cw:\n",
    "            filter_cw = df_scores_boot_cw[\"class_weight\"].isna()\n",
    "        df_subset = df_scores_boot_cw[(df_scores_boot_cw[\"bootstrap\"] == b) & (filter_cw) ]\n",
    "        sns.lineplot(data=df_subset, x=\"n_estimator\", y=\"roc_auc_score\", label=f'bootstrap={b}, cw={cw}')\n",
    "\n",
    "plt.title(\"Is bootstrapping a good idea? Is : Number of Trees vs ROC AUC score\")\n",
    "plt.show()"
   ]
  },
  {
   "cell_type": "markdown",
   "id": "6817b1d4-7b06-4c83-8282-b8b14028c513",
   "metadata": {},
   "source": [
    "The results may seem a little surprising. \n",
    "\n",
    "Why does our model seems to be worst when there is bootstrapping and we attempt to handle the class imbalance with the `class_weight` parameter? \n",
    "\n",
    "We assumed that bootstrapping would help our class imbalance problem but it's possible for it to exacerabate it: perhaps random sampling actually means an even worse split is chosen! If you are going to do bootstrapping, it seems that this is best done for our dataset without setting the `class_weight` parameter i.e. stick with the defaults!\n",
    "\n",
    "So far we have tuned `max_depth` and `max_samples_leaf` and improved the `roc_auc_score` to 0.6288. By playing around with `bootstrap` and `class_weight`, we don't get any additional improvement \n",
    "\n",
    "So after this stage our final tuning is\n",
    "\n",
    "- `max_depth` = 10\n",
    "- `min_samples_leaf` = 5\n",
    "- `n_estimators` = 110"
   ]
  },
  {
   "cell_type": "code",
   "execution_count": 30,
   "id": "71419fc5-b872-4793-9a5d-5945bcdccde5",
   "metadata": {},
   "outputs": [
    {
     "data": {
      "text/plain": [
       "np.float64(0.6288830973285102)"
      ]
     },
     "execution_count": 30,
     "metadata": {},
     "output_type": "execute_result"
    }
   ],
   "source": [
    "max_depth = 10\n",
    "min_samples_leaf = 5\n",
    "n_estimators = 110\n",
    "\n",
    "rf = RandomForestClassifier(n_estimators=n_estimators, max_depth=max_depth, random_state=1, min_samples_leaf=min_samples_leaf, n_jobs=-1) \n",
    "rf.fit(X_train,y_train)\n",
    "y_pred = rf.predict_proba(X_val)[:,1]\n",
    "roc_auc_score_tuning = roc_auc_score(y_val, y_pred)\n",
    "roc_auc_score_tuning"
   ]
  },
  {
   "cell_type": "markdown",
   "id": "7a3fa126-6fe7-459a-8ec5-ea97b285617a",
   "metadata": {},
   "source": [
    "## Final model\n",
    "\n",
    "I will use the full training set to train a model with the parameters found in the model tuning evaluation above."
   ]
  },
  {
   "cell_type": "code",
   "execution_count": 31,
   "id": "83a12a51-9cda-4915-95b9-1c325f074871",
   "metadata": {},
   "outputs": [
    {
     "data": {
      "text/plain": [
       "np.float64(0.6222136888244261)"
      ]
     },
     "execution_count": 31,
     "metadata": {},
     "output_type": "execute_result"
    }
   ],
   "source": [
    "# Prepare datasets: `is_severe` still exists in df_full_train so we need to remove it and extract the y_full_train\n",
    "\n",
    "df_full_train = df_full_train.reset_index(drop=True)\n",
    "\n",
    "y_full_train = df_full_train[\"is_severe\"].values\n",
    "\n",
    "del df_full_train[\"is_severe\"]\n",
    "\n",
    "# Create dv and X_full_train and X_test datasets\n",
    "dicts_full_train = df_full_train.to_dict(orient=\"records\")\n",
    "dv = DictVectorizer(sparse=False).fit(dicts_full_train)\n",
    "X_full_train = dv.transform(dicts_full_train)\n",
    "\n",
    "test_dicts = df_test.to_dict(orient=\"records\")\n",
    "X_test = dv.transform(test_dicts)\n",
    "\n",
    "max_depth = 10\n",
    "min_samples_leaf = 5\n",
    "n_estimators = 90\n",
    "\n",
    "rf = RandomForestClassifier(n_estimators=n_estimators, max_depth=max_depth, random_state=1, min_samples_leaf=min_samples_leaf, n_jobs=-1) \n",
    "rf.fit(X_full_train,y_full_train)\n",
    "\n",
    "y_pred_test = rf.predict_proba(X_test)[:,1]\n",
    "roc_auc_score_final = roc_auc_score(y_test, y_pred_test)\n",
    "roc_auc_score_final"
   ]
  },
  {
   "cell_type": "code",
   "execution_count": 32,
   "id": "5ed74761-0c3e-4894-8c48-62bcff20cd36",
   "metadata": {},
   "outputs": [
    {
     "data": {
      "text/plain": [
       "np.float64(0.007000000000000006)"
      ]
     },
     "execution_count": 32,
     "metadata": {},
     "output_type": "execute_result"
    }
   ],
   "source": [
    "np.round(roc_auc_score_tuning,3) - np.round(roc_auc_score_final,3)"
   ]
  },
  {
   "cell_type": "markdown",
   "id": "78e1ed7b-719e-44fd-8120-4debe3619e1d",
   "metadata": {},
   "source": [
    "### Final model evaluation\n",
    "\n",
    "Our final model has a lower score (0.622 vs 0.629) than the model we built with the training set alone: the difference is a little greater than 0.007. This is a fraction of a percent so we can say that our model didn't overfit and generalised quite well to unseen data.\n",
    "\n",
    "That being said, the `roc_auc_score` for this model is quite low. It is better than our logistic regression model, but only slightly."
   ]
  },
  {
   "cell_type": "markdown",
   "id": "9bcc1baf-c6bc-4bbd-8fb7-47dd3bb816b0",
   "metadata": {},
   "source": [
    "## Feature importance\n",
    "\n",
    "The Random Forest classifier provides an array of the relative feature importances: the higher the number, the more important the feature.\n",
    "\n",
    "With more time we could use this information to refine our features or drop some. It looks like the numerical columns and simple binary columns were more important: perhaps some of our categorical columns are unnecessary or perhaps they are too complex."
   ]
  },
  {
   "cell_type": "code",
   "execution_count": 33,
   "id": "3cbdae77-aedf-4973-9379-45324a56782e",
   "metadata": {},
   "outputs": [
    {
     "data": {
      "text/html": [
       "<div>\n",
       "<style scoped>\n",
       "    .dataframe tbody tr th:only-of-type {\n",
       "        vertical-align: middle;\n",
       "    }\n",
       "\n",
       "    .dataframe tbody tr th {\n",
       "        vertical-align: top;\n",
       "    }\n",
       "\n",
       "    .dataframe thead th {\n",
       "        text-align: right;\n",
       "    }\n",
       "</style>\n",
       "<table border=\"1\" class=\"dataframe\">\n",
       "  <thead>\n",
       "    <tr style=\"text-align: right;\">\n",
       "      <th></th>\n",
       "      <th>feature_name</th>\n",
       "      <th>feature_importance</th>\n",
       "    </tr>\n",
       "  </thead>\n",
       "  <tbody>\n",
       "    <tr>\n",
       "      <th>37</th>\n",
       "      <td>number_of_vehicles</td>\n",
       "      <td>0.201483</td>\n",
       "    </tr>\n",
       "    <tr>\n",
       "      <th>69</th>\n",
       "      <td>police_force=police_scotland</td>\n",
       "      <td>0.116638</td>\n",
       "    </tr>\n",
       "    <tr>\n",
       "      <th>62</th>\n",
       "      <td>police_force=metropolitan_police</td>\n",
       "      <td>0.052106</td>\n",
       "    </tr>\n",
       "    <tr>\n",
       "      <th>7</th>\n",
       "      <td>day_of_year</td>\n",
       "      <td>0.051950</td>\n",
       "    </tr>\n",
       "    <tr>\n",
       "      <th>93</th>\n",
       "      <td>speed_limit</td>\n",
       "      <td>0.049014</td>\n",
       "    </tr>\n",
       "    <tr>\n",
       "      <th>19</th>\n",
       "      <td>is_urban</td>\n",
       "      <td>0.031400</td>\n",
       "    </tr>\n",
       "    <tr>\n",
       "      <th>90</th>\n",
       "      <td>road_type=single_carriageway</td>\n",
       "      <td>0.026444</td>\n",
       "    </tr>\n",
       "    <tr>\n",
       "      <th>16</th>\n",
       "      <td>is_near_junction</td>\n",
       "      <td>0.025977</td>\n",
       "    </tr>\n",
       "    <tr>\n",
       "      <th>79</th>\n",
       "      <td>police_force=west_midlands</td>\n",
       "      <td>0.014235</td>\n",
       "    </tr>\n",
       "    <tr>\n",
       "      <th>87</th>\n",
       "      <td>road_type=dual_carriageway</td>\n",
       "      <td>0.013010</td>\n",
       "    </tr>\n",
       "  </tbody>\n",
       "</table>\n",
       "</div>"
      ],
      "text/plain": [
       "                        feature_name  feature_importance\n",
       "37                number_of_vehicles            0.201483\n",
       "69      police_force=police_scotland            0.116638\n",
       "62  police_force=metropolitan_police            0.052106\n",
       "7                        day_of_year            0.051950\n",
       "93                       speed_limit            0.049014\n",
       "19                          is_urban            0.031400\n",
       "90      road_type=single_carriageway            0.026444\n",
       "16                  is_near_junction            0.025977\n",
       "79        police_force=west_midlands            0.014235\n",
       "87        road_type=dual_carriageway            0.013010"
      ]
     },
     "execution_count": 33,
     "metadata": {},
     "output_type": "execute_result"
    }
   ],
   "source": [
    "feature_importance = rf.feature_importances_\n",
    "feature_name = dv.get_feature_names_out()\n",
    "\n",
    "df_feature_importance = pd.DataFrame({\"feature_name\": feature_name, \"feature_importance\": feature_importance})\n",
    "df_feature_importance.sort_values(by=\"feature_importance\", ascending=False).head(10)"
   ]
  },
  {
   "cell_type": "code",
   "execution_count": 34,
   "id": "c87ada56-dd19-435f-abf3-916a63e65820",
   "metadata": {},
   "outputs": [
    {
     "data": {
      "text/html": [
       "<div>\n",
       "<style scoped>\n",
       "    .dataframe tbody tr th:only-of-type {\n",
       "        vertical-align: middle;\n",
       "    }\n",
       "\n",
       "    .dataframe tbody tr th {\n",
       "        vertical-align: top;\n",
       "    }\n",
       "\n",
       "    .dataframe thead th {\n",
       "        text-align: right;\n",
       "    }\n",
       "</style>\n",
       "<table border=\"1\" class=\"dataframe\">\n",
       "  <thead>\n",
       "    <tr style=\"text-align: right;\">\n",
       "      <th></th>\n",
       "      <th>feature_name</th>\n",
       "      <th>feature_importance</th>\n",
       "    </tr>\n",
       "  </thead>\n",
       "  <tbody>\n",
       "    <tr>\n",
       "      <th>22</th>\n",
       "      <td>light_conditions=darkness___lights_unlit</td>\n",
       "      <td>0.000779</td>\n",
       "    </tr>\n",
       "    <tr>\n",
       "      <th>92</th>\n",
       "      <td>road_type=unknown</td>\n",
       "      <td>0.000578</td>\n",
       "    </tr>\n",
       "    <tr>\n",
       "      <th>125</th>\n",
       "      <td>weather_conditions=snowing_no_high_winds</td>\n",
       "      <td>0.000508</td>\n",
       "    </tr>\n",
       "    <tr>\n",
       "      <th>43</th>\n",
       "      <td>police_force=cleveland</td>\n",
       "      <td>0.000422</td>\n",
       "    </tr>\n",
       "    <tr>\n",
       "      <th>83</th>\n",
       "      <td>road_surface_conditions=flood_over_3cm._deep</td>\n",
       "      <td>0.000393</td>\n",
       "    </tr>\n",
       "    <tr>\n",
       "      <th>9</th>\n",
       "      <td>first_road_class=a(m)</td>\n",
       "      <td>0.000349</td>\n",
       "    </tr>\n",
       "    <tr>\n",
       "      <th>85</th>\n",
       "      <td>road_surface_conditions=snow</td>\n",
       "      <td>0.000301</td>\n",
       "    </tr>\n",
       "    <tr>\n",
       "      <th>120</th>\n",
       "      <td>weather_conditions=fog_or_mist</td>\n",
       "      <td>0.000282</td>\n",
       "    </tr>\n",
       "    <tr>\n",
       "      <th>124</th>\n",
       "      <td>weather_conditions=snowing__high_winds</td>\n",
       "      <td>0.000049</td>\n",
       "    </tr>\n",
       "    <tr>\n",
       "      <th>42</th>\n",
       "      <td>police_force=city_of_london</td>\n",
       "      <td>0.000031</td>\n",
       "    </tr>\n",
       "  </tbody>\n",
       "</table>\n",
       "</div>"
      ],
      "text/plain": [
       "                                     feature_name  feature_importance\n",
       "22       light_conditions=darkness___lights_unlit            0.000779\n",
       "92                              road_type=unknown            0.000578\n",
       "125      weather_conditions=snowing_no_high_winds            0.000508\n",
       "43                         police_force=cleveland            0.000422\n",
       "83   road_surface_conditions=flood_over_3cm._deep            0.000393\n",
       "9                           first_road_class=a(m)            0.000349\n",
       "85                   road_surface_conditions=snow            0.000301\n",
       "120                weather_conditions=fog_or_mist            0.000282\n",
       "124        weather_conditions=snowing__high_winds            0.000049\n",
       "42                    police_force=city_of_london            0.000031"
      ]
     },
     "execution_count": 34,
     "metadata": {},
     "output_type": "execute_result"
    }
   ],
   "source": [
    "df_feature_importance.sort_values(by=\"feature_importance\", ascending=False).tail(10)"
   ]
  }
 ],
 "metadata": {
  "kernelspec": {
   "display_name": "collision_severity",
   "language": "python",
   "name": "collision_severity"
  },
  "language_info": {
   "codemirror_mode": {
    "name": "ipython",
    "version": 3
   },
   "file_extension": ".py",
   "mimetype": "text/x-python",
   "name": "python",
   "nbconvert_exporter": "python",
   "pygments_lexer": "ipython3",
   "version": "3.13.0"
  }
 },
 "nbformat": 4,
 "nbformat_minor": 5
}
